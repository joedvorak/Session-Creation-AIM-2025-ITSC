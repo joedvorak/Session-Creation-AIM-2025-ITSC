{
 "cells": [
  {
   "cell_type": "markdown",
   "id": "dcda5e6d",
   "metadata": {},
   "source": [
    "# Methods\n",
    "\n",
    "This file contains the methods that were used to generate the associated research. This directory also includes a data visualization App that can be deployed to Streamlit to see the results of the process. \n",
    "\n",
    "The raw initial submission data is not shared in this repository. The intial data included the abstracts which were not labeled for public release. The data available here includes the initial datset without the abstracts (itsc_clustered_presentations_no_abstracts.pkl). The similarities (itsc_oral_app_similarities.pkl) produced by the text embedding model from the titles and abstracts are included. \n",
    "\n"
   ]
  },
  {
   "cell_type": "markdown",
   "id": "a75a2b90",
   "metadata": {},
   "source": [
    "# Load Data\n",
    "The primary data source is the spreadsheet data file from the presentation organization portal. It is also possible to load the data after it has been separated into oral and poster dataframes.\n",
    "\n",
    "The abstracts were initially collected for session organization and not for public publication. This Jupyter notebook displays the steps used to create embeddings from the presentation titles and abstracts. However, since the orginal data is not available for inclusion in this repository, this notebook also enables loading the presentation data without the abstracts. This includes the presentation data and the embeddings created from those abstracts. Loading the embeddings also enables much quicker processing and data exploration as the embeddings take many minutes to calculate.\n",
    "\n",
    "## Primary Data Source"
   ]
  },
  {
   "cell_type": "code",
   "execution_count": 1,
   "id": "89ada82a",
   "metadata": {},
   "outputs": [],
   "source": [
    "import pandas as pd\n",
    "\n",
    "df = pd.read_excel(\"1.29.25 Abstracts.xlsx\")\n",
    "df = df.rename(columns={'Session':'Original Session',\n",
    "                        'Submission Name':'Title',\n",
    "                        'Abstract-Character max 4000-Abstracts will only be used to evaluate quality of talk and topic. They will not be published or able to be edited later.':'Abstract',\n",
    "                        'Submission ID - 7 digits':'Abstract ID',\n",
    "                        'Technical Community':'Original Technical Community',\n",
    "                        'Profile: First Name':'First Name',\n",
    "                        'Profile: Last Name':'Last Name',\n",
    "                        })\n"
   ]
  },
  {
   "cell_type": "code",
   "execution_count": 2,
   "id": "287b6286",
   "metadata": {},
   "outputs": [],
   "source": [
    "# Drop any presentations that are missing an abstrct or title\n",
    "df.dropna(subset=['Title','Abstract'], inplace=True)"
   ]
  },
  {
   "cell_type": "code",
   "execution_count": 3,
   "id": "117f4b33",
   "metadata": {},
   "outputs": [],
   "source": [
    "import pandas as pd\n",
    "\n",
    "# Before beginning, make sure all presentations have a session assigned. Unassigned presentations are given the session name, unassigned.\n",
    "\n",
    "df['Original Session'] = df['Original Session'].fillna('UNASSIGNED')"
   ]
  },
  {
   "cell_type": "code",
   "execution_count": 4,
   "id": "b123c2e5",
   "metadata": {},
   "outputs": [
    {
     "name": "stdout",
     "output_type": "stream",
     "text": [
      "Title and Abstract: \n",
      "0    Repurposing of low-value biomass into engineer...\n",
      "1    AI Tools and Text Embedding for Session Organi...\n",
      "2    Automatic ASABE AIM Session Creation using Mac...\n",
      "3    Soil and Wastewater Effluent Properties of Oil...\n",
      "4    MODELLING GULLIES FORMED FROM RILLS : An exper...\n",
      "Name: Title and Abstract, dtype: object\n"
     ]
    }
   ],
   "source": [
    "# Combine Titles and Abstracts with a semicolon in between. This should be the same as + but .agg() handles empty fields or fields that have non-text entries.\n",
    "df['Title and Abstract'] = df[['Title', 'Abstract',]].agg(': '.join, axis=1)\n",
    "print(f\"Title and Abstract: \\n{df['Title and Abstract'].head()}\")"
   ]
  },
  {
   "cell_type": "code",
   "execution_count": 5,
   "id": "99e26661",
   "metadata": {},
   "outputs": [],
   "source": [
    "# Select all ITSC presentations\n",
    "itsc_df = df[df['Original Technical Community'].str.contains('ITSC-Information Technology, Sensors & Control Systems', case=False, na=False)].copy()\n",
    "\n",
    "# Select the oral presentations only\n",
    "itsc_oral_df = itsc_df[~itsc_df['Original Session'].str.contains('POSTER', case=False, na=False)].copy()"
   ]
  },
  {
   "cell_type": "markdown",
   "id": "68646250",
   "metadata": {},
   "source": [
    "### Save dataframes for accessing without the spreadsheet."
   ]
  },
  {
   "cell_type": "code",
   "execution_count": 6,
   "id": "959e0095",
   "metadata": {},
   "outputs": [],
   "source": [
    "import pickle\n",
    "with open('df_doc.pkl', 'wb') as file:\n",
    "    pickle.dump(df, file)\n",
    "with open('itsc_oral_df_doc.pkl', 'wb') as file:\n",
    "    pickle.dump(itsc_oral_df, file)"
   ]
  },
  {
   "cell_type": "markdown",
   "id": "83532397",
   "metadata": {},
   "source": [
    "## Create Embeddings and Similarities\n",
    "### Model: cde-small-v1"
   ]
  },
  {
   "cell_type": "code",
   "execution_count": 7,
   "id": "5d9280d3",
   "metadata": {},
   "outputs": [
    {
     "name": "stderr",
     "output_type": "stream",
     "text": [
      "c:\\py-venvs\\text_sort\\Lib\\site-packages\\tqdm\\auto.py:21: TqdmWarning: IProgress not found. Please update jupyter and ipywidgets. See https://ipywidgets.readthedocs.io/en/stable/user_install.html\n",
      "  from .autonotebook import tqdm as notebook_tqdm\n",
      "!!!!!!!!!!!!megablocks not available, using torch.matmul instead\n",
      "<All keys matched successfully>\n",
      "<All keys matched successfully>\n"
     ]
    },
    {
     "name": "stdout",
     "output_type": "stream",
     "text": [
      "Warning: cde-small-v1 is deprecated as of January 13th, 2025 and may not work correctly with later versions of FlashAttention. Please migrate to cde-small-v2.\n",
      "Model Card:\n",
      " tags:\n",
      "- sentence-transformers\n",
      "- sentence-similarity\n",
      "- feature-extraction\n",
      "pipeline_tag: sentence-similarity\n",
      "library_name: sentence-transformers\n",
      "Similarity Function (None defaults to cosine):  cosine\n",
      "Max Token Length: 512\n"
     ]
    }
   ],
   "source": [
    "from sentence_transformers import SentenceTransformer\n",
    "# Line below should be uncommented to run. It must be commented out for Git commit as its output is interpreted as containing a secret. \n",
    "cde_embeddings_model = SentenceTransformer('jxm/cde-small-v1', trust_remote_code=True)\n",
    "print(\"Model Card:\\n\", cde_embeddings_model.model_card_data)\n",
    "print(\"Similarity Function (None defaults to cosine): \", cde_embeddings_model.similarity_fn_name)\n",
    "print(\"Max Token Length:\", cde_embeddings_model.tokenizer.model_max_length)"
   ]
  },
  {
   "cell_type": "code",
   "execution_count": 8,
   "id": "3cae5045",
   "metadata": {},
   "outputs": [],
   "source": [
    "# Text to embed\n",
    "doc_topics = itsc_oral_df['Title and Abstract'].tolist()"
   ]
  },
  {
   "cell_type": "code",
   "execution_count": 9,
   "id": "8b0d237c",
   "metadata": {},
   "outputs": [
    {
     "name": "stderr",
     "output_type": "stream",
     "text": [
      "Token indices sequence length is longer than the specified maximum sequence length for this model (720 > 512). Running this sequence through the model will result in indexing errors\n"
     ]
    },
    {
     "name": "stdout",
     "output_type": "stream",
     "text": [
      "Tokenizer maximum sequence length: 512\n"
     ]
    },
    {
     "data": {
      "image/png": "[encoded data removed]",
      "text/plain": [
       "<Figure size 640x480 with 1 Axes>"
      ]
     },
     "metadata": {},
     "output_type": "display_data"
    }
   ],
   "source": [
    "cde_tokenizer = cde_embeddings_model.tokenizer\n",
    "cde_max_length = cde_tokenizer.model_max_length\n",
    "print(f\"Tokenizer maximum sequence length: {cde_max_length}\")\n",
    "cde_tokenized_lengths = [len(cde_tokenizer.tokenize(text)) for text in doc_topics]\n",
    "cde_token_out = [cde_tokenizer.tokenize(text, truncation=True, max_length=cde_max_length) for text in doc_topics]\n",
    "cde_concatenated_output = [\" \".join(tokens) for tokens in cde_token_out]  # List of strings\n",
    "\n",
    "import matplotlib.pyplot as plt\n",
    "# Plot length  distribution\n",
    "plt.hist(cde_tokenized_lengths, bins=20, edgecolor='black')\n",
    "plt.axvline(x=cde_max_length, color='r',\n",
    "            linestyle='--', label='Max Tokenizer Length')\n",
    "plt.title('Distribution of Lengths')\n",
    "plt.xlabel('Token Length')\n",
    "plt.ylabel('Frequency')\n",
    "plt.legend()\n",
    "plt.show()"
   ]
  },
  {
   "cell_type": "markdown",
   "id": "3cc67a3a",
   "metadata": {},
   "source": [
    "### Embed Presentations"
   ]
  },
  {
   "cell_type": "markdown",
   "id": "d6e0b660",
   "metadata": {},
   "source": [
    "Create the dataset embeddings as required by this model."
   ]
  },
  {
   "cell_type": "code",
   "execution_count": 10,
   "id": "6fb2abd3",
   "metadata": {},
   "outputs": [
    {
     "name": "stdout",
     "output_type": "stream",
     "text": [
      "Titles Embedded: 512, Length of Vectors: 768\n",
      "Dataset Encoding time: 26.8804 seconds\n"
     ]
    }
   ],
   "source": [
    "import time\n",
    "import random\n",
    "\n",
    "minicorpus_size = cde_embeddings_model[0].config.transductive_corpus_size\n",
    "# Get the unique elements from the original population\n",
    "#    Using list(set(...)) ensures uniqueness and handles potential duplicates in doc_topics\n",
    "unique_docs = list(set(doc_topics))\n",
    "num_unique = len(unique_docs)\n",
    "if minicorpus_size < num_unique:\n",
    "    # Put some strings here that are representative of your corpus, for example by calling random.sample(corpus, k=minicorpus_size)\n",
    "    minicorpus_docs = random.sample(doc_topics, k=minicorpus_size)\n",
    "else: \n",
    "    # Start the minicorpus with all unique documents\n",
    "    minicorpus_docs = list(unique_docs) # Make a copy to start\n",
    "\n",
    "    # Calculate how many more documents are needed\n",
    "    remaining_needed = minicorpus_size - num_unique\n",
    "\n",
    "    # If more are needed, sample *with replacement* from the *original* population\n",
    "    if remaining_needed > 0:\n",
    "        # Sample the remaining items randomly WITH replacement from the original doc_topics\n",
    "        additional_docs = random.choices(doc_topics, k=remaining_needed)\n",
    "        # Add these to the minicorpus\n",
    "        minicorpus_docs.extend(additional_docs)\n",
    "assert len(minicorpus_docs) == minicorpus_size # You must use exactly this many documents in the minicorpus. You can oversample if your corpus is smaller.\n",
    "\n",
    "\n",
    "start_time = time.time()\n",
    "cde_dataset_embeddings = cde_embeddings_model.encode(\n",
    "    minicorpus_docs,\n",
    "    prompt_name=\"document\",\n",
    "    convert_to_tensor=True\n",
    ")\n",
    "end_time = time.time()\n",
    "cde_dataset_elapsed_time = end_time - start_time\n",
    "print(f\"Titles Embedded: {len(cde_dataset_embeddings)}, Length of Vectors: {len(cde_dataset_embeddings[0])}\")\n",
    "print(f\"Dataset Encoding time: {cde_dataset_elapsed_time:.4f} seconds\")"
   ]
  },
  {
   "cell_type": "markdown",
   "id": "24d8792d",
   "metadata": {},
   "source": [
    "Then perform the main embedding"
   ]
  },
  {
   "cell_type": "code",
   "execution_count": 11,
   "id": "51b080ba",
   "metadata": {},
   "outputs": [
    {
     "name": "stdout",
     "output_type": "stream",
     "text": [
      "Titles Embedded: 340, Length of Vectors: 768\n",
      "Document Encoding time: 216.8433 seconds\n",
      "Total Encoding time: 243.7237 seconds\n"
     ]
    }
   ],
   "source": [
    "start_time = time.time()\n",
    "cde_doc_embeddings = cde_embeddings_model.encode(\n",
    "    doc_topics,\n",
    "    prompt_name=\"document\",\n",
    "    dataset_embeddings=cde_dataset_embeddings,\n",
    "    convert_to_tensor=True,\n",
    ")\n",
    "end_time = time.time()\n",
    "cde_doc_elapsed_time = end_time - start_time\n",
    "print(f\"Titles Embedded: {len(cde_doc_embeddings)}, Length of Vectors: {len(cde_doc_embeddings[0])}\")\n",
    "print(f\"Document Encoding time: {cde_doc_elapsed_time:.4f} seconds\")\n",
    "cde_elapsed_time = cde_doc_elapsed_time+cde_dataset_elapsed_time\n",
    "print(f\"Total Encoding time: {(cde_elapsed_time):.4f} seconds\")"
   ]
  },
  {
   "cell_type": "code",
   "execution_count": 13,
   "id": "838f8832",
   "metadata": {},
   "outputs": [],
   "source": [
    "cde_similarities = cde_embeddings_model.similarity(cde_doc_embeddings, cde_doc_embeddings)\n",
    "# Convert similarity matrix to a dataframe (will use dataframe as it is easier to drop index values)\n",
    "itsc_oral_similarities_df = pd.DataFrame(cde_similarities.cpu(), index = itsc_oral_df.index, columns=itsc_oral_df.index)\n",
    "itsc_oral_embeddings_df = pd.DataFrame(cde_doc_embeddings.cpu(), index = itsc_oral_df.index)"
   ]
  },
  {
   "cell_type": "markdown",
   "id": "e1e2ba2e",
   "metadata": {},
   "source": [
    "Save the similarities as a dataframe and as a tensor pickle"
   ]
  },
  {
   "cell_type": "code",
   "execution_count": 14,
   "id": "b8fc02cc",
   "metadata": {},
   "outputs": [],
   "source": [
    "import torch\n",
    "itsc_oral_similarities_df.to_pickle('itsc_similarities.pkl')\n",
    "itsc_oral_embeddings_df.to_pickle('itsc_embeddings.pkl')\n",
    "torch.save(cde_doc_embeddings, 'itsc_embeddings.pt')\n",
    "torch.save(cde_similarities, 'itsc_similarities.pt')"
   ]
  },
  {
   "cell_type": "markdown",
   "id": "932f9bb8",
   "metadata": {},
   "source": [
    "## Load Data\n",
    "This enables starting at this point without re-embedding the presentations.\n",
    "Code can be commented out to skip."
   ]
  },
  {
   "cell_type": "code",
   "execution_count": 1,
   "id": "f33dda7d",
   "metadata": {},
   "outputs": [],
   "source": [
    "import pickle\n",
    "import torch\n",
    "import pandas as pd\n",
    "\n",
    "# For loading base oral dataframe:\n",
    "with open('df_doc.pkl', 'rb') as file:\n",
    "    df = pickle.load(file)\n",
    "with open('itsc_oral_df_doc.pkl', 'rb') as file:\n",
    "    itsc_oral_df = pickle.load(file)\n",
    "doc_topics = itsc_oral_df['Title and Abstract'].tolist()\n",
    "\n",
    "# Load the similarity matrices (will use dataframe as it is easier to manage)\n",
    "# cde_similarities = torch.load('itsc_embeddings.pt', weights_only=False)\n",
    "itsc_oral_similarities_df = pd.read_pickle('itsc_similarities.pkl')\n",
    "itsc_oral_embeddings_df = pd.read_pickle('itsc_embeddings.pkl')"
   ]
  },
  {
   "cell_type": "markdown",
   "id": "deebdcd9",
   "metadata": {},
   "source": [
    "## Create Dataframes\n",
    "Presentations and the associated Similarity matrices need matching indices.\n",
    "\n",
    "Find duplicates or nearly identical presentations. Some presentations appear to have been resubmissions to correct typos. They are not strictly duplicates, but should not be considered any further. They would be removed in manual sorting anyhow."
   ]
  },
  {
   "cell_type": "code",
   "execution_count": 2,
   "id": "ba5c80d1",
   "metadata": {},
   "outputs": [
    {
     "name": "stdout",
     "output_type": "stream",
     "text": [
      "Original number of oral presentations: 340\n",
      "Original shape of similarities matrix: (340, 340)\n",
      "Original shape of embeddings matrix: (340, 768)\n",
      "\n",
      "Found 4 near-duplicate presentations to remove (keeping highest index).\n",
      "Indices to remove: [221, 223, 497, 762]\n",
      "\n",
      "Final number of oral presentations: 336\n",
      "Final shape of similarities matrix: (336, 336)\n",
      "Final shape of embeddings matrix: (336, 768)\n"
     ]
    }
   ],
   "source": [
    "import pandas as pd\n",
    "import numpy as np\n",
    "\n",
    "# --- Ensure indices are aligned across these three dataframes ---\n",
    "\n",
    "print(f\"Original number of oral presentations: {len(itsc_oral_df)}\")\n",
    "print(f\"Original shape of similarities matrix: {itsc_oral_similarities_df.shape}\")\n",
    "print(f\"Original shape of embeddings matrix: {itsc_oral_embeddings_df.shape}\")\n",
    "\n",
    "# Define the similarity threshold for considering items as near duplicates\n",
    "# Difference < 0.01 means Similarity >= 0.99\n",
    "similarity_threshold = 0.99\n",
    "\n",
    "# Get the indices from the dataframe (important for referencing)\n",
    "presentation_indices = itsc_oral_similarities_df.index.tolist()\n",
    "index_map = {i: idx for i, idx in enumerate(presentation_indices)} # Map position to actual index\n",
    "\n",
    "# Create a set to store the indices we want to REMOVE\n",
    "indices_to_remove = set()\n",
    "\n",
    "# Iterate through the upper triangle of the similarity matrix to avoid redundant checks and self-comparison\n",
    "# Use iloc for positional indexing which is often faster for loops\n",
    "similarity_matrix_np = itsc_oral_similarities_df.values # Get numpy array for faster access\n",
    "num_items = similarity_matrix_np.shape[0]\n",
    "\n",
    "for i in range(num_items):\n",
    "    for j in range(i + 1, num_items): # Start j from i+1 to get upper triangle\n",
    "        similarity_score = similarity_matrix_np[i, j]\n",
    "\n",
    "        if similarity_score >= similarity_threshold:\n",
    "            # Found a near-duplicate pair\n",
    "            index_i = index_map[i] # Get the actual index value\n",
    "            index_j = index_map[j] # Get the actual index value\n",
    "\n",
    "            # Identify the index to remove (the one with the lower value)\n",
    "            index_to_drop = min(index_i, index_j)\n",
    "            index_to_keep = max(index_i, index_j)\n",
    "\n",
    "            # Add the lower index to the set for removal\n",
    "            indices_to_remove.add(index_to_drop)\n",
    "            # Optional: print information about the identified pair\n",
    "            # print(f\"Near duplicate found: Index {index_i} and Index {index_j} (Similarity: {similarity_score:.4f}). Keeping {index_to_keep}, removing {index_to_drop}.\")\n",
    "\n",
    "\n",
    "# Convert the set of indices to remove into a list\n",
    "indices_to_remove_list = sorted(list(indices_to_remove)) # Sorting is optional but good practice\n",
    "\n",
    "print(f\"\\nFound {len(indices_to_remove_list)} near-duplicate presentations to remove (keeping highest index).\")\n",
    "print(f\"Indices to remove: {indices_to_remove_list}\")\n",
    "\n",
    "# --- Perform the removal ---\n",
    "\n",
    "# Keep only the rows whose indices are NOT in the removal list\n",
    "itsc_oral_df = itsc_oral_df.drop(index=indices_to_remove_list)\n",
    "itsc_oral_embeddings_df = itsc_oral_embeddings_df.drop(index=indices_to_remove_list)\n",
    "\n",
    "# For the square similarity matrix, remove both rows and columns\n",
    "itsc_oral_similarities_df = itsc_oral_similarities_df.drop(index=indices_to_remove_list, columns=indices_to_remove_list)\n",
    "\n",
    "# --- Verification ---\n",
    "print(f\"\\nFinal number of oral presentations: {len(itsc_oral_df)}\")\n",
    "print(f\"Final shape of similarities matrix: {itsc_oral_similarities_df.shape}\")\n",
    "print(f\"Final shape of embeddings matrix: {itsc_oral_embeddings_df.shape}\")\n",
    "\n",
    "# Verify indices still match\n",
    "if not itsc_oral_df.index.equals(itsc_oral_embeddings_df.index):\n",
    "     print(\"Warning: Indices of itsc_oral_df and itsc_oral_embeddings_df do not match!\")\n",
    "if not itsc_oral_df.index.equals(itsc_oral_similarities_df.index):\n",
    "     print(\"Warning: Row indices of itsc_oral_df and itsc_oral_similarities_df do not match!\")\n",
    "if not itsc_oral_similarities_df.index.equals(itsc_oral_similarities_df.columns):\n",
    "     print(\"Warning: Row and Column indices of itsc_oral_similarities_df do not match!\")\n",
    "\n",
    "# You can now use itsc_oral_df, itsc_oral_embeddings_df, and itsc_oral_similarities_df"
   ]
  },
  {
   "cell_type": "code",
   "execution_count": 3,
   "id": "4e0db3b9",
   "metadata": {},
   "outputs": [
    {
     "name": "stdout",
     "output_type": "stream",
     "text": [
      "Empty DataFrame\n",
      "Columns: [Original Session, Title, Abstract, Abstract ID, Original Technical Community, First Name, Last Name, Title and Abstract]\n",
      "Index: []\n"
     ]
    }
   ],
   "source": [
    "# Check for duplicate rows based on all columns\n",
    "duplicates_check = itsc_oral_df.duplicated(subset=['Title and Abstract'])\n",
    "\n",
    "# See which rows are marked as duplicates\n",
    "print(itsc_oral_df[duplicates_check])"
   ]
  },
  {
   "cell_type": "code",
   "execution_count": 4,
   "id": "075c52c4",
   "metadata": {},
   "outputs": [
    {
     "data": {
      "text/plain": [
       "True"
      ]
     },
     "execution_count": 4,
     "metadata": {},
     "output_type": "execute_result"
    }
   ],
   "source": [
    "# Check to make sure indicies are the same\n",
    "all(itsc_oral_df.index == itsc_oral_similarities_df.index)"
   ]
  },
  {
   "cell_type": "markdown",
   "id": "d3f71a3f",
   "metadata": {},
   "source": [
    "Since the dataframes that are being processed are selections from other dataframes, not all indices are present. Reset indices for the presentations and the similarity dataframes. Then convert the similarity dataframes to numpy arrays and tensors for processing. The array indices for the similarity numpy arrays match the row indices for the presentation dataframe."
   ]
  },
  {
   "cell_type": "code",
   "execution_count": 5,
   "id": "6755babd",
   "metadata": {},
   "outputs": [],
   "source": [
    "itsc_oral_df = itsc_oral_df.reset_index()\n",
    "itsc_oral_similarities_df.reset_index(drop=True, inplace=True)\n",
    "itsc_oral_embeddings_df.reset_index(drop=True, inplace=True)\n",
    "# Convert the similarities DataFrame to a NumPy array (this will drop/reset the index and columns)\n",
    "itsc_oral_similarities_np = itsc_oral_similarities_df.values\n",
    "# Convert the NumPy array to a PyTorch tensor\n",
    "itsc_oral_similarities_tensor = torch.tensor(itsc_oral_similarities_np, dtype=torch.float32)"
   ]
  },
  {
   "cell_type": "markdown",
   "id": "c8d50ef7",
   "metadata": {},
   "source": [
    "### Save the reindexed dataframe for use in a data exploration app."
   ]
  },
  {
   "cell_type": "code",
   "execution_count": 6,
   "id": "a252cea8",
   "metadata": {},
   "outputs": [],
   "source": [
    "itsc_oral_similarities_app_df = pd.DataFrame(itsc_oral_similarities_tensor.cpu(), index = itsc_oral_df.index, columns=itsc_oral_df.index)\n",
    "itsc_oral_similarities_app_df.to_pickle('itsc_oral_app_similarities.pkl')\n",
    "itsc_oral_embeddings_df.to_pickle('itsc_oral_app_embeddings.pkl')"
   ]
  },
  {
   "cell_type": "markdown",
   "id": "f7418117",
   "metadata": {},
   "source": [
    "# Session Analysis Functions"
   ]
  },
  {
   "cell_type": "code",
   "execution_count": 4,
   "id": "41fc2bd2",
   "metadata": {},
   "outputs": [],
   "source": [
    "# These functions are used to build cluster lists and calculate cluster similarities from the original dataframes for analysis and plotting.\n",
    "# The analysis functions expect this format as they were designed to work with the output from the clustering algorithms.\n",
    "import numpy as np\n",
    "import pandas as pd\n",
    "\n",
    "def calculate_cluster_similarities(similarity_matrix, labels):\n",
    "    \"\"\"\n",
    "    Calculate average similarity of each document with others in its cluster\n",
    "    \n",
    "    Returns:\n",
    "    - document_similarities: Average similarity of each document with its cluster\n",
    "    - cluster_avg_similarities: Average similarity for each cluster\n",
    "    \"\"\"\n",
    "    n_samples = len(labels)\n",
    "    document_similarities = np.zeros(n_samples)\n",
    "    cluster_avg_similarities = {}\n",
    "    \n",
    "    for i in range(n_samples):\n",
    "        # Get indices of other documents in the same cluster\n",
    "        cluster_idx = np.where(labels == labels[i])[0]\n",
    "        cluster_idx = cluster_idx[cluster_idx != i]  # Exclude self\n",
    "        \n",
    "        if len(cluster_idx) > 0:  # If there are other documents in the cluster\n",
    "            # Calculate average similarity with other documents in cluster\n",
    "            document_similarities[i] = np.mean(similarity_matrix[i, cluster_idx])\n",
    "        \n",
    "    # Calculate average similarity for each cluster\n",
    "    unique_clusters = np.unique(labels)\n",
    "    for cluster in unique_clusters:\n",
    "        cluster_mask = labels == cluster\n",
    "        cluster_docs = np.where(cluster_mask)[0]\n",
    "        \n",
    "        if len(cluster_docs) > 1:\n",
    "            cluster_similarities = []\n",
    "            for doc in cluster_docs:\n",
    "                other_docs = cluster_docs[cluster_docs != doc]\n",
    "                avg_sim = np.mean(similarity_matrix[doc, other_docs])\n",
    "                cluster_similarities.append(avg_sim)\n",
    "            cluster_avg_similarities[cluster] = np.mean(cluster_similarities)\n",
    "        else:\n",
    "            cluster_avg_similarities[cluster] = 0.0\n",
    "            \n",
    "    return document_similarities, cluster_avg_similarities\n",
    "\n",
    "\n",
    "def create_session_index_lists(oral_df, session_column='Original Session'):\n",
    "    \"\"\"\n",
    "    Creates a list of lists, where each inner list contains the indices of presentations\n",
    "    assigned to a particular session.\n",
    "\n",
    "    Args:\n",
    "        oral_df (pd.DataFrame): The DataFrame containing presentation data.\n",
    "        session_column (str): The name of the column containing session names.\n",
    "\n",
    "    Returns:\n",
    "        list: A list of lists, where each inner list contains indices for a session.\n",
    "        dict: A dictionary mapping session names to their corresponding indices.\n",
    "    \"\"\"\n",
    "    # Reset index to ensure consistent indexing (similarity tensor is re-indexed)\n",
    "    oral_df.reset_index(drop=True, inplace=True)  \n",
    "    session_indices = {}\n",
    "    for index, session in oral_df[session_column].items():\n",
    "        if session not in session_indices:\n",
    "            session_indices[session] = []\n",
    "        session_indices[session].append(index)\n",
    "\n",
    "    return list(session_indices.values()), session_indices"
   ]
  },
  {
   "cell_type": "markdown",
   "id": "a77b3729",
   "metadata": {},
   "source": [
    "## Basic Similarity Characteristics"
   ]
  },
  {
   "cell_type": "code",
   "execution_count": 9,
   "id": "dbd254b0",
   "metadata": {},
   "outputs": [
    {
     "name": "stdout",
     "output_type": "stream",
     "text": [
      "Average Similarity for all presentations to each other: 0.5448\n",
      "Minimum Similarity for any two presentations: 0.2171\n",
      "Maximum Similarity for any two presentations: 0.9268\n"
     ]
    }
   ],
   "source": [
    "# Create a mask that is True for off-diagonal elements\n",
    "mask = np.ones(itsc_oral_similarities_tensor.cpu().numpy().shape, dtype=bool)\n",
    "np.fill_diagonal(mask, False)\n",
    "average_similarity = np.mean(itsc_oral_similarities_tensor.cpu().numpy()[mask])\n",
    "print(f\"Average Similarity for all presentations to each other: {average_similarity:.4f}\")\n",
    "min_similarity = np.min(itsc_oral_similarities_tensor.cpu().numpy()[mask])\n",
    "print(f\"Minimum Similarity for any two presentations: {min_similarity:.4f}\")\n",
    "max_similarity = np.max(itsc_oral_similarities_tensor.cpu().numpy()[mask])\n",
    "print(f\"Maximum Similarity for any two presentations: {max_similarity:.4f}\")"
   ]
  },
  {
   "cell_type": "code",
   "execution_count": 3,
   "id": "97cd5170",
   "metadata": {},
   "outputs": [],
   "source": [
    "def analyze_sessions(sessions_dict, similarities):\n",
    "    \"\"\"\n",
    "    Calculates statistics for sessions using a dictionary and a NumPy similarity matrix.\n",
    "\n",
    "    Args:\n",
    "        sessions_dict (dict): A dictionary where keys are session names \n",
    "                              and values are lists of indices of items in that session.\n",
    "        similarities (np.ndarray): The cosine similarity matrix as a NumPy array.\n",
    "\n",
    "    Returns:\n",
    "        dict: A dictionary containing the calculated statistics:\n",
    "              - 'avg_similarity': Overall average similarity across sessions with > 1 item.\n",
    "              - 'min_session_similarity': Minimum average similarity found in any session with > 1 item.\n",
    "              - 'num_sessions': Total number of sessions.\n",
    "              - 'clusters_gt1': Number of sessions with more than one item.\n",
    "              - 'session_sizes': A dictionary mapping session names to their sizes.\n",
    "              - 'similarity_values': A dictionary mapping session names to their average internal similarity.\n",
    "    \"\"\"\n",
    "    # Initialize dictionaries to store results for each session\n",
    "    session_similarities = {}\n",
    "    session_sizes = {}\n",
    "    clusters_gt1 = 0 # Counter for sessions with more than one item\n",
    "\n",
    "    # Iterate through each session in the input dictionary\n",
    "    for session_name, session_indices in sessions_dict.items():\n",
    "        # Store the size (number of items) of the current session\n",
    "        session_sizes[session_name] = len(session_indices)\n",
    "        \n",
    "        # Calculate similarity only for sessions with more than one item\n",
    "        if len(session_indices) > 1:\n",
    "            clusters_gt1 += 1 # Increment the counter for sessions > size 1\n",
    "            \n",
    "            # Use numpy advanced indexing (np.ix_) to extract the submatrix \n",
    "            # corresponding to the current session's indices\n",
    "            session_similarity_matrix = similarities[np.ix_(session_indices, session_indices)]\n",
    "            \n",
    "            # Calculate the sum of the upper triangle of the submatrix (excluding the diagonal)\n",
    "            # This sums the similarities between unique pairs within the session\n",
    "            similarity_sum = np.sum(np.triu(session_similarity_matrix, k=1))\n",
    "            \n",
    "            # Calculate the number of unique pairs in the session\n",
    "            num_pairs = len(session_indices) * (len(session_indices) - 1) / 2\n",
    "            \n",
    "            # Calculate the average similarity for the session\n",
    "            # Handle the case where num_pairs might be zero (although guarded by len > 1 check)\n",
    "            avg_session_similarity = similarity_sum / num_pairs if num_pairs > 0 else 0.0\n",
    "            \n",
    "            # Store the calculated average similarity for the session\n",
    "            session_similarities[session_name] = avg_session_similarity\n",
    "            \n",
    "        # For sessions with only one item, similarity is not meaningful (set to 0)\n",
    "        elif len(session_indices) == 1:\n",
    "            session_similarities[session_name] = 0.0 \n",
    "        # For empty sessions, similarity is 0\n",
    "        else:\n",
    "            session_similarities[session_name] = 0.0 \n",
    "\n",
    "    # Calculate the overall average similarity and minimum similarity across sessions with > 1 item.\n",
    "    # Iterate through the calculated similarities, checking the original session size.\n",
    "    valid_similarities = [\n",
    "        sim for session_name, sim in session_similarities.items() \n",
    "        if len(sessions_dict.get(session_name, [])) > 1 \n",
    "    ] # Filter to include only similarities from sessions with more than one item.\n",
    "    \n",
    "    overall_avg_similarity = np.mean(valid_similarities) if valid_similarities else 0.0\n",
    "    min_session_similarity = min(valid_similarities) if valid_similarities else 0.0\n",
    "\n",
    "    # Compile the results into a dictionary\n",
    "    results = {\n",
    "        'avg_similarity': overall_avg_similarity,\n",
    "        'min_session_similarity': min_session_similarity,\n",
    "        'num_sessions': len(sessions_dict),\n",
    "        'clusters_gt1': clusters_gt1,\n",
    "        'session_sizes': session_sizes, # Dictionary of session_name: size\n",
    "        'similarity_values': session_similarities, # Dictionary of session_name: avg_similarity\n",
    "    }\n",
    "\n",
    "    return results\n",
    "\n"
   ]
  },
  {
   "cell_type": "markdown",
   "id": "cfb6151e",
   "metadata": {},
   "source": [
    "# Original Presentation Distribution"
   ]
  },
  {
   "cell_type": "code",
   "execution_count": 11,
   "id": "2ac9bdce",
   "metadata": {},
   "outputs": [
    {
     "name": "stdout",
     "output_type": "stream",
     "text": [
      "The average session similarity after submission is 0.5751040464355832\n",
      "Average Session Similarity*: 0.604\n",
      "Minimum Session Similarity*: 0.511\n",
      "Number of Sessions: 21\n",
      "Number of sessions with more than 1 item: 20\n",
      "Presentations placed in sessions: 336\n",
      "*Only calculated using sessions with more than 1 item.\n"
     ]
    },
    {
     "data": {
      "image/png": "[encoded data removed]",
      "text/plain": [
       "<Figure size 600x400 with 1 Axes>"
      ]
     },
     "metadata": {},
     "output_type": "display_data"
    },
    {
     "data": {
      "image/png": "[encoded data removed]",
      "text/plain": [
       "<Figure size 600x400 with 1 Axes>"
      ]
     },
     "metadata": {},
     "output_type": "display_data"
    }
   ],
   "source": [
    "\n",
    "pres_session_similarity, session_similarity = calculate_cluster_similarities(itsc_oral_similarities_tensor.cpu().numpy(), np.array(itsc_oral_df['Original Session']))\n",
    "print(f\"The average session similarity after submission is {np.mean(list(session_similarity.values()))}\")\n",
    "original_session_list, original_session_dict = create_session_index_lists(itsc_oral_df)\n",
    "original_analysis_results = analyze_sessions(original_session_dict, itsc_oral_similarities_tensor.cpu().numpy())\n",
    "print(f\"Average Session Similarity*: {original_analysis_results['avg_similarity']:.3f}\")\n",
    "print(f\"Minimum Session Similarity*: {original_analysis_results['min_session_similarity']:.3f}\")\n",
    "print(f\"Number of Sessions: {original_analysis_results['num_sessions']}\")\n",
    "print(f\"Number of sessions with more than 1 item: {original_analysis_results['clusters_gt1']}\")\n",
    "print(f\"Presentations placed in sessions: {sum([len(s) for s in original_session_list])}\")\n",
    "print(f\"*Only calculated using sessions with more than 1 item.\")\n",
    "# Plot session sizes\n",
    "fig, ax = plt.subplots(figsize=(6, 4))\n",
    "ax.bar(original_analysis_results['session_sizes'].keys(), original_analysis_results['session_sizes'].values())\n",
    "ax.set_ylabel(\"Presentations Count\")\n",
    "ax.set_xlabel(\"Session Name\")\n",
    "ax.set_xticks(list(original_analysis_results['session_sizes'].keys()))\n",
    "ax.set_xticklabels([str(session) for session in original_analysis_results['session_sizes'].keys()], rotation=90)\n",
    "ax.set_title(\"Session Size Distribution\")\n",
    "plt.show()\n",
    "\n",
    "# Plot session similarities\n",
    "fig, ax = plt.subplots(figsize=(6, 4))\n",
    "ax.bar(original_analysis_results['similarity_values'].keys(), original_analysis_results['similarity_values'].values())\n",
    "ax.set_ylabel(\"Average Similarity\")\n",
    "ax.set_ylim(0, 1)\n",
    "ax.set_xlabel(\"Session Name\")\n",
    "ax.set_xticks(list(original_analysis_results['similarity_values'].keys()))\n",
    "ax.set_xticklabels([str(session) for session in original_analysis_results['similarity_values'].keys()], rotation=90)\n",
    "ax.set_title(\"Session Similarity Distribution\")\n",
    "plt.show()"
   ]
  },
  {
   "cell_type": "markdown",
   "id": "6db0543e",
   "metadata": {},
   "source": [
    "The titles are a bit long for publications. Creating a version using letters as a key."
   ]
  },
  {
   "cell_type": "code",
   "execution_count": 12,
   "id": "48a09f7c",
   "metadata": {},
   "outputs": [
    {
     "data": {
      "image/png": "[encoded data removed]",
      "text/plain": [
       "<Figure size 600x400 with 1 Axes>"
      ]
     },
     "metadata": {},
     "output_type": "display_data"
    },
    {
     "data": {
      "image/png": "[encoded data removed]",
      "text/plain": [
       "<Figure size 600x400 with 1 Axes>"
      ]
     },
     "metadata": {},
     "output_type": "display_data"
    },
    {
     "name": "stdout",
     "output_type": "stream",
     "text": [
      "Are labels are the same?: True\n",
      "The labels:\n",
      "- **A:** Generative AI and Large Multimodal model for Agriculture & Natural Resources\n",
      "- **B:** Cybersecurity, Social Impacts, and Risks of Emerging Information Systems\n",
      "- **C:** Machine Vision for Precision Agriculture and Robotics\n",
      "- **D:** Simulation-aided Agricultural Design and Optimization\n",
      "- **E:** Spectroscopic Sensing and Imaging for Agriculture and Food Systems\n",
      "- **F:** Unmanned Ground and Aerial Robots for Agricultural Applications\n",
      "- **G:** Biosensors and Bioinstrumentation for One Health\n",
      "- **H:** AI-Driven Tools and Technologies for High Throughput Phenotyping\n",
      "- **I:** Soft and Tactile Robotics Applications in Agriculture and Natural Resources\n",
      "- **J:** Machine Vision Applications in Agriculture and Food Processing\n",
      "- **K:** Hyperspectral Imaging: Advances in Technologies, Analytics, and Applications\n",
      "- **L:** 3D Machine Vision for Sensing and Automation\n",
      "- **M:** Advanced Machine Vision Systems for Agricultural Applications (Peer-review session)\n",
      "- **N:** Robotics and AI-Enabled Robotics for Production Agriculture\n",
      "- **O:** Advanced Machine Learning\n",
      "- **P:** Imaging Technologies for High Throughput Phenotyping\n",
      "- **Q:** Connectivity, Cloud Computing, and Internet of Things in Agriculture and Natural Resources\n",
      "- **R:** Digital Twins, DEM, and CFD Applications in Agriculture\n",
      "- **S:** Analytical, Computational and Instrumentation Advances for Biosensing\n",
      "- **T:** Mechatronics and Actuation in Agricultural Robots\n",
      "- **U:** Robotics and AI-Enabled Robotics for Agrifood Systems\n"
     ]
    }
   ],
   "source": [
    "import string\n",
    "\n",
    "orig_session_names = list(original_analysis_results['session_sizes'].keys())\n",
    "orig_session_sizes = list(original_analysis_results['session_sizes'].values())\n",
    "\n",
    "def get_alpha_labels(n):\n",
    "    \"\"\"Generates alphabetical labels (A, B,..., Z, AA, AB,...).\"\"\"\n",
    "    labels = []\n",
    "    for i in range(n):\n",
    "        label = \"\"\n",
    "        temp = i\n",
    "        while temp >= 0:\n",
    "            remainder = temp % 26\n",
    "            label = string.ascii_uppercase[remainder] + label\n",
    "            temp = temp // 26 - 1\n",
    "            if temp < -1: # Break after processing the last 'digit'\n",
    "                break\n",
    "        labels.append(label)\n",
    "    return labels\n",
    "\n",
    "orig_short_labels_alpha = get_alpha_labels(len(orig_session_names))\n",
    "\n",
    "fig_size, ax_size = plt.subplots(figsize=(6, 4))\n",
    "ax_size.bar(range(len(orig_session_names)), orig_session_sizes) \n",
    "ax_size.set_ylabel(\"Presentations Count\")\n",
    "ax_size.set_xlabel(\"Session ID\") # Update x-axis label\n",
    "ax_size.set_xticks(range(len(orig_session_names))) \n",
    "# Set the tick labels to be the alphabetical labels\n",
    "ax_size.set_xticklabels(orig_short_labels_alpha) \n",
    "fig_size.tight_layout() \n",
    "plt.show()\n",
    "\n",
    "label_mapping_alpha = {label: name for label, name in zip(orig_short_labels_alpha, orig_session_names)}\n",
    "# for label, name in label_mapping_alpha.items():\n",
    "#     print(f\"- **{label}:** {name}\")\n",
    "\n",
    "orig_session_sim_names = list(original_analysis_results['similarity_values'].keys())\n",
    "orig_session_sim = list(original_analysis_results['similarity_values'].values())\n",
    "\n",
    "orig_short_labels_sim_alpha = get_alpha_labels(len(orig_session_sim_names))\n",
    "# --- Create the Mapping for the Legend ---\n",
    "label_mapping_alpha_sim = {label: name for label, name in zip(orig_short_labels_sim_alpha, orig_session_sim_names)}\n",
    "fig_sim, ax_sim = plt.subplots(figsize=(6, 4))\n",
    "ax_sim.bar(range(len(orig_session_sim_names)), orig_session_sim) \n",
    "ax_sim.set_ylabel(\"Session Similiarity\")\n",
    "ax_sim.set_xlabel(\"Session ID\") # Update x-axis label\n",
    "ax_sim.set_xticks(range(len(orig_session_sim_names))) \n",
    "# Set the tick labels to be the alphabetical labels\n",
    "ax_sim.set_xticklabels(orig_short_labels_alpha) \n",
    "fig_sim.tight_layout() \n",
    "plt.show()\n",
    "# for label, name in label_mapping_alpha_sim.items():\n",
    "#     print(f\"- **{label}:** {name}\")\n",
    "\n",
    "print(f\"Are labels are the same?: {label_mapping_alpha == label_mapping_alpha_sim}\")\n",
    "print(\"The labels:\")\n",
    "for label, name in label_mapping_alpha.items():\n",
    "    print(f\"- **{label}:** {name}\")\n"
   ]
  },
  {
   "cell_type": "markdown",
   "id": "2816f2f0",
   "metadata": {},
   "source": [
    "Presentations within a session should be more similar than the overall average between any two presentations.  How did the sessions created by the traditional process compare to the average between any two presentations?"
   ]
  },
  {
   "cell_type": "code",
   "execution_count": 13,
   "id": "16bcffcb",
   "metadata": {},
   "outputs": [
    {
     "name": "stdout",
     "output_type": "stream",
     "text": [
      "Session Similarity values:\n",
      "0.619\n",
      "0.632\n",
      "0.588\n",
      "0.565\n",
      "0.549\n",
      "0.609\n",
      "0.527\n",
      "0.779\n",
      "0.532\n",
      "0.573\n",
      "0.643\n",
      "0.625\n",
      "0.573\n",
      "0.620\n",
      "0.678\n",
      "0.605\n",
      "0.643\n",
      "0.511\n",
      "0.000\n",
      "0.566\n",
      "0.641\n",
      "Number of session similarity values below the average similarity: 4\n"
     ]
    }
   ],
   "source": [
    "print(\"Session Similarity values:\")\n",
    "for value in session_similarity.values():\n",
    "    print(f\"{value:.3f}\")\n",
    "# Calculate how many session similarity values are less than the average similarity\n",
    "count_below_average = sum(1 for value in session_similarity.values() if value < average_similarity)\n",
    "print(f\"Number of session similarity values below the average similarity: {count_below_average}\")"
   ]
  },
  {
   "cell_type": "markdown",
   "id": "49ba9e5b",
   "metadata": {},
   "source": [
    "# Linkage Matrix\n",
    "Create a linkage matrix to visualize the dataset. This linkage matrix will also be used to build the new sessions.\n",
    "This section creates diagrams of the entire dataset as well as a subset that illustrates challenges with cluster sizes not matching possible session sizes."
   ]
  },
  {
   "cell_type": "code",
   "execution_count": 14,
   "id": "3fb6bbe3",
   "metadata": {},
   "outputs": [
    {
     "name": "stdout",
     "output_type": "stream",
     "text": [
      "Color Threshold: 0.391\n"
     ]
    },
    {
     "data": {
      "image/png": "[encoded data removed]",
      "text/plain": [
       "<Figure size 1200x600 with 1 Axes>"
      ]
     },
     "metadata": {},
     "output_type": "display_data"
    },
    {
     "data": {
      "image/png": "[encoded data removed]",
      "text/plain": [
       "<Figure size 600x300 with 1 Axes>"
      ]
     },
     "metadata": {},
     "output_type": "display_data"
    }
   ],
   "source": [
    "from matplotlib import pyplot as plt\n",
    "from scipy.cluster.hierarchy import dendrogram, linkage\n",
    "linkage_matrix = linkage(\n",
    "    y=itsc_oral_embeddings_df,\n",
    "    method='average',\n",
    "    metric='cosine',\n",
    "    )\n",
    "color_threshold = 0.7 * max(linkage_matrix[:, 2])\n",
    "print(f\"Color Threshold: {color_threshold:.3f}\")\n",
    "# All Presentations sorted by count.\n",
    "fig, ax = plt.subplots(figsize=(12, 6)) \n",
    "dn = dendrogram(\n",
    "    linkage_matrix,\n",
    "    count_sort='ascending',\n",
    "    no_labels=True,\n",
    "    ax=ax,\n",
    "    )\n",
    "ax.set_ylabel(\"Cosine Distance\")\n",
    "\n",
    "# Session cluster size example\n",
    "fig, ax = plt.subplots(figsize=(6, 3)) \n",
    "dn = dendrogram(\n",
    "    linkage_matrix,\n",
    "    count_sort='ascending',\n",
    "    no_labels=False,\n",
    "    ax=ax,\n",
    "    )\n",
    "ax.set_ylabel(\"Cosine Distance\")\n",
    "ax.set_xlim(1280, 1500)\n",
    "ax.set_xlabel(\"Presentation Number\")\n",
    "ax.tick_params(axis='x',labelsize=8)"
   ]
  },
  {
   "cell_type": "code",
   "execution_count": 16,
   "id": "d83824b9",
   "metadata": {},
   "outputs": [
    {
     "data": {
      "text/plain": [
       "Text(0, 0.5, 'Cosine Distance')"
      ]
     },
     "execution_count": 16,
     "metadata": {},
     "output_type": "execute_result"
    },
    {
     "data": {
      "image/png": "[encoded data removed]",
      "text/plain": [
       "<Figure size 2400x600 with 1 Axes>"
      ]
     },
     "metadata": {},
     "output_type": "display_data"
    }
   ],
   "source": [
    "# Plot a very large dendrogram with all presentations labeled\n",
    "fig, ax = plt.subplots(figsize=(24, 6)) \n",
    "dn = dendrogram(\n",
    "    linkage_matrix,\n",
    "    count_sort='ascending',\n",
    "    ax=ax,\n",
    "    )\n",
    "ax.set_ylabel(\"Cosine Distance\")"
   ]
  },
  {
   "cell_type": "markdown",
   "id": "d48f4c3f",
   "metadata": {},
   "source": [
    "# Create Session Clusters\n",
    "Session creation occurs using the linkage matrix"
   ]
  },
  {
   "cell_type": "code",
   "execution_count": null,
   "id": "ee1c2dcc",
   "metadata": {},
   "outputs": [],
   "source": [
    "# Create sessions using the agglomerative clustering linkage matrix. \n",
    "# Start merging with the most similar presentations (top of the linkage matrix).\n",
    "# Once the clusters are at min_cluster_size, stop automatically merging.\n",
    "\n",
    "import numpy as np\n",
    "from matplotlib import pyplot as plt\n",
    "from scipy.cluster.hierarchy import dendrogram\n",
    "from sklearn.cluster import AgglomerativeClustering\n",
    "\n",
    "def extract_clusters(linkage_matrix, min_cluster_size, n_samples, similarities, tree_merge_stop=1, max_sessions=None):\n",
    "    \"\"\"\n",
    "    Extracts clusters from a linkage matrix, ensuring no cluster is smaller than min_cluster_size.\n",
    "\n",
    "    Args:\n",
    "        linkage_matrix: The linkage matrix from scipy.cluster.hierarchy.linkage.\n",
    "        min_cluster_size: The minimum number of samples in a cluster.\n",
    "        n_samples: The total number of samples.\n",
    "        similarities: The similarity matrix tensor.\n",
    "        tree_merge_stop: The fraction of the tree to stop clustering at.\n",
    "        max_sessions: Maximum number of sessions to create. If None, there is no limit.\n",
    "\n",
    "    Returns:\n",
    "        A list of lists, where each inner list represents a cluster and contains\n",
    "        the indices of the samples belonging to that cluster.\n",
    "\n",
    "    \"\"\"\n",
    "\n",
    "    final_nodes = []\n",
    "    final_clusters = []\n",
    "    unassigned_count = linkage_matrix[:,3].copy() # Number of unassigned clusters. All nodes start unassigned.\n",
    "    unassigned_leaves = [[] for _ in range(linkage_matrix.shape[0])] # Leaves that have not yet been assigned to a final cluster.\n",
    "    # Iterate through the linkage matrix (Linkage Matrix (begin -> end) goes bottom -> top on the dendrogram)\n",
    "    # Process starts with the closest (most similar) nodes/clusters and works its way up the hierarchy.\n",
    "    # Each row of the linkage matrix represents a merge of two clusters.\n",
    "    # At each step, check the number of unassigned clusters (unassigned_count) for the two children of the current node.\n",
    "    # If the number of unassigned clusters for either child is greater than min_cluster_size,\n",
    "    # then we can create a final cluster (session).\n",
    "    # If the number of unassigned clusters for both children is less than min_cluster_size,\n",
    "    # leave them unassigned. Record the unassigned value as the amount remaining unassigned at that node.\n",
    "    # Continue to the next row of the linkage matrix.\n",
    "\n",
    "    for i in range(linkage_matrix.shape[0]):\n",
    "        node_id = n_samples + i\n",
    "        left_child, right_child = linkage_matrix[i, 0:2].astype(int)\n",
    "        # Check children to update unassigned_count for this node\n",
    "        if left_child >= n_samples:\n",
    "            left_size = unassigned_count[left_child - n_samples]\n",
    "            unassigned_leaves[i].extend(unassigned_leaves[left_child - n_samples])\n",
    "        else:\n",
    "            left_size = 1\n",
    "            unassigned_leaves[i].append(left_child)\n",
    "        if right_child >= n_samples:\n",
    "            right_size = unassigned_count[right_child - n_samples]\n",
    "            unassigned_leaves[i].extend(unassigned_leaves[right_child - n_samples])\n",
    "        else:\n",
    "            right_size = 1\n",
    "            unassigned_leaves[i].append(right_child)\n",
    "        unassigned_count[i] = left_size + right_size\n",
    "        \n",
    "        # Check if we have a final cluster, \n",
    "        # Also, stop making clusters once we are past a certain point in the linkage matrix.\n",
    "        # Or, stop making clusters once we reach the maximum sessions.\n",
    "        if unassigned_count[i] > min_cluster_size:\n",
    "            # Check tree merge stop and max sessions conditions separately\n",
    "            if i < linkage_matrix.shape[0] * tree_merge_stop:\n",
    "                # Tree merge stop condition met; Check to make sure we are not at session cap.\n",
    "                if max_sessions is None or len(final_clusters) < max_sessions:\n",
    "                    # Under max sessions limit (or no limit)\n",
    "                    create_cluster = True\n",
    "                else:\n",
    "                    create_cluster = False\n",
    "\n",
    "            if create_cluster:\n",
    "                # A final cluster has been found. All the presentations (unassigned leaves) in this node are assigned to it.\n",
    "                final_nodes.append(node_id)\n",
    "                final_clusters.append(unassigned_leaves[i])\n",
    "                # Remove all presentations in this node from the unassigned_count.\n",
    "                # When checked as a child of another node, it will report 0.\n",
    "                unassigned_count[i] = 0\n",
    "                unassigned_leaves[i] = []\n",
    "    # Keep track of the presentations that were assigned in this final step.\n",
    "    # They are the outliers and should probably be looked at closer.\n",
    "    forced_merge = unassigned_leaves    \n",
    "    # Try to merge any unassigned leaves into other clusters.\n",
    "    # Since we stop merging at a certain point in the linkage matrix, we may have some unassigned leaves left over.\n",
    "    # These are the leaves that were not assigned to any final cluster.\n",
    "    # This does not check if the final clusters are too large.\n",
    "    if unassigned_leaves[-1]:\n",
    "        for leaf in unassigned_leaves[-1]:\n",
    "            best_cluster_index = -1\n",
    "            best_similarity = -1\n",
    "            for i, cluster in enumerate(final_clusters):\n",
    "                avg_similarity = similarities[leaf, cluster].mean().item()\n",
    "                if avg_similarity > best_similarity:\n",
    "                    best_similarity = avg_similarity\n",
    "                    best_cluster_index = i\n",
    "            if best_cluster_index > -1:\n",
    "                final_clusters[best_cluster_index].append(leaf)\n",
    "        unassigned_leaves[-1] = []\n",
    "\n",
    "    return final_clusters, linkage_matrix, forced_merge, final_nodes"
   ]
  },
  {
   "cell_type": "code",
   "execution_count": 14,
   "id": "cfe1078a",
   "metadata": {},
   "outputs": [],
   "source": [
    "import pandas as pd\n",
    "\n",
    "def process_clusters(clusters):\n",
    "    \"\"\"\n",
    "    Processes a list of cluster indices to create a cluster dictionary and labels list.\n",
    "\n",
    "    Args:\n",
    "        clusters: A list of lists, where each inner list contains the indices\n",
    "                        of items belonging to a cluster.\n",
    "\n",
    "    Returns:\n",
    "        A tuple containing:\n",
    "            - cluster_dict: A dictionary where keys are cluster IDs (integers) and\n",
    "                          values are lists of item indices belonging to that cluster.\n",
    "            - labels: A list (or Pandas Series) where each element at index i\n",
    "                      represents the cluster assignment of item i.\n",
    "    \"\"\"\n",
    "\n",
    "    cluster_dict = {}\n",
    "    labels = [None] * 810  # Initialize labels list with None values\n",
    "\n",
    "    for cluster_id, cluster_indices in enumerate(clusters):\n",
    "        cluster_dict[cluster_id] = cluster_indices\n",
    "        for item_index in cluster_indices:\n",
    "            labels[item_index] = cluster_id  # Assign cluster ID to the item index\n",
    "\n",
    "    return cluster_dict, labels\n"
   ]
  },
  {
   "cell_type": "markdown",
   "id": "63a9eaea",
   "metadata": {},
   "source": [
    "For session creation, the number of sessions to create (21) ends up determining when the process stops creating new sessions. Based on prior experiments, if the number of sessions is not defined, it would be important to set a percentage of the tree at which to stop merging sessions. This is set to 95% based on this experimentation. If the process runs all the way to the top of the tree, it ends up forcing the merging of very different presentations. It is general better just to use these to fill in other sessions than to merge them into their own session."
   ]
  },
  {
   "cell_type": "code",
   "execution_count": 18,
   "id": "14069961",
   "metadata": {},
   "outputs": [
    {
     "name": "stdout",
     "output_type": "stream",
     "text": [
      "Tree Merge Stop: 0.95\n",
      "Average Session Similarity: 0.638\n",
      "Minimum Session Similarity: 0.600\n",
      "Number of Sessions: 21\n",
      "Number of sessions with more than 1 item: 21\n",
      "Presentations placed in sessions: 336\n"
     ]
    }
   ],
   "source": [
    "min_cluster_size = 8\n",
    "tree_merge_stop = .95\n",
    "max_num_sessions = 21\n",
    "session_indices, link_mat_final, outliers_merged, fnode_final = extract_clusters(linkage_matrix, \n",
    "                                                                                min_cluster_size, \n",
    "                                                                                n_samples=len(itsc_oral_similarities_tensor), \n",
    "                                                                                similarities=itsc_oral_similarities_tensor, \n",
    "                                                                                tree_merge_stop=tree_merge_stop, \n",
    "                                                                                max_sessions=max_num_sessions\n",
    "                                                                                )\n",
    "cluster_dict, labels = process_clusters(session_indices)\n",
    "analysis_results_after_cluster = analyze_sessions(cluster_dict, itsc_oral_similarities_tensor.cpu().numpy())\n",
    "print(f\"Tree Merge Stop: {tree_merge_stop}\")\n",
    "print(f\"Average Session Similarity: {analysis_results_after_cluster['avg_similarity']:.3f}\")\n",
    "print(f\"Minimum Session Similarity: {analysis_results_after_cluster['min_session_similarity']:.3f}\")\n",
    "print(f\"Number of Sessions: {analysis_results_after_cluster['num_sessions']}\")\n",
    "print(f\"Number of sessions with more than 1 item: {analysis_results_after_cluster['clusters_gt1']}\")\n",
    "print(f\"Presentations placed in sessions: {sum([len(s) for s in session_indices])}\")\n"
   ]
  },
  {
   "cell_type": "markdown",
   "id": "20f1dc22",
   "metadata": {},
   "source": [
    "### Save Session Number from Clustering to Presentation Dataframe"
   ]
  },
  {
   "cell_type": "code",
   "execution_count": 19,
   "id": "838ec14a",
   "metadata": {},
   "outputs": [],
   "source": [
    "cluster_dict, labels = process_clusters(session_indices)\n",
    "# Replace None values in the labels list with a default integer value (e.g., -1)\n",
    "labels = [label if label is not None else -1 for label in labels]\n",
    "\n",
    "# Assign the labels to the DataFrame and explicitly set the data type to int\n",
    "itsc_oral_df['Clustering Session'] = pd.Series(labels, dtype='int')\n",
    "# itsc_oral_df['Clustering Session'] = pd.Series(labels)\n",
    "itsc_oral_df.to_pickle('itsc_clustered_presentations.pkl')\n",
    "itsc_oral_df.to_csv('Clustering Sessioned Presentations.csv', index=True)"
   ]
  },
  {
   "cell_type": "markdown",
   "id": "89f5fdf1",
   "metadata": {},
   "source": [
    "## Export for Web App"
   ]
  },
  {
   "cell_type": "code",
   "execution_count": 3,
   "id": "6cc6a269",
   "metadata": {},
   "outputs": [],
   "source": [
    "import pandas as pd\n",
    "itsc_oral_df = pd.read_pickle('itsc_clustered_presentations.pkl')\n",
    "itsc_oral_no_abstracts_df = itsc_oral_df.drop(columns=['Title and Abstract','Abstract'])\n",
    "itsc_oral_no_abstracts_df.to_pickle('itsc_clustered_presentations_no_abstracts.pkl')"
   ]
  },
  {
   "cell_type": "code",
   "execution_count": 20,
   "id": "ef97cc89",
   "metadata": {},
   "outputs": [],
   "source": [
    "cluster_session_list, cluster_session_dict = create_session_index_lists(itsc_oral_df, session_column='Clustering Session')"
   ]
  },
  {
   "cell_type": "code",
   "execution_count": 21,
   "id": "7558007b",
   "metadata": {},
   "outputs": [
    {
     "data": {
      "image/png": "[encoded data removed]",
      "text/plain": [
       "<Figure size 600x400 with 1 Axes>"
      ]
     },
     "metadata": {},
     "output_type": "display_data"
    },
    {
     "data": {
      "image/png": "[encoded data removed]",
      "text/plain": [
       "<Figure size 600x400 with 1 Axes>"
      ]
     },
     "metadata": {},
     "output_type": "display_data"
    }
   ],
   "source": [
    "# Plot session size by session number - Repeated for copying into publications.\n",
    "# st.subheader(\"Session Size Distribution - Clustered Sessions\") \n",
    "fig, ax = plt.subplots(figsize=(6, 4))\n",
    "ax.bar(analysis_results_after_cluster['session_sizes'].keys(), analysis_results_after_cluster['session_sizes'].values())\n",
    "ax.set_ylabel(\"Presentations Count\")\n",
    "ax.set_xlabel(\"Session Number\")\n",
    "ax.set_xticks(list(analysis_results_after_cluster['session_sizes'].keys()))\n",
    "ax.set_xticklabels([str(session) for session in analysis_results_after_cluster['session_sizes'].keys()])\n",
    "plt.show()\n",
    "\n",
    "# Plot session similarities\n",
    "# st.subheader(\"Session Similarity Distribution - Clustered Sessions\") \n",
    "fig, ax = plt.subplots(figsize=(6, 4))\n",
    "ax.bar(analysis_results_after_cluster['similarity_values'].keys(), analysis_results_after_cluster['similarity_values'].values())\n",
    "ax.set_ylabel(\"Session Similiarity\")\n",
    "ax.set_ylim(0, 1)\n",
    "ax.set_xlabel(\"Session Number\")\n",
    "ax.set_xticks(list(analysis_results_after_cluster['similarity_values'].keys()))\n",
    "ax.set_xticklabels([str(session) for session in analysis_results_after_cluster['similarity_values'].keys()])\n",
    "plt.show()"
   ]
  },
  {
   "cell_type": "markdown",
   "id": "5ec32e12",
   "metadata": {},
   "source": [
    "# Creating Session Names and Keywords"
   ]
  },
  {
   "cell_type": "code",
   "execution_count": 29,
   "id": "1fdfe30a",
   "metadata": {},
   "outputs": [],
   "source": [
    "# This code can be used to load the clustered presentations if processing starts at this point.\n",
    "import pandas as pd\n",
    "# Load the DataFrame from the pickle file\n",
    "itsc_oral_df = pd.read_pickle('itsc_clustered_presentations.pkl')\n",
    "itsc_oral_df['Clustering Session'] = itsc_oral_df['Clustering Session'].astype(int)  # Convert to integer type\n",
    "import numpy as np\n",
    "cluster_labels = itsc_oral_df['Clustering Session'].unique()\n",
    "# Create a dict for the cluster indices\n",
    "cluster_dict = itsc_oral_df.groupby('Clustering Session').indices\n",
    "# Convert keys to integers because Pandas creates them as different types.\n",
    "cluster_dict = {int(k): np.array(v, dtype=np.int64).tolist() for k, v in cluster_dict.items()}"
   ]
  },
  {
   "cell_type": "code",
   "execution_count": 30,
   "id": "e6d6b220",
   "metadata": {},
   "outputs": [],
   "source": [
    "sessions_dict = {}\n",
    "for session_num, presentation_indices in cluster_dict.items():\n",
    "    sessions_dict[session_num] = {\"Indices\": presentation_indices, \"Presentations\": []}\n",
    "    for index in presentation_indices:\n",
    "        try:\n",
    "            title_abstract = itsc_oral_df.loc[index, \"Title and Abstract\"]\n",
    "            sessions_dict[session_num][\"Presentations\"].append(title_abstract)\n",
    "        except KeyError:\n",
    "            print(f\"Warning: Index {index} not found in oral_df for session {session_num}. Skipping.\")\n",
    "            continue # Skip the index if it's not present in the dataframe"
   ]
  },
  {
   "cell_type": "markdown",
   "id": "b6950b98",
   "metadata": {},
   "source": [
    "## Gemini\n",
    "### Full Example Titles and Keywords"
   ]
  },
  {
   "cell_type": "code",
   "execution_count": 25,
   "id": "82ff5a7d",
   "metadata": {},
   "outputs": [
    {
     "name": "stdout",
     "output_type": "stream",
     "text": [
      "{\n",
      "  \"title_1\": \"AI and Robotics for Sustainable Weed Management: Advancing Precision and Efficiency\",\n",
      "  \"title_2\": \"Smart Weed Control: Innovations in Sensing, Robotics, and AI for Targeted Applications\",\n",
      "  \"title_3\": \"Data-Driven Weed Management: Leveraging Machine Vision, Deep Learning, and Robotics\",\n",
      "  \"keywords\": \"Weed Detection, Precision Agriculture, Robotics, Artificial Intelligence, Machine Vision\"\n",
      "}\n",
      "title_1='AI and Robotics for Sustainable Weed Management: Advancing Precision and Efficiency' title_2='Smart Weed Control: Innovations in Sensing, Robotics, and AI for Targeted Applications' title_3='Data-Driven Weed Management: Leveraging Machine Vision, Deep Learning, and Robotics' keywords='Weed Detection, Precision Agriculture, Robotics, Artificial Intelligence, Machine Vision'\n",
      "{\n",
      "  \"title_1\": \"3D Vision and Modeling for Plant Phenotyping: From Pixels to Insights\",\n",
      "  \"title_2\": \"AI-Powered Analysis of Crop Traits: Revolutionizing Plant Measurement and Monitoring\",\n",
      "  \"title_3\": \"Advanced Sensing and Simulation: Enhancing Crop Understanding and Management\",\n",
      "  \"keywords\": \"3D Modeling, Phenotyping, Computer Vision, Deep Learning, Digital Twins\"\n",
      "}\n",
      "title_1='3D Vision and Modeling for Plant Phenotyping: From Pixels to Insights' title_2='AI-Powered Analysis of Crop Traits: Revolutionizing Plant Measurement and Monitoring' title_3='Advanced Sensing and Simulation: Enhancing Crop Understanding and Management' keywords='3D Modeling, Phenotyping, Computer Vision, Deep Learning, Digital Twins'\n",
      "{\n",
      "  \"title_1\": \"AI and Remote Sensing Synergies: Advancing Crop Monitoring and Yield Prediction\",\n",
      "  \"title_2\": \"Sensing and Modeling for Sustainable Agriculture: From Soil Health to Crop Yield\",\n",
      "  \"title_3\": \"Digital Agriculture Innovations: Integrating Data, AI, and Automation for Precision Farming\",\n",
      "  \"keywords\": \"Remote Sensing, Artificial Intelligence, Machine Learning, Crop Modeling, Precision Agriculture\"\n",
      "}\n",
      "title_1='AI and Remote Sensing Synergies: Advancing Crop Monitoring and Yield Prediction' title_2='Sensing and Modeling for Sustainable Agriculture: From Soil Health to Crop Yield' title_3='Digital Agriculture Innovations: Integrating Data, AI, and Automation for Precision Farming' keywords='Remote Sensing, Artificial Intelligence, Machine Learning, Crop Modeling, Precision Agriculture'\n",
      "{\n",
      "  \"title_1\": \"Advances in Hyperspectral and Multispectral Imaging for Agricultural Quality Assessment\",\n",
      "  \"title_2\": \"Spectroscopic Sensing and Machine Learning for Non-Destructive Food and Crop Analysis\",\n",
      "  \"title_3\": \"Harnessing Spectral Data: Innovations in Precision Agriculture and Food Safety\",\n",
      "  \"keywords\": \"Hyperspectral Imaging, Spectroscopy, Machine Learning, Precision Agriculture, Food Quality\"\n",
      "}\n",
      "title_1='Advances in Hyperspectral and Multispectral Imaging for Agricultural Quality Assessment' title_2='Spectroscopic Sensing and Machine Learning for Non-Destructive Food and Crop Analysis' title_3='Harnessing Spectral Data: Innovations in Precision Agriculture and Food Safety' keywords='Hyperspectral Imaging, Spectroscopy, Machine Learning, Precision Agriculture, Food Quality'\n",
      "{\n",
      "  \"title_1\": \"Advancements in Robotic Systems for Agricultural Monitoring and Management\",\n",
      "  \"title_2\": \"Smart Sensors and Robotics: Revolutionizing Crop Phenotyping and Field Operations\",\n",
      "  \"title_3\": \"Autonomous Navigation and Sensing Technologies for Precision Agriculture\",\n",
      "  \"keywords\": \"Robotics, Autonomous Navigation, Precision Agriculture, Crop Monitoring, Sensor Fusion\"\n",
      "}\n",
      "title_1='Advancements in Robotic Systems for Agricultural Monitoring and Management' title_2='Smart Sensors and Robotics: Revolutionizing Crop Phenotyping and Field Operations' title_3='Autonomous Navigation and Sensing Technologies for Precision Agriculture' keywords='Robotics, Autonomous Navigation, Precision Agriculture, Crop Monitoring, Sensor Fusion'\n",
      "{\n",
      "  \"title_1\": \"AI-Powered Precision: Transforming Strawberry Production with Advanced Technologies\",\n",
      "  \"title_2\": \"Intelligent Automation in Strawberry Farming: From Robotics to Climate Control\",\n",
      "  \"title_3\": \"Data-Driven Strawberry Innovation: Machine Learning, Robotics and Sensing\",\n",
      "  \"keywords\": \"Strawberry, Robotics, Machine Learning, Computer Vision, Automation\"\n",
      "}\n",
      "title_1='AI-Powered Precision: Transforming Strawberry Production with Advanced Technologies' title_2='Intelligent Automation in Strawberry Farming: From Robotics to Climate Control' title_3='Data-Driven Strawberry Innovation: Machine Learning, Robotics and Sensing' keywords='Strawberry, Robotics, Machine Learning, Computer Vision, Automation'\n",
      "{\n",
      "    \"title_1\": \"Robotics and Vision for Precision Harvesting: Enhancing Efficiency and Quality\",\n",
      "    \"title_2\": \"Smart Automation in Specialty Crops: From Sensing to Robotic Manipulation\",\n",
      "    \"title_3\": \"AI-Enabled Robotic Solutions: Advancing Precision and Automation in Agriculture\",\n",
      "    \"keywords\": \"Robotics, Computer Vision, Automation, Precision Agriculture, Harvesting\"\n",
      "}\n",
      "title_1='Robotics and Vision for Precision Harvesting: Enhancing Efficiency and Quality' title_2='Smart Automation in Specialty Crops: From Sensing to Robotic Manipulation' title_3='AI-Enabled Robotic Solutions: Advancing Precision and Automation in Agriculture' keywords='Robotics, Computer Vision, Automation, Precision Agriculture, Harvesting'\n",
      "{\n",
      "\"title_1\": \"Sensing Technologies and Machine Learning for Crop Monitoring and Management\",\n",
      "\"title_2\": \"Remote Sensing and AI-Driven Solutions for Precision Agriculture\",\n",
      "\"title_3\": \"AI and Remote Sensing Integration: Revolutionizing Crop Phenotyping and Stress Detection\",\n",
      "\"keywords\": \"Remote Sensing, Machine Learning, Precision Agriculture, Crop Monitoring, Artificial Intelligence\"\n",
      "}\n",
      "title_1='Sensing Technologies and Machine Learning for Crop Monitoring and Management' title_2='Remote Sensing and AI-Driven Solutions for Precision Agriculture' title_3='AI and Remote Sensing Integration: Revolutionizing Crop Phenotyping and Stress Detection' keywords='Remote Sensing, Machine Learning, Precision Agriculture, Crop Monitoring, Artificial Intelligence'\n",
      "{\n",
      "  \"title_1\": \"Agricultural Robotics: Advancing Automation and Efficiency in Farming Operations\",\n",
      "  \"title_2\": \"Smart Machines for Sustainable Agriculture: Innovations in Robotics and Automation\",\n",
      "  \"title_3\": \"Robotics and Autonomous Systems: Transforming Crop Production and Field Management\",\n",
      "  \"keywords\": \"Agricultural Robotics, Automation, Autonomous Systems, Precision Agriculture, Field Operations\"\n",
      "}\n",
      "title_1='Agricultural Robotics: Advancing Automation and Efficiency in Farming Operations' title_2='Smart Machines for Sustainable Agriculture: Innovations in Robotics and Automation' title_3='Robotics and Autonomous Systems: Transforming Crop Production and Field Management' keywords='Agricultural Robotics, Automation, Autonomous Systems, Precision Agriculture, Field Operations'\n",
      "{\n",
      "  \"title_1\": \"AI-Powered Sensing and Automation for Sustainable Crop Management\",\n",
      "  \"title_2\": \"Smart Monitoring and Intervention: AI and Robotics for Crop Health\",\n",
      "  \"title_3\": \"Advanced Detection and Precision Control: AI Solutions for Plant Stress\",\n",
      "  \"keywords\": \"Artificial Intelligence, Machine Learning, Robotics, Precision Agriculture, Pest and Disease Management\"\n",
      "}\n",
      "title_1='AI-Powered Sensing and Automation for Sustainable Crop Management' title_2='Smart Monitoring and Intervention: AI and Robotics for Crop Health' title_3='Advanced Detection and Precision Control: AI Solutions for Plant Stress' keywords='Artificial Intelligence, Machine Learning, Robotics, Precision Agriculture, Pest and Disease Management'\n",
      "{\n",
      "  \"title_1\": \"Advancements in Plant Phenotyping: Automation, Imaging, and Data Analysis\",\n",
      "  \"title_2\": \"High-Throughput Plant Phenotyping: From Sensors to Insights\",\n",
      "  \"title_3\": \"Innovations in Plant Phenotyping: Enabling Crop Improvement through Advanced Technologies\",\n",
      "  \"keywords\": \"Plant Phenotyping, Image Analysis, Automation, Machine Learning, Robotics\"\n",
      "}\n",
      "title_1='Advancements in Plant Phenotyping: Automation, Imaging, and Data Analysis' title_2='High-Throughput Plant Phenotyping: From Sensors to Insights' title_3='Innovations in Plant Phenotyping: Enabling Crop Improvement through Advanced Technologies' keywords='Plant Phenotyping, Image Analysis, Automation, Machine Learning, Robotics'\n",
      "{\n",
      "  \"title_1\": \"AI-Powered Solutions for Agricultural Monitoring and Data Analysis\",\n",
      "  \"title_2\": \"Advancements in Machine Learning for Enhanced Agricultural Decision-Making\",\n",
      "  \"title_3\": \"Revolutionizing Agriculture: AI-Driven Insights from Image and Text Analysis\",\n",
      "  \"keywords\": \"Machine Learning, Artificial Intelligence, Image Analysis, Data Mining, Agricultural Automation\"\n",
      "}\n",
      "title_1='AI-Powered Solutions for Agricultural Monitoring and Data Analysis' title_2='Advancements in Machine Learning for Enhanced Agricultural Decision-Making' title_3='Revolutionizing Agriculture: AI-Driven Insights from Image and Text Analysis' keywords='Machine Learning, Artificial Intelligence, Image Analysis, Data Mining, Agricultural Automation'\n",
      "{\n",
      "    \"title_1\": \"Advances in Sensing and Modeling for Cotton Quality Assessment\",\n",
      "    \"title_2\": \"Smart Systems for Cotton Production: From Field to Fiber\",\n",
      "    \"title_3\": \"Engineering Solutions for Enhanced Cotton Monitoring and Yield Prediction\",\n",
      "    \"keywords\": \"Cotton, Sensing, Modeling, Quality, Yield\"\n",
      "}\n",
      "title_1='Advances in Sensing and Modeling for Cotton Quality Assessment' title_2='Smart Systems for Cotton Production: From Field to Fiber' title_3='Engineering Solutions for Enhanced Cotton Monitoring and Yield Prediction' keywords='Cotton, Sensing, Modeling, Quality, Yield'\n",
      "{\n",
      "  \"title_1\": \"AI-Powered Livestock Monitoring: Computer Vision for Enhanced Animal Welfare and Production\",\n",
      "  \"title_2\": \"Precision Livestock Management: Advancements in Automated Monitoring and Analysis\",\n",
      "  \"title_3\": \"Smart Animal Systems: Deep Learning and Robotics for Sustainable Livestock Farming\",\n",
      "  \"keywords\": \"Livestock Monitoring, Computer Vision, Deep Learning, Animal Welfare, Precision Agriculture\"\n",
      "}\n",
      "title_1='AI-Powered Livestock Monitoring: Computer Vision for Enhanced Animal Welfare and Production' title_2='Precision Livestock Management: Advancements in Automated Monitoring and Analysis' title_3='Smart Animal Systems: Deep Learning and Robotics for Sustainable Livestock Farming' keywords='Livestock Monitoring, Computer Vision, Deep Learning, Animal Welfare, Precision Agriculture'\n",
      "{\n",
      "\"title_1\": \"Sensing and IoT for Precision Nutrient and Environmental Management in Hydroponics\",\n",
      "\"title_2\": \"Smart Monitoring and Control: Optimizing Resource Use and Plant Health in Controlled Environments\",\n",
      "\"title_3\": \"Data-Driven Decisions: Advanced Technologies for Sustainable Crop Production\",\n",
      "\"keywords\": \"Hydroponics, IoT, Precision Agriculture, Sensing, Controlled Environment Agriculture\"\n",
      "}\n",
      "title_1='Sensing and IoT for Precision Nutrient and Environmental Management in Hydroponics' title_2='Smart Monitoring and Control: Optimizing Resource Use and Plant Health in Controlled Environments' title_3='Data-Driven Decisions: Advanced Technologies for Sustainable Crop Production' keywords='Hydroponics, IoT, Precision Agriculture, Sensing, Controlled Environment Agriculture'\n",
      "{\n",
      "\"title_1\": \"Smart Sensing and AI for Enhanced Fruit and Vegetable Quality Assessment\",\n",
      "\"title_2\": \"Advanced Image Analysis and Machine Learning for Automated Produce Grading\",\n",
      "\"title_3\": \"Next-Generation Quality Control: AI-Driven Phenotyping for Fruits and Vegetables\",\n",
      "\"keywords\": \"Machine Vision, Deep Learning, Quality Grading, Fruit, Vegetable\"\n",
      "}\n",
      "title_1='Smart Sensing and AI for Enhanced Fruit and Vegetable Quality Assessment' title_2='Advanced Image Analysis and Machine Learning for Automated Produce Grading' title_3='Next-Generation Quality Control: AI-Driven Phenotyping for Fruits and Vegetables' keywords='Machine Vision, Deep Learning, Quality Grading, Fruit, Vegetable'\n",
      "{\n",
      "    \"title_1\": \"Remote Sensing and Machine Learning for Precision Nutrient Management\",\n",
      "    \"title_2\": \"Advanced Sensing Technologies for Enhanced Crop Monitoring and Nitrogen Management\",\n",
      "    \"title_3\": \"UAV-Based Remote Sensing and Machine Learning for Sustainable Crop Management\",\n",
      "    \"keywords\": \"Remote Sensing, Machine Learning, Precision Agriculture, Nutrient Management, Crop Monitoring\"\n",
      "}\n",
      "title_1='Remote Sensing and Machine Learning for Precision Nutrient Management' title_2='Advanced Sensing Technologies for Enhanced Crop Monitoring and Nitrogen Management' title_3='UAV-Based Remote Sensing and Machine Learning for Sustainable Crop Management' keywords='Remote Sensing, Machine Learning, Precision Agriculture, Nutrient Management, Crop Monitoring'\n",
      "{\n",
      "  \"title_1\": \"Rapid Detection Technologies for Foodborne Pathogens and Antimicrobial Resistance\",\n",
      "  \"title_2\": \"Biosensors and Novel Detection Methods: Safeguarding Food and Health\",\n",
      "  \"title_3\": \"Advancements in Biosensing: From Pathogen Detection to Antimicrobial Resistance Monitoring\",\n",
      "  \"keywords\": \"Biosensors, Pathogen Detection, Antimicrobial Resistance, Rapid Diagnostics, Food Safety\"\n",
      "}\n",
      "title_1='Rapid Detection Technologies for Foodborne Pathogens and Antimicrobial Resistance' title_2='Biosensors and Novel Detection Methods: Safeguarding Food and Health' title_3='Advancements in Biosensing: From Pathogen Detection to Antimicrobial Resistance Monitoring' keywords='Biosensors, Pathogen Detection, Antimicrobial Resistance, Rapid Diagnostics, Food Safety'\n",
      "{\n",
      "  \"title_1\": \"AI and Machine Learning Applications in Agricultural Monitoring and Management\",\n",
      "  \"title_2\": \"Data-Driven Insights: Machine Learning for Enhanced Agricultural Decision-Making\",\n",
      "  \"title_3\": \"Advanced Sensing and Predictive Modeling: Revolutionizing Agricultural Practices\",\n",
      "  \"keywords\": \"Machine Learning, Artificial Intelligence, Precision Agriculture, Remote Sensing, Predictive Modeling\"\n",
      "}\n",
      "title_1='AI and Machine Learning Applications in Agricultural Monitoring and Management' title_2='Data-Driven Insights: Machine Learning for Enhanced Agricultural Decision-Making' title_3='Advanced Sensing and Predictive Modeling: Revolutionizing Agricultural Practices' keywords='Machine Learning, Artificial Intelligence, Precision Agriculture, Remote Sensing, Predictive Modeling'\n",
      "{\n",
      "  \"title_1\": \"Data-Driven Agriculture: From Sensors to Sustainable Practices\",\n",
      "  \"title_2\": \"Connectivity and AI in Agriculture: Enhancing Efficiency and Sustainability\",\n",
      "  \"title_3\": \"Smart Farming Technologies: Advancing Data Collection, Security, and Decision-Making\",\n",
      "  \"keywords\": \"Sensors, Wireless Communication, Artificial Intelligence, Data Management, Sustainable Agriculture\"\n",
      "}\n",
      "title_1='Data-Driven Agriculture: From Sensors to Sustainable Practices' title_2='Connectivity and AI in Agriculture: Enhancing Efficiency and Sustainability' title_3='Smart Farming Technologies: Advancing Data Collection, Security, and Decision-Making' keywords='Sensors, Wireless Communication, Artificial Intelligence, Data Management, Sustainable Agriculture'\n",
      "{\n",
      "  \"title_1\": \"AI-Powered Robotics and Vision Systems for Agricultural Automation\",\n",
      "  \"title_2\": \"Smart Sensing and Robotics: Revolutionizing Agricultural Processes\",\n",
      "  \"title_3\": \"Robotics and Machine Learning for Enhanced Crop Management and Automation\",\n",
      "  \"keywords\": \"Robotics, Computer Vision, Machine Learning, Automation, Agriculture\"\n",
      "}\n",
      "title_1='AI-Powered Robotics and Vision Systems for Agricultural Automation' title_2='Smart Sensing and Robotics: Revolutionizing Agricultural Processes' title_3='Robotics and Machine Learning for Enhanced Crop Management and Automation' keywords='Robotics, Computer Vision, Machine Learning, Automation, Agriculture'\n",
      "Processing time: 23.5414 seconds\n"
     ]
    }
   ],
   "source": [
    "import time\n",
    "\n",
    "import os\n",
    "from google import genai\n",
    "from google.genai import types\n",
    "from pydantic import BaseModel\n",
    "\n",
    "# Support env variables from .env file if defined\n",
    "import os\n",
    "from dotenv import load_dotenv\n",
    "env_path = load_dotenv('.env')\n",
    "load_dotenv(env_path)\n",
    "\n",
    "class Session_info(BaseModel):\n",
    "    title_1: str\n",
    "    title_2: str\n",
    "    title_3: str\n",
    "    keywords: str\n",
    "\n",
    "start_time = time.time()\n",
    "# Create the client\n",
    "client = genai.Client(api_key=os.environ[\"GEMINI_API_KEY\"])\n",
    "# Create titles\n",
    "for session_key, session_value in sessions_dict.items():\n",
    "    response = client.models.generate_content(\n",
    "        model='gemini-2.0-flash',\n",
    "        contents=(\"I am organizing oral research presentation sessions for the American Society of Biological and Agricultural Engineers\"\n",
    "                \"Annual International Meeting. Please provide 3 options for the name/title of a session. \"\n",
    "                    \"Also provide 5 keywords describing the session. The name and keywords should highlight the commonality among all presentations. \"\n",
    "                    \"The target audience for titles and keywords is engineering designers and researchers.\"\n",
    "                    \"The title should be descriptive of the content and be interesting and engaging. \\n\"\n",
    "                    \"Please respond in this format\\n\\n \"\n",
    "                    \"{\"\n",
    "                    \"     'title_1': 'Robotic Vision and Actuation: Advancing Precision Weed Management in Agriculture',\\n\"\n",
    "                    \"     'title_2': 'AI-Driven Weed Control: From Smart Sprayers to Autonomous Robotics',\\n\"\n",
    "                    \"     'title_3': 'Next-Generation Weed Management: Integrating Deep Learning, Robotics, and Advanced Sensing',\\n\"\n",
    "                    \"     'keywords': 'Robotics, Machine Vision, Precision Agriculture, Weed Control, Artificial Intelligence'    }\\n\\n\"\n",
    "                    \"The titles and abstracts for presentations assigned to this session are:\\n\"\n",
    "                    + str(session_value['Presentations'])\n",
    "                    ),\n",
    "            config={ # Constraint response to a specific schema\n",
    "            'response_mime_type': 'application/json',\n",
    "            'response_schema': Session_info,\n",
    "        },\n",
    "\n",
    "    )\n",
    "    print(response.text)\n",
    "    titles = response.text\n",
    "    # Use instantiated objects.\n",
    "    my_sessions: Session_info = response.parsed\n",
    "    print(my_sessions)\n",
    "\n",
    "    session_value['Gemini Ex Title 1'] = my_sessions.title_1\n",
    "    session_value['Gemini Ex Title 2'] = my_sessions.title_2\n",
    "    session_value['Gemini Ex Title 3'] = my_sessions.title_3\n",
    "    session_value['Gemini Ex Keywords'] = my_sessions.keywords\n",
    "end_time = time.time()\n",
    "gemini_elapsed_time = end_time - start_time\n",
    "print(f\"Processing time: {gemini_elapsed_time:.4f} seconds\")\n"
   ]
  },
  {
   "cell_type": "markdown",
   "id": "3ffb7685",
   "metadata": {},
   "source": [
    "### Minimal Examples\n",
    "Include the response form, but don't provide actual examples."
   ]
  },
  {
   "cell_type": "code",
   "execution_count": 26,
   "id": "acdad100",
   "metadata": {},
   "outputs": [
    {
     "name": "stdout",
     "output_type": "stream",
     "text": [
      "{\n",
      "\"title_1\": \"AI-Powered Precision Weed Management: From Data to Deployment\",\n",
      "\"title_2\": \"Deep Learning and Robotics for Sustainable Weed Control in Agriculture\",\n",
      "\"title_3\": \"Advancements in Automated Weed Detection and Targeted Treatment Systems\",\n",
      "\"keywords\": \"weed detection, precision spraying, deep learning, robotics, machine vision\"\n",
      "}\n",
      "title_1='AI-Powered Precision Weed Management: From Data to Deployment' title_2='Deep Learning and Robotics for Sustainable Weed Control in Agriculture' title_3='Advancements in Automated Weed Detection and Targeted Treatment Systems' keywords='weed detection, precision spraying, deep learning, robotics, machine vision'\n",
      "{\n",
      "    \"title_1\": \"3D Vision and Modeling for Agricultural Systems\",\n",
      "    \"title_2\": \"Advanced Sensing and Digital Twins for Crop Phenotyping\",\n",
      "    \"title_3\": \"Computational Modeling and Simulation in Agriculture\",\n",
      "    \"keywords\": \"3D modeling, phenotyping, digital twin, simulation, agriculture\"\n",
      "}\n",
      "title_1='3D Vision and Modeling for Agricultural Systems' title_2='Advanced Sensing and Digital Twins for Crop Phenotyping' title_3='Computational Modeling and Simulation in Agriculture' keywords='3D modeling, phenotyping, digital twin, simulation, agriculture'\n",
      "{\n",
      "\"title_1\": \"Remote Sensing and AI for Precision Agriculture: Innovations in Crop and Soil Monitoring\",\n",
      "\"title_2\": \"Data-Driven Agriculture: Harnessing AI and Remote Sensing for Enhanced Crop Management\",\n",
      "\"title_3\": \"AI-Powered Agricultural Insights: From Soil Health to Yield Prediction\",\n",
      "\"keywords\": \"remote sensing, artificial intelligence, precision agriculture, soil health, yield prediction\"\n",
      "}\n",
      "title_1='Remote Sensing and AI for Precision Agriculture: Innovations in Crop and Soil Monitoring' title_2='Data-Driven Agriculture: Harnessing AI and Remote Sensing for Enhanced Crop Management' title_3='AI-Powered Agricultural Insights: From Soil Health to Yield Prediction' keywords='remote sensing, artificial intelligence, precision agriculture, soil health, yield prediction'\n",
      "{\n",
      "    \"title_1\": \"Spectroscopic Sensing for Agricultural Quality and Trait Assessment\",\n",
      "    \"title_2\": \"Hyperspectral and Multispectral Imaging for Crop and Food Analysis\",\n",
      "    \"title_3\": \"Advancements in Spectral Imaging and Machine Learning for Precision Agriculture\",\n",
      "    \"keywords\": \"hyperspectral imaging, spectroscopy, machine learning, non-destructive assessment, agricultural quality\"\n",
      "}\n",
      "title_1='Spectroscopic Sensing for Agricultural Quality and Trait Assessment' title_2='Hyperspectral and Multispectral Imaging for Crop and Food Analysis' title_3='Advancements in Spectral Imaging and Machine Learning for Precision Agriculture' keywords='hyperspectral imaging, spectroscopy, machine learning, non-destructive assessment, agricultural quality'\n",
      "{\n",
      "    \"title_1\": \"Advances in Agricultural Robotics: Perception, Localization, and Automation\",\n",
      "    \"title_2\": \"Robotics and Automation for Precision Crop Monitoring and Management\",\n",
      "    \"title_3\": \"Smart Sensing and Robotics for Enhanced Crop Phenotyping and Field Operations\",\n",
      "    \"keywords\": \"robotics, automation, precision agriculture, computer vision, sensor fusion\"\n",
      "}\n",
      "title_1='Advances in Agricultural Robotics: Perception, Localization, and Automation' title_2='Robotics and Automation for Precision Crop Monitoring and Management' title_3='Smart Sensing and Robotics for Enhanced Crop Phenotyping and Field Operations' keywords='robotics, automation, precision agriculture, computer vision, sensor fusion'\n",
      "{\n",
      "    \"title_1\": \"Smart Strawberry Production: AI-Driven Monitoring and Automation\",\n",
      "    \"title_2\": \"Precision Strawberry Farming: From Phenotyping to Robotic Harvesting\",\n",
      "    \"title_3\": \"Advanced Sensing and Control Systems for Optimized Strawberry Yield\",\n",
      "    \"keywords\": \"strawberry, artificial intelligence, automation, precision agriculture, yield estimation\"\n",
      "}\n",
      "title_1='Smart Strawberry Production: AI-Driven Monitoring and Automation' title_2='Precision Strawberry Farming: From Phenotyping to Robotic Harvesting' title_3='Advanced Sensing and Control Systems for Optimized Strawberry Yield' keywords='strawberry, artificial intelligence, automation, precision agriculture, yield estimation'\n",
      "{\n",
      "    \"title_1\": \"Robotic Harvesting and Automation: Enhancing Efficiency and Precision\",\n",
      "    \"title_2\": \"Smart Systems for Agricultural Robotics: Vision, Control, and Coordination\",\n",
      "    \"title_3\": \"Innovations in Agricultural Robotics: From Orchard to Aquaculture\",\n",
      "    \"keywords\": \"agricultural robotics, machine vision, automation, harvesting, precision agriculture\"\n",
      "}\n",
      "title_1='Robotic Harvesting and Automation: Enhancing Efficiency and Precision' title_2='Smart Systems for Agricultural Robotics: Vision, Control, and Coordination' title_3='Innovations in Agricultural Robotics: From Orchard to Aquaculture' keywords='agricultural robotics, machine vision, automation, harvesting, precision agriculture'\n",
      "{\n",
      "  \"title_1\": \"AI-Powered Remote Sensing for Precision Crop Management\",\n",
      "  \"title_2\": \"Revolutionizing Agriculture: Advanced Sensing and Automation for Crop Monitoring\",\n",
      "  \"title_3\": \"Sensing Technologies and Data-Driven Approaches for Smart Agriculture\",\n",
      "  \"keywords\": \"remote sensing, precision agriculture, machine learning, crop monitoring, automation\"\n",
      "}\n",
      "title_1='AI-Powered Remote Sensing for Precision Crop Management' title_2='Revolutionizing Agriculture: Advanced Sensing and Automation for Crop Monitoring' title_3='Sensing Technologies and Data-Driven Approaches for Smart Agriculture' keywords='remote sensing, precision agriculture, machine learning, crop monitoring, automation'\n",
      "{\n",
      "\"title_1\": \"Robotics and Automation for Sustainable Agriculture: Enhancing Efficiency and Safety\",\n",
      "\"title_2\": \"Advanced Technologies for Autonomous Navigation and Control in Agricultural Systems\",\n",
      "\"title_3\": \"Innovations in Agricultural Robotics: From Field Monitoring to Precision Operation\",\n",
      "\"keywords\": \"agricultural robotics, autonomous navigation, precision agriculture, sustainable farming, automation\"\n",
      "}\n",
      "title_1='Robotics and Automation for Sustainable Agriculture: Enhancing Efficiency and Safety' title_2='Advanced Technologies for Autonomous Navigation and Control in Agricultural Systems' title_3='Innovations in Agricultural Robotics: From Field Monitoring to Precision Operation' keywords='agricultural robotics, autonomous navigation, precision agriculture, sustainable farming, automation'\n",
      "{\n",
      "\"title_1\": \"AI-Powered Sensing for Plant Pest and Disease Detection\",\n",
      "\"title_2\": \"Advanced Imaging and Machine Learning for High-Throughput Plant Health Monitoring\",\n",
      "\"title_3\": \"Smart Sensors and Intelligent Systems for Precision Crop Protection\",\n",
      "\"keywords\": \"pest detection, disease diagnosis, hyperspectral imaging, deep learning, precision agriculture\"\n",
      "}\n",
      "title_1='AI-Powered Sensing for Plant Pest and Disease Detection' title_2='Advanced Imaging and Machine Learning for High-Throughput Plant Health Monitoring' title_3='Smart Sensors and Intelligent Systems for Precision Crop Protection' keywords='pest detection, disease diagnosis, hyperspectral imaging, deep learning, precision agriculture'\n",
      "{\n",
      "  \"title_1\": \"Automated Plant Phenotyping: Advanced Imaging and AI-Driven Analysis\",\n",
      "  \"title_2\": \"Robotics and AI for High-Throughput Plant Phenotyping: From Root to Canopy\",\n",
      "  \"title_3\": \"Next-Generation Plant Phenotyping: Integrating Imaging, AI, and Sensor Technologies\",\n",
      "  \"keywords\": \"phenotyping, image analysis, machine learning, robotics, automation\"\n",
      "}\n",
      "title_1='Automated Plant Phenotyping: Advanced Imaging and AI-Driven Analysis' title_2='Robotics and AI for High-Throughput Plant Phenotyping: From Root to Canopy' title_3='Next-Generation Plant Phenotyping: Integrating Imaging, AI, and Sensor Technologies' keywords='phenotyping, image analysis, machine learning, robotics, automation'\n",
      "{\n",
      "  \"title_1\": \"AI-Driven Solutions for Enhanced Agricultural Automation and Analysis\",\n",
      "  \"title_2\": \"Foundation Models and AI for Smart Agriculture: From Data to Decisions\",\n",
      "  \"title_3\": \"Innovations in AI: Automating Data Analysis and Workflows for Agricultural Applications\",\n",
      "  \"keywords\": \"artificial intelligence, machine learning, automation, image analysis, data processing\"\n",
      "}\n",
      "title_1='AI-Driven Solutions for Enhanced Agricultural Automation and Analysis' title_2='Foundation Models and AI for Smart Agriculture: From Data to Decisions' title_3='Innovations in AI: Automating Data Analysis and Workflows for Agricultural Applications' keywords='artificial intelligence, machine learning, automation, image analysis, data processing'\n",
      "{\n",
      "\"title_1\": \"Advances in Sensing and Modeling for Cotton Quality and Harvesting\",\n",
      "\"title_2\": \"Smart Solutions for Cotton Production: From Fiber Sensing to Robotic Harvesting\",\n",
      "\"title_3\": \"Engineering Innovations in Cotton: Optimizing Fiber Properties and Harvesting Efficiency\",\n",
      "\"keywords\": \"cotton, fiber quality, sensing, robotics, harvesting, modeling, optical properties, machine learning\"\n",
      "}\n",
      "title_1='Advances in Sensing and Modeling for Cotton Quality and Harvesting' title_2='Smart Solutions for Cotton Production: From Fiber Sensing to Robotic Harvesting' title_3='Engineering Innovations in Cotton: Optimizing Fiber Properties and Harvesting Efficiency' keywords='cotton, fiber quality, sensing, robotics, harvesting, modeling, optical properties, machine learning'\n",
      "{\n",
      "  \"title_1\": \"AI-Powered Monitoring and Management for Precision Livestock Farming\",\n",
      "  \"title_2\": \"Advancements in Computer Vision and Automation for Livestock Health and Welfare\",\n",
      "  \"title_3\": \"Smart Farming: Deep Learning Applications in Livestock Monitoring and Production\",\n",
      "  \"keywords\": \"deep learning, computer vision, livestock monitoring, precision agriculture, animal welfare\"\n",
      "}\n",
      "title_1='AI-Powered Monitoring and Management for Precision Livestock Farming' title_2='Advancements in Computer Vision and Automation for Livestock Health and Welfare' title_3='Smart Farming: Deep Learning Applications in Livestock Monitoring and Production' keywords='deep learning, computer vision, livestock monitoring, precision agriculture, animal welfare'\n",
      "{\n",
      "    \"title_1\": \"Precision Monitoring and Control for Sustainable Hydroponics\",\n",
      "    \"title_2\": \"Smart Sensors and AI-Driven Solutions for Plant Health and Productivity\",\n",
      "    \"title_3\": \"Advanced Technologies for Optimized Resource Management in Controlled Environment Agriculture\",\n",
      "    \"keywords\": \"hydroponics, IoT, sensors, modeling, precision agriculture\"\n",
      "}\n",
      "title_1='Precision Monitoring and Control for Sustainable Hydroponics' title_2='Smart Sensors and AI-Driven Solutions for Plant Health and Productivity' title_3='Advanced Technologies for Optimized Resource Management in Controlled Environment Agriculture' keywords='hydroponics, IoT, sensors, modeling, precision agriculture'\n",
      "{\n",
      "\"title_1\": \"AI-Powered Quality Assessment for Fruits and Vegetables: Innovations in Defect Detection and Grading\",\n",
      "\"title_2\": \"Advancements in Sensing and Automation for Postharvest Handling of Specialty Crops\",\n",
      "\"title_3\": \"Precision Harvesting: Utilizing Vision and Machine Learning for Fruit and Vegetable Quality Optimization\",\n",
      "\"keywords\": \"computer vision, machine learning, nondestructive testing, fruit quality, automated sorting\"\n",
      "}\n",
      "title_1='AI-Powered Quality Assessment for Fruits and Vegetables: Innovations in Defect Detection and Grading' title_2='Advancements in Sensing and Automation for Postharvest Handling of Specialty Crops' title_3='Precision Harvesting: Utilizing Vision and Machine Learning for Fruit and Vegetable Quality Optimization' keywords='computer vision, machine learning, nondestructive testing, fruit quality, automated sorting'\n",
      "{\n",
      "  \"title_1\": \"Remote Sensing and Machine Learning for Precision Crop Management\",\n",
      "  \"title_2\": \"Advanced Sensing Technologies for Enhanced Agricultural Decision-Making\",\n",
      "  \"title_3\": \"Innovations in Image Analysis for Crop Monitoring and Resource Optimization\",\n",
      "  \"keywords\": \"remote sensing, precision agriculture, machine learning, hyperspectral imaging, thermal imaging\"\n",
      "}\n",
      "title_1='Remote Sensing and Machine Learning for Precision Crop Management' title_2='Advanced Sensing Technologies for Enhanced Agricultural Decision-Making' title_3='Innovations in Image Analysis for Crop Monitoring and Resource Optimization' keywords='remote sensing, precision agriculture, machine learning, hyperspectral imaging, thermal imaging'\n",
      "{\n",
      "\"title_1\": \"Rapid Detection Technologies for Foodborne Pathogens and Antimicrobial Resistance\",\n",
      "\"title_2\": \"Advancements in Biosensors and Molecular Diagnostics for Agricultural and Food Safety\",\n",
      "\"title_3\": \"Innovative Detection Methods for Pathogens and Resistance in Agriculture and Food Systems\",\n",
      "\"keywords\": \"biosensors, rapid detection, antimicrobial resistance, food safety, pathogen detection\"\n",
      "}\n",
      "title_1='Rapid Detection Technologies for Foodborne Pathogens and Antimicrobial Resistance' title_2='Advancements in Biosensors and Molecular Diagnostics for Agricultural and Food Safety' title_3='Innovative Detection Methods for Pathogens and Resistance in Agriculture and Food Systems' keywords='biosensors, rapid detection, antimicrobial resistance, food safety, pathogen detection'\n",
      "{\n",
      "  \"title_1\": \"Data-Driven Modeling for Agricultural and Environmental Systems\",\n",
      "  \"title_2\": \"Machine Learning Applications in Soil and Water Management\",\n",
      "  \"title_3\": \"Advanced Sensing and Modeling Techniques for Precision Agriculture\",\n",
      "  \"keywords\": \"machine learning, soil moisture, water management, modeling, precision agriculture\"\n",
      "}\n",
      "title_1='Data-Driven Modeling for Agricultural and Environmental Systems' title_2='Machine Learning Applications in Soil and Water Management' title_3='Advanced Sensing and Modeling Techniques for Precision Agriculture' keywords='machine learning, soil moisture, water management, modeling, precision agriculture'\n",
      "{\n",
      "    \"title_1\": \"Data-Driven Agriculture: Wireless Sensors and AI for Enhanced Decision-Making\",\n",
      "    \"title_2\": \"Smart Agriculture: Real-Time Monitoring, Predictive Analytics, and Secure Data Management\",\n",
      "    \"title_3\": \"Connectivity and Intelligence: The Future of Wireless Sensor Networks and AI in Agricultural Systems\",\n",
      "    \"keywords\": \"wireless sensors, artificial intelligence, data analytics, precision agriculture, IoT\"\n",
      "}\n",
      "title_1='Data-Driven Agriculture: Wireless Sensors and AI for Enhanced Decision-Making' title_2='Smart Agriculture: Real-Time Monitoring, Predictive Analytics, and Secure Data Management' title_3='Connectivity and Intelligence: The Future of Wireless Sensor Networks and AI in Agricultural Systems' keywords='wireless sensors, artificial intelligence, data analytics, precision agriculture, IoT'\n",
      "{\n",
      "    \"title_1\": \"AI-Enabled Automation for Precision Agriculture: From Field to Edge\",\n",
      "    \"title_2\": \"Robotics and Computer Vision Synergies: Transforming Agricultural Practices\",\n",
      "    \"title_3\": \"Sensing and Automation for Crop Production: A Data-Driven Revolution\",\n",
      "    \"keywords\": \"computer vision, robotics, automation, precision agriculture, machine learning\"\n",
      "}\n",
      "title_1='AI-Enabled Automation for Precision Agriculture: From Field to Edge' title_2='Robotics and Computer Vision Synergies: Transforming Agricultural Practices' title_3='Sensing and Automation for Crop Production: A Data-Driven Revolution' keywords='computer vision, robotics, automation, precision agriculture, machine learning'\n",
      "Processing time: 22.4721 seconds\n"
     ]
    }
   ],
   "source": [
    "import time\n",
    "\n",
    "import os\n",
    "from google import genai\n",
    "from google.genai import types\n",
    "from pydantic import BaseModel\n",
    "\n",
    "# Support env variables from .env file if defined\n",
    "import os\n",
    "from dotenv import load_dotenv\n",
    "env_path = load_dotenv('.env')\n",
    "load_dotenv(env_path)\n",
    "\n",
    "class Session_info(BaseModel):\n",
    "    title_1: str\n",
    "    title_2: str\n",
    "    title_3: str\n",
    "    keywords: str\n",
    "\n",
    "start_time = time.time()\n",
    "# Create the client\n",
    "client = genai.Client(api_key=os.environ[\"GEMINI_API_KEY\"])\n",
    "# Create titles\n",
    "for session_key, session_value in sessions_dict.items():\n",
    "    response = client.models.generate_content(\n",
    "        model='gemini-2.0-flash',\n",
    "        contents=(\"I am organizing oral research presentation sessions for the American Society of Biological and Agricultural Engineers\"\n",
    "                \"Annual International Meeting. Please provide 3 options for the name/title of a session. \"\n",
    "                    \"Also provide 5 keywords describing the session. The name and keywords should highlight the commonality among all presentations. \"\n",
    "                    \"The target audience for titles and keywords is engineering designers and researchers.\"\n",
    "                    \"The title should be descriptive of the content and be interesting and engaging. \\n\"\n",
    "                    \"Please respond in this format\\n\\n \"\n",
    "                    \"{\"\n",
    "                    \"     'title_1': 'Session Title',\\n\"\n",
    "                    \"     'title_2': 'Session Title',\\n\"\n",
    "                    \"     'title_3': 'Session Title',\\n\"\n",
    "                    \"     'keywords': 'keyword1, keyword2, keyword3, keyword4, keyword5'    }\\n\\n\"\n",
    "                    \"The titles and abstracts for presentations assigned to this session are:\\n\"\n",
    "                    + str(session_value['Presentations'])\n",
    "                    ),\n",
    "            config={ # Constraint response to a specific schema\n",
    "            'response_mime_type': 'application/json',\n",
    "            'response_schema': Session_info,\n",
    "        },\n",
    "\n",
    "    )\n",
    "    print(response.text)\n",
    "    titles = response.text\n",
    "    # Use instantiated objects.\n",
    "    my_sessions: Session_info = response.parsed\n",
    "    print(my_sessions)\n",
    "\n",
    "    session_value['Gemini MinEx Title 1'] = my_sessions.title_1\n",
    "    session_value['Gemini MinEx Title 2'] = my_sessions.title_2\n",
    "    session_value['Gemini MinEx Title 3'] = my_sessions.title_3\n",
    "    session_value['Gemini MinEx Keywords'] = my_sessions.keywords\n",
    "end_time = time.time()\n",
    "gemini_elapsed_time = end_time - start_time\n",
    "print(f\"Processing time: {gemini_elapsed_time:.4f} seconds\")\n"
   ]
  },
  {
   "cell_type": "markdown",
   "id": "e7874b08",
   "metadata": {},
   "source": [
    "### No Example\n",
    "Do not provide a response form example at all. Just rely on the prompt controls."
   ]
  },
  {
   "cell_type": "code",
   "execution_count": 27,
   "id": "5c3d5976",
   "metadata": {},
   "outputs": [
    {
     "name": "stdout",
     "output_type": "stream",
     "text": [
      "{\n",
      "  \"title_1\": \"AI-Driven Precision Weed Management: From Data to Deployment\",\n",
      "  \"title_2\": \"Robotics and Machine Vision for Sustainable Weed Control\",\n",
      "  \"title_3\": \"Advancements in Automated Weed Detection and Targeted Treatment\",\n",
      "  \"keywords\": \"weed detection, machine vision, robotics, precision agriculture, deep learning\"\n",
      "}\n",
      "title_1='AI-Driven Precision Weed Management: From Data to Deployment' title_2='Robotics and Machine Vision for Sustainable Weed Control' title_3='Advancements in Automated Weed Detection and Targeted Treatment' keywords='weed detection, machine vision, robotics, precision agriculture, deep learning'\n",
      "{\n",
      "  \"title_1\": \"Advanced 3D Modeling and Simulation Techniques for Agricultural Systems\",\n",
      "  \"title_2\": \"Sensing, Modeling, and Simulation of Biological and Agricultural Systems using Novel 3D Techniques\",\n",
      "  \"title_3\": \"Digital Twins and Advanced Modeling for Agricultural and Biological Systems\",\n",
      "  \"keywords\": \"3D modeling, simulation, digital twin, phenotyping, agricultural systems\"\n",
      "}\n",
      "title_1='Advanced 3D Modeling and Simulation Techniques for Agricultural Systems' title_2='Sensing, Modeling, and Simulation of Biological and Agricultural Systems using Novel 3D Techniques' title_3='Digital Twins and Advanced Modeling for Agricultural and Biological Systems' keywords='3D modeling, simulation, digital twin, phenotyping, agricultural systems'\n",
      "{\n",
      "  \"title_1\": \"Sensing and Modeling for Sustainable Crop Production: From Soil to Yield\",\n",
      "  \"title_2\": \"Smart Agriculture: Integrating Remote Sensing, AI, and Machinery for Precision Crop Management\",\n",
      "  \"title_3\": \"Data-Driven Insights for Agricultural Innovation: Advancing Crop and Soil Management through Engineering\",\n",
      "  \"keywords\": \"remote sensing, machine learning, precision agriculture, soil health, yield prediction\"\n",
      "}\n",
      "title_1='Sensing and Modeling for Sustainable Crop Production: From Soil to Yield' title_2='Smart Agriculture: Integrating Remote Sensing, AI, and Machinery for Precision Crop Management' title_3='Data-Driven Insights for Agricultural Innovation: Advancing Crop and Soil Management through Engineering' keywords='remote sensing, machine learning, precision agriculture, soil health, yield prediction'\n",
      "{\n",
      "  \"title_1\": \"Spectroscopic Sensing and Machine Learning for Agricultural Product Quality and Safety\",\n",
      "  \"title_2\": \"Advanced Spectral Imaging and AI for Precision Crop and Food Analysis\",\n",
      "  \"title_3\": \"Hyperspectral Innovation: Revolutionizing Agricultural and Food Monitoring\",\n",
      "  \"keywords\": \"hyperspectral imaging, spectroscopy, machine learning, quality assessment, food safety\"\n",
      "}\n",
      "title_1='Spectroscopic Sensing and Machine Learning for Agricultural Product Quality and Safety' title_2='Advanced Spectral Imaging and AI for Precision Crop and Food Analysis' title_3='Hyperspectral Innovation: Revolutionizing Agricultural and Food Monitoring' keywords='hyperspectral imaging, spectroscopy, machine learning, quality assessment, food safety'\n",
      "{\n",
      "  \"title_1\": \"Advances in Agricultural Robotics: Sensing, Perception, and Automation\",\n",
      "  \"title_2\": \"Robotics and Automation for Precision Crop Management: From Sensing to Action\",\n",
      "  \"title_3\": \"Intelligent Machines: Enhancing Crop Production through Robotics and Automation\",\n",
      "  \"keywords\": \"agricultural robotics, autonomous navigation, computer vision, precision agriculture, sensor fusion\"\n",
      "}\n",
      "title_1='Advances in Agricultural Robotics: Sensing, Perception, and Automation' title_2='Robotics and Automation for Precision Crop Management: From Sensing to Action' title_3='Intelligent Machines: Enhancing Crop Production through Robotics and Automation' keywords='agricultural robotics, autonomous navigation, computer vision, precision agriculture, sensor fusion'\n",
      "{\n",
      "  \"title_1\": \"AI and Automation Synergies in Specialty Crop Production\",\n",
      "  \"title_2\": \"Precision Agriculture Innovations for Enhanced Crop Management\",\n",
      "  \"title_3\": \"Smart Systems for Optimized Yield and Resource Efficiency\",\n",
      "  \"keywords\": \"artificial intelligence, automation, precision agriculture, yield monitoring, smart farming\"\n",
      "}\n",
      "title_1='AI and Automation Synergies in Specialty Crop Production' title_2='Precision Agriculture Innovations for Enhanced Crop Management' title_3='Smart Systems for Optimized Yield and Resource Efficiency' keywords='artificial intelligence, automation, precision agriculture, yield monitoring, smart farming'\n",
      "{\n",
      "  \"title_1\": \"Orchard Robotics: Intelligent Automation for Precision Agriculture\",\n",
      "  \"title_2\": \"Advancements in Agricultural Robotics: From Vision to Autonomous Systems\",\n",
      "  \"title_3\": \"Robotic Solutions for Labor-Intensive Tasks in Specialty Crop Production\",\n",
      "  \"keywords\": \"agricultural robotics, automation, machine vision, harvesting, pruning\"\n",
      "}\n",
      "title_1='Orchard Robotics: Intelligent Automation for Precision Agriculture' title_2='Advancements in Agricultural Robotics: From Vision to Autonomous Systems' title_3='Robotic Solutions for Labor-Intensive Tasks in Specialty Crop Production' keywords='agricultural robotics, automation, machine vision, harvesting, pruning'\n",
      "{\n",
      "  \"title_1\": \"AI and Remote Sensing for Precision Crop Management\",\n",
      "  \"title_2\": \"Smart Sensing and Automation for Agricultural Systems\",\n",
      "  \"title_3\": \"Advanced Image Analysis and Machine Learning for Crop Monitoring\",\n",
      "  \"keywords\": \"remote sensing, machine learning, precision agriculture, automation, crop monitoring\"\n",
      "}\n",
      "title_1='AI and Remote Sensing for Precision Crop Management' title_2='Smart Sensing and Automation for Agricultural Systems' title_3='Advanced Image Analysis and Machine Learning for Crop Monitoring' keywords='remote sensing, machine learning, precision agriculture, automation, crop monitoring'\n",
      "{\n",
      "  \"title_1\": \"Robotics and Automation for Sustainable Agriculture: Innovations in Autonomous Systems\",\n",
      "  \"title_2\": \"Advancing Agricultural Efficiency: Smart Machines and Intelligent Automation\",\n",
      "  \"title_3\": \"Agri-Robotics: Enhancing Sustainability and Productivity Through Automation\",\n",
      "  \"keywords\": \"agricultural robotics, autonomous navigation, precision agriculture, automation, sustainable farming\"\n",
      "}\n",
      "title_1='Robotics and Automation for Sustainable Agriculture: Innovations in Autonomous Systems' title_2='Advancing Agricultural Efficiency: Smart Machines and Intelligent Automation' title_3='Agri-Robotics: Enhancing Sustainability and Productivity Through Automation' keywords='agricultural robotics, autonomous navigation, precision agriculture, automation, sustainable farming'\n",
      "{\n",
      "  \"title_1\": \"AI-Powered Solutions for Early Pest and Disease Detection in Agriculture\",\n",
      "  \"title_2\": \"Smart Imaging and Sensing for Precision Crop Protection\",\n",
      "  \"title_3\": \"Advanced Technologies for Non-Destructive Assessment of Plant Stress and Infestation\",\n",
      "  \"keywords\": \"deep learning, hyperspectral imaging, pest detection, disease diagnosis, precision agriculture\"\n",
      "}\n",
      "title_1='AI-Powered Solutions for Early Pest and Disease Detection in Agriculture' title_2='Smart Imaging and Sensing for Precision Crop Protection' title_3='Advanced Technologies for Non-Destructive Assessment of Plant Stress and Infestation' keywords='deep learning, hyperspectral imaging, pest detection, disease diagnosis, precision agriculture'\n",
      "{\n",
      "  \"title_1\": \"Automated Plant Phenotyping: Advanced Imaging and AI-Driven Analysis\",\n",
      "  \"title_2\": \"Robotics and AI for High-Throughput Plant Trait Assessment\",\n",
      "  \"title_3\": \"Next-Gen Phenotyping: Revolutionizing Plant Analysis with Computer Vision and Automation\",\n",
      "  \"keywords\": \"phenotyping, automation, computer vision, deep learning, robotics\"\n",
      "}\n",
      "title_1='Automated Plant Phenotyping: Advanced Imaging and AI-Driven Analysis' title_2='Robotics and AI for High-Throughput Plant Trait Assessment' title_3='Next-Gen Phenotyping: Revolutionizing Plant Analysis with Computer Vision and Automation' keywords='phenotyping, automation, computer vision, deep learning, robotics'\n",
      "{\n",
      "  \"title_1\": \"AI-Driven Solutions for Enhanced Agricultural Monitoring and Automation\",\n",
      "  \"title_2\": \"Foundation Models and Machine Learning Advancements in Agricultural Applications\",\n",
      "  \"title_3\": \"Streamlining Agricultural Processes: AI-Powered Image Analysis and Data Integration\",\n",
      "  \"keywords\": \"artificial intelligence, machine learning, computer vision, automation, precision agriculture\"\n",
      "}\n",
      "title_1='AI-Driven Solutions for Enhanced Agricultural Monitoring and Automation' title_2='Foundation Models and Machine Learning Advancements in Agricultural Applications' title_3='Streamlining Agricultural Processes: AI-Powered Image Analysis and Data Integration' keywords='artificial intelligence, machine learning, computer vision, automation, precision agriculture'\n",
      "{\n",
      "  \"title_1\": \"Advanced Sensing and Modeling Techniques for Cotton Quality Assessment\",\n",
      "  \"title_2\": \"AI-Driven Solutions for Precision Cotton Harvesting and Fiber Characterization\",\n",
      "  \"title_3\": \"Innovative Optical and Robotic Systems for Cotton Production and Quality Control\",\n",
      "  \"keywords\": \"cotton, fiber quality, optical sensing, deep learning, robotic harvesting\"\n",
      "}\n",
      "title_1='Advanced Sensing and Modeling Techniques for Cotton Quality Assessment' title_2='AI-Driven Solutions for Precision Cotton Harvesting and Fiber Characterization' title_3='Innovative Optical and Robotic Systems for Cotton Production and Quality Control' keywords='cotton, fiber quality, optical sensing, deep learning, robotic harvesting'\n",
      "{\n",
      "  \"title_1\": \"AI-Powered Precision Livestock Monitoring: Advancing Animal Welfare and Production Efficiency\",\n",
      "  \"title_2\": \"Vision-Based Monitoring Systems for Livestock: Enhancing Health, Welfare, and Productivity\",\n",
      "  \"title_3\": \"Smart Surveillance for Sustainable Livestock Farming: Innovations in Automated Animal Monitoring\",\n",
      "  \"keywords\": \"animal monitoring, computer vision, deep learning, livestock, precision agriculture\"\n",
      "}\n",
      "title_1='AI-Powered Precision Livestock Monitoring: Advancing Animal Welfare and Production Efficiency' title_2='Vision-Based Monitoring Systems for Livestock: Enhancing Health, Welfare, and Productivity' title_3='Smart Surveillance for Sustainable Livestock Farming: Innovations in Automated Animal Monitoring' keywords='animal monitoring, computer vision, deep learning, livestock, precision agriculture'\n",
      "{\n",
      "  \"title_1\": \"Precision Agriculture: Advanced Sensing, Modeling, and Control for Optimized Crop Production\",\n",
      "  \"title_2\": \"Smart Solutions for Sustainable Agriculture: IoT, AI, and Advanced Technologies in Crop Management\",\n",
      "  \"title_3\": \"Next-Gen Crop Monitoring: Harnessing Data and Models for Enhanced Yield and Resource Efficiency\",\n",
      "  \"keywords\": \"precision agriculture, sensing, modeling, control systems, IoT, machine learning\"\n",
      "}\n",
      "title_1='Precision Agriculture: Advanced Sensing, Modeling, and Control for Optimized Crop Production' title_2='Smart Solutions for Sustainable Agriculture: IoT, AI, and Advanced Technologies in Crop Management' title_3='Next-Gen Crop Monitoring: Harnessing Data and Models for Enhanced Yield and Resource Efficiency' keywords='precision agriculture, sensing, modeling, control systems, IoT, machine learning'\n",
      "{\n",
      "  \"title_1\": \"AI-Powered Quality Assessment for Fruits and Vegetables\",\n",
      "  \"title_2\": \"Advanced Sensing and Automation for Postharvest Handling\",\n",
      "  \"title_3\": \"Precision Grading: Innovations in Fruit and Vegetable Quality Control\",\n",
      "  \"keywords\": \"quality grading, defect detection, machine vision, nondestructive testing, postharvest technology\"\n",
      "}\n",
      "title_1='AI-Powered Quality Assessment for Fruits and Vegetables' title_2='Advanced Sensing and Automation for Postharvest Handling' title_3='Precision Grading: Innovations in Fruit and Vegetable Quality Control' keywords='quality grading, defect detection, machine vision, nondestructive testing, postharvest technology'\n",
      "{\n",
      "  \"title_1\": \"Remote Sensing and Machine Learning for Precision Crop Management\",\n",
      "  \"title_2\": \"Advanced Sensing Technologies for Enhanced Crop and Soil Monitoring\",\n",
      "  \"title_3\": \"Data-Driven Approaches to Optimize Resource Use in Agricultural Systems\",\n",
      "  \"keywords\": \"remote sensing, precision agriculture, machine learning, crop monitoring, soil characterization\"\n",
      "}\n",
      "title_1='Remote Sensing and Machine Learning for Precision Crop Management' title_2='Advanced Sensing Technologies for Enhanced Crop and Soil Monitoring' title_3='Data-Driven Approaches to Optimize Resource Use in Agricultural Systems' keywords='remote sensing, precision agriculture, machine learning, crop monitoring, soil characterization'\n",
      "{\n",
      "  \"title_1\": \"Rapid and Novel Biosensing Technologies for Pathogen and Contaminant Detection\",\n",
      "  \"title_2\": \"Advances in Rapid Detection Methods for Food Safety and Agricultural Applications\",\n",
      "  \"title_3\": \"Cutting-Edge Biosensors: Revolutionizing Detection of Resistance and Pathogens\",\n",
      "  \"keywords\": \"biosensors, rapid detection, antimicrobial resistance, food safety, pathogens\"\n",
      "}\n",
      "title_1='Rapid and Novel Biosensing Technologies for Pathogen and Contaminant Detection' title_2='Advances in Rapid Detection Methods for Food Safety and Agricultural Applications' title_3='Cutting-Edge Biosensors: Revolutionizing Detection of Resistance and Pathogens' keywords='biosensors, rapid detection, antimicrobial resistance, food safety, pathogens'\n",
      "{\n",
      "  \"title_1\": \"Advanced Sensing and Modeling for Precision Irrigation and Water Management\",\n",
      "  \"title_2\": \"Data-Driven Approaches for Soil Moisture Monitoring and Prediction\",\n",
      "  \"title_3\": \"AI and Machine Learning Applications in Agricultural Water Resource Management\",\n",
      "  \"keywords\": \"soil moisture, machine learning, irrigation, remote sensing, precision agriculture\"\n",
      "}\n",
      "title_1='Advanced Sensing and Modeling for Precision Irrigation and Water Management' title_2='Data-Driven Approaches for Soil Moisture Monitoring and Prediction' title_3='AI and Machine Learning Applications in Agricultural Water Resource Management' keywords='soil moisture, machine learning, irrigation, remote sensing, precision agriculture'\n",
      "{\n",
      "  \"title_1\": \"Data-Driven Agriculture: Connectivity, AI, and the Future of Sustainable Farming\",\n",
      "  \"title_2\": \"Smart and Secure Agriculture: Wireless Sensors, AI, and Blockchain for Enhanced Farming\",\n",
      "  \"title_3\": \"AI and IoT Innovations: Transforming Data into Decisions for Resilient Agricultural Systems\",\n",
      "  \"keywords\": \"Precision Agriculture, Wireless Sensor Networks, Generative AI, Blockchain, Data Security\"\n",
      "}\n",
      "title_1='Data-Driven Agriculture: Connectivity, AI, and the Future of Sustainable Farming' title_2='Smart and Secure Agriculture: Wireless Sensors, AI, and Blockchain for Enhanced Farming' title_3='AI and IoT Innovations: Transforming Data into Decisions for Resilient Agricultural Systems' keywords='Precision Agriculture, Wireless Sensor Networks, Generative AI, Blockchain, Data Security'\n",
      "{\n",
      "  \"title_1\": \"AI-Powered Robotic Solutions for Precision Harvesting and Crop Management\",\n",
      "  \"title_2\": \"Edge Computing and Computer Vision for Real-Time Agricultural Monitoring and Automation\",\n",
      "  \"title_3\": \"Sim-to-Real Transfer and Virtual Environments for Accelerated Agricultural Robotics Development\",\n",
      "  \"keywords\": \"agricultural robotics, computer vision, deep learning, edge computing, precision harvesting\"\n",
      "}\n",
      "title_1='AI-Powered Robotic Solutions for Precision Harvesting and Crop Management' title_2='Edge Computing and Computer Vision for Real-Time Agricultural Monitoring and Automation' title_3='Sim-to-Real Transfer and Virtual Environments for Accelerated Agricultural Robotics Development' keywords='agricultural robotics, computer vision, deep learning, edge computing, precision harvesting'\n",
      "Processing time: 22.9014 seconds\n"
     ]
    }
   ],
   "source": [
    "import time\n",
    "\n",
    "import os\n",
    "from google import genai\n",
    "from google.genai import types\n",
    "from pydantic import BaseModel\n",
    "\n",
    "# Support env variables from .env file if defined\n",
    "import os\n",
    "from dotenv import load_dotenv\n",
    "env_path = load_dotenv('.env')\n",
    "load_dotenv(env_path)\n",
    "\n",
    "class Session_info(BaseModel):\n",
    "    title_1: str\n",
    "    title_2: str\n",
    "    title_3: str\n",
    "    keywords: str\n",
    "\n",
    "start_time = time.time()\n",
    "# Create the client\n",
    "client = genai.Client(api_key=os.environ[\"GEMINI_API_KEY\"])\n",
    "# Create titles\n",
    "for session_key, session_value in sessions_dict.items():\n",
    "    response = client.models.generate_content(\n",
    "        model='gemini-2.0-flash',\n",
    "        contents=(\"I am organizing oral research presentation sessions for the American Society of Biological and Agricultural Engineers\"\n",
    "                \"Annual International Meeting. Please provide 3 options for the name/title of a session. \"\n",
    "                    \"Also provide 5 keywords describing the session. The name and keywords should highlight the commonality among all presentations. \"\n",
    "                    \"The target audience for titles and keywords is engineering designers and researchers.\"\n",
    "                    \"The title should be descriptive of the content and be interesting and engaging. \\n\"\n",
    "                    \"The titles and abstracts for presentations assigned to this session are:\\n\"\n",
    "                    + str(session_value['Presentations'])\n",
    "                    ),\n",
    "            config={ # Constraint response to a specific schema\n",
    "            'response_mime_type': 'application/json',\n",
    "            'response_schema': Session_info,\n",
    "        },\n",
    "\n",
    "    )\n",
    "    print(response.text)\n",
    "    titles = response.text\n",
    "    # Use instantiated objects.\n",
    "    my_sessions: Session_info = response.parsed\n",
    "    print(my_sessions)\n",
    "\n",
    "    session_value['Gemini NoEx Title 1'] = my_sessions.title_1\n",
    "    session_value['Gemini NoEx Title 2'] = my_sessions.title_2\n",
    "    session_value['Gemini NoEx Title 3'] = my_sessions.title_3\n",
    "    session_value['Gemini NoEx Keywords'] = my_sessions.keywords\n",
    "end_time = time.time()\n",
    "gemini_elapsed_time = end_time - start_time\n",
    "print(f\"Processing time: {gemini_elapsed_time:.4f} seconds\")\n"
   ]
  },
  {
   "cell_type": "markdown",
   "id": "b3c9dd99",
   "metadata": {},
   "source": [
    "### Save the Gemini Results"
   ]
  },
  {
   "cell_type": "code",
   "execution_count": 29,
   "id": "57453fcd",
   "metadata": {},
   "outputs": [],
   "source": [
    "df_sessions = pd.DataFrame.from_dict(sessions_dict, orient='index')\n",
    "df_sessions.to_csv('Gemini_sessions.csv', index=True)\n",
    "import pickle\n",
    "df_sessions.to_pickle('AI_sessions.pkl')\n",
    "with open(\"AI_sessions_dict.pkl\", \"wb\") as f:\n",
    "    pickle.dump(sessions_dict, f) \n"
   ]
  },
  {
   "cell_type": "code",
   "execution_count": null,
   "id": "dfc4b3ca",
   "metadata": {},
   "outputs": [],
   "source": [
    "## Load pickled sessions dictionary for continuing.\n",
    "# import pickle\n",
    "\n",
    "# with open(\"AI_sessions_dict.pkl\", \"rb\") as f:\n",
    "#     sessions_dict = pickle.load(f) "
   ]
  },
  {
   "cell_type": "markdown",
   "id": "21a8fdb2",
   "metadata": {},
   "source": [
    "## Llama 3.2 Local\n",
    "Running Llama locally can take a long time. It may be a good idea to save to the harddrive at each step."
   ]
  },
  {
   "cell_type": "code",
   "execution_count": 30,
   "id": "ac6faecc",
   "metadata": {},
   "outputs": [
    {
     "name": "stderr",
     "output_type": "stream",
     "text": [
      "ggml_cuda_init: GGML_CUDA_FORCE_MMQ:    no\n",
      "ggml_cuda_init: GGML_CUDA_FORCE_CUBLAS: no\n",
      "ggml_cuda_init: found 1 CUDA devices:\n",
      "  Device 0: NVIDIA RTX 500 Ada Generation Laptop GPU, compute capability 8.9, VMM: yes\n",
      "llama_model_load_from_file_impl: using device CUDA0 (NVIDIA RTX 500 Ada Generation Laptop GPU) - 3243 MiB free\n",
      "llama_model_loader: loaded meta data with 30 key-value pairs and 255 tensors from llama-3.2-3b-instruct-q8_0.gguf (version GGUF V3 (latest))\n",
      "llama_model_loader: Dumping metadata keys/values. Note: KV overrides do not apply in this output.\n",
      "llama_model_loader: - kv   0:                       general.architecture str              = llama\n",
      "llama_model_loader: - kv   1:                               general.type str              = model\n",
      "llama_model_loader: - kv   2:                               general.name str              = Llama 3.2 3B Instruct\n",
      "llama_model_loader: - kv   3:                           general.finetune str              = Instruct\n",
      "llama_model_loader: - kv   4:                           general.basename str              = Llama-3.2\n",
      "llama_model_loader: - kv   5:                         general.size_label str              = 3B\n",
      "llama_model_loader: - kv   6:                               general.tags arr[str,6]       = [\"facebook\", \"meta\", \"pytorch\", \"llam...\n",
      "llama_model_loader: - kv   7:                          general.languages arr[str,8]       = [\"en\", \"de\", \"fr\", \"it\", \"pt\", \"hi\", ...\n",
      "llama_model_loader: - kv   8:                          llama.block_count u32              = 28\n",
      "llama_model_loader: - kv   9:                       llama.context_length u32              = 131072\n",
      "llama_model_loader: - kv  10:                     llama.embedding_length u32              = 3072\n",
      "llama_model_loader: - kv  11:                  llama.feed_forward_length u32              = 8192\n",
      "llama_model_loader: - kv  12:                 llama.attention.head_count u32              = 24\n",
      "llama_model_loader: - kv  13:              llama.attention.head_count_kv u32              = 8\n",
      "llama_model_loader: - kv  14:                       llama.rope.freq_base f32              = 500000.000000\n",
      "llama_model_loader: - kv  15:     llama.attention.layer_norm_rms_epsilon f32              = 0.000010\n",
      "llama_model_loader: - kv  16:                 llama.attention.key_length u32              = 128\n",
      "llama_model_loader: - kv  17:               llama.attention.value_length u32              = 128\n",
      "llama_model_loader: - kv  18:                          general.file_type u32              = 7\n",
      "llama_model_loader: - kv  19:                           llama.vocab_size u32              = 128256\n",
      "llama_model_loader: - kv  20:                 llama.rope.dimension_count u32              = 128\n",
      "llama_model_loader: - kv  21:                       tokenizer.ggml.model str              = gpt2\n",
      "llama_model_loader: - kv  22:                         tokenizer.ggml.pre str              = llama-bpe\n",
      "llama_model_loader: - kv  23:                      tokenizer.ggml.tokens arr[str,128256]  = [\"!\", \"\\\"\", \"#\", \"$\", \"%\", \"&\", \"'\", ...\n",
      "llama_model_loader: - kv  24:                  tokenizer.ggml.token_type arr[i32,128256]  = [1, 1, 1, 1, 1, 1, 1, 1, 1, 1, 1, 1, ...\n",
      "llama_model_loader: - kv  25:                      tokenizer.ggml.merges arr[str,280147]  = [\"Ġ Ġ\", \"Ġ ĠĠĠ\", \"ĠĠ ĠĠ\", \"...\n",
      "llama_model_loader: - kv  26:                tokenizer.ggml.bos_token_id u32              = 128000\n",
      "llama_model_loader: - kv  27:                tokenizer.ggml.eos_token_id u32              = 128009\n",
      "llama_model_loader: - kv  28:                    tokenizer.chat_template str              = {% set loop_messages = messages %}{% ...\n",
      "llama_model_loader: - kv  29:               general.quantization_version u32              = 2\n",
      "llama_model_loader: - type  f32:   58 tensors\n",
      "llama_model_loader: - type q8_0:  197 tensors\n",
      "print_info: file format = GGUF V3 (latest)\n",
      "print_info: file type   = Q8_0\n",
      "print_info: file size   = 3.18 GiB (8.50 BPW) \n",
      "init_tokenizer: initializing tokenizer for type 2\n",
      "load: control token: 128098 '<|reserved_special_token_90|>' is not marked as EOG\n",
      "load: control token: 128191 '<|reserved_special_token_183|>' is not marked as EOG\n",
      "load: control token: 128130 '<|reserved_special_token_122|>' is not marked as EOG\n",
      "load: control token: 128119 '<|reserved_special_token_111|>' is not marked as EOG\n",
      "load: control token: 128136 '<|reserved_special_token_128|>' is not marked as EOG\n",
      "load: control token: 128155 '<|reserved_special_token_147|>' is not marked as EOG\n",
      "load: control token: 128196 '<|reserved_special_token_188|>' is not marked as EOG\n",
      "load: control token: 128101 '<|reserved_special_token_93|>' is not marked as EOG\n",
      "load: control token: 128138 '<|reserved_special_token_130|>' is not marked as EOG\n",
      "load: control token: 128181 '<|reserved_special_token_173|>' is not marked as EOG\n",
      "load: control token: 128034 '<|reserved_special_token_26|>' is not marked as EOG\n",
      "load: control token: 128209 '<|reserved_special_token_201|>' is not marked as EOG\n",
      "load: control token: 128031 '<|reserved_special_token_23|>' is not marked as EOG\n",
      "load: control token: 128050 '<|reserved_special_token_42|>' is not marked as EOG\n",
      "load: control token: 128244 '<|reserved_special_token_236|>' is not marked as EOG\n",
      "load: control token: 128148 '<|reserved_special_token_140|>' is not marked as EOG\n",
      "load: control token: 128198 '<|reserved_special_token_190|>' is not marked as EOG\n",
      "load: control token: 128229 '<|reserved_special_token_221|>' is not marked as EOG\n",
      "load: control token: 128165 '<|reserved_special_token_157|>' is not marked as EOG\n",
      "load: control token: 128246 '<|reserved_special_token_238|>' is not marked as EOG\n",
      "load: control token: 128017 '<|reserved_special_token_9|>' is not marked as EOG\n",
      "load: control token: 128216 '<|reserved_special_token_208|>' is not marked as EOG\n",
      "load: control token: 128161 '<|reserved_special_token_153|>' is not marked as EOG\n",
      "load: control token: 128224 '<|reserved_special_token_216|>' is not marked as EOG\n",
      "load: control token: 128082 '<|reserved_special_token_74|>' is not marked as EOG\n",
      "load: control token: 128004 '<|finetune_right_pad_id|>' is not marked as EOG\n",
      "load: control token: 128249 '<|reserved_special_token_241|>' is not marked as EOG\n",
      "load: control token: 128107 '<|reserved_special_token_99|>' is not marked as EOG\n",
      "load: control token: 128079 '<|reserved_special_token_71|>' is not marked as EOG\n",
      "load: control token: 128225 '<|reserved_special_token_217|>' is not marked as EOG\n",
      "load: control token: 128175 '<|reserved_special_token_167|>' is not marked as EOG\n",
      "load: control token: 128223 '<|reserved_special_token_215|>' is not marked as EOG\n",
      "load: control token: 128182 '<|reserved_special_token_174|>' is not marked as EOG\n",
      "load: control token: 128068 '<|reserved_special_token_60|>' is not marked as EOG\n",
      "load: control token: 128252 '<|reserved_special_token_244|>' is not marked as EOG\n",
      "load: control token: 128178 '<|reserved_special_token_170|>' is not marked as EOG\n",
      "load: control token: 128221 '<|reserved_special_token_213|>' is not marked as EOG\n",
      "load: control token: 128052 '<|reserved_special_token_44|>' is not marked as EOG\n",
      "load: control token: 128122 '<|reserved_special_token_114|>' is not marked as EOG\n",
      "load: control token: 128151 '<|reserved_special_token_143|>' is not marked as EOG\n",
      "load: control token: 128121 '<|reserved_special_token_113|>' is not marked as EOG\n",
      "load: control token: 128158 '<|reserved_special_token_150|>' is not marked as EOG\n",
      "load: control token: 128096 '<|reserved_special_token_88|>' is not marked as EOG\n",
      "load: control token: 128090 '<|reserved_special_token_82|>' is not marked as EOG\n",
      "load: control token: 128238 '<|reserved_special_token_230|>' is not marked as EOG\n",
      "load: control token: 128139 '<|reserved_special_token_131|>' is not marked as EOG\n",
      "load: control token: 128176 '<|reserved_special_token_168|>' is not marked as EOG\n",
      "load: control token: 128077 '<|reserved_special_token_69|>' is not marked as EOG\n",
      "load: control token: 128214 '<|reserved_special_token_206|>' is not marked as EOG\n",
      "load: control token: 128171 '<|reserved_special_token_163|>' is not marked as EOG\n",
      "load: control token: 128112 '<|reserved_special_token_104|>' is not marked as EOG\n",
      "load: control token: 128180 '<|reserved_special_token_172|>' is not marked as EOG\n",
      "load: control token: 128060 '<|reserved_special_token_52|>' is not marked as EOG\n",
      "load: control token: 128000 '<|begin_of_text|>' is not marked as EOG\n",
      "load: control token: 128152 '<|reserved_special_token_144|>' is not marked as EOG\n",
      "load: control token: 128116 '<|reserved_special_token_108|>' is not marked as EOG\n",
      "load: control token: 128072 '<|reserved_special_token_64|>' is not marked as EOG\n",
      "load: control token: 128059 '<|reserved_special_token_51|>' is not marked as EOG\n",
      "load: control token: 128094 '<|reserved_special_token_86|>' is not marked as EOG\n",
      "load: control token: 128187 '<|reserved_special_token_179|>' is not marked as EOG\n",
      "load: control token: 128103 '<|reserved_special_token_95|>' is not marked as EOG\n",
      "load: control token: 128127 '<|reserved_special_token_119|>' is not marked as EOG\n",
      "load: control token: 128023 '<|reserved_special_token_15|>' is not marked as EOG\n",
      "load: control token: 128037 '<|reserved_special_token_29|>' is not marked as EOG\n",
      "load: control token: 128228 '<|reserved_special_token_220|>' is not marked as EOG\n",
      "load: control token: 128002 '<|reserved_special_token_0|>' is not marked as EOG\n",
      "load: control token: 128006 '<|start_header_id|>' is not marked as EOG\n",
      "load: control token: 128091 '<|reserved_special_token_83|>' is not marked as EOG\n",
      "load: control token: 128044 '<|reserved_special_token_36|>' is not marked as EOG\n",
      "load: control token: 128218 '<|reserved_special_token_210|>' is not marked as EOG\n",
      "load: control token: 128211 '<|reserved_special_token_203|>' is not marked as EOG\n",
      "load: control token: 128073 '<|reserved_special_token_65|>' is not marked as EOG\n",
      "load: control token: 128168 '<|reserved_special_token_160|>' is not marked as EOG\n",
      "load: control token: 128183 '<|reserved_special_token_175|>' is not marked as EOG\n",
      "load: control token: 128234 '<|reserved_special_token_226|>' is not marked as EOG\n",
      "load: control token: 128235 '<|reserved_special_token_227|>' is not marked as EOG\n",
      "load: control token: 128067 '<|reserved_special_token_59|>' is not marked as EOG\n",
      "load: control token: 128039 '<|reserved_special_token_31|>' is not marked as EOG\n",
      "load: control token: 128106 '<|reserved_special_token_98|>' is not marked as EOG\n",
      "load: control token: 128250 '<|reserved_special_token_242|>' is not marked as EOG\n",
      "load: control token: 128173 '<|reserved_special_token_165|>' is not marked as EOG\n",
      "load: control token: 128126 '<|reserved_special_token_118|>' is not marked as EOG\n",
      "load: control token: 128047 '<|reserved_special_token_39|>' is not marked as EOG\n",
      "load: control token: 128240 '<|reserved_special_token_232|>' is not marked as EOG\n",
      "load: control token: 128045 '<|reserved_special_token_37|>' is not marked as EOG\n",
      "load: control token: 128195 '<|reserved_special_token_187|>' is not marked as EOG\n",
      "load: control token: 128078 '<|reserved_special_token_70|>' is not marked as EOG\n",
      "load: control token: 128137 '<|reserved_special_token_129|>' is not marked as EOG\n",
      "load: control token: 128186 '<|reserved_special_token_178|>' is not marked as EOG\n",
      "load: control token: 128048 '<|reserved_special_token_40|>' is not marked as EOG\n",
      "load: control token: 128076 '<|reserved_special_token_68|>' is not marked as EOG\n",
      "load: control token: 128029 '<|reserved_special_token_21|>' is not marked as EOG\n",
      "load: control token: 128013 '<|reserved_special_token_5|>' is not marked as EOG\n",
      "load: control token: 128197 '<|reserved_special_token_189|>' is not marked as EOG\n",
      "load: control token: 128056 '<|reserved_special_token_48|>' is not marked as EOG\n",
      "load: control token: 128123 '<|reserved_special_token_115|>' is not marked as EOG\n",
      "load: control token: 128095 '<|reserved_special_token_87|>' is not marked as EOG\n",
      "load: control token: 128089 '<|reserved_special_token_81|>' is not marked as EOG\n",
      "load: control token: 128057 '<|reserved_special_token_49|>' is not marked as EOG\n",
      "load: control token: 128163 '<|reserved_special_token_155|>' is not marked as EOG\n",
      "load: control token: 128011 '<|reserved_special_token_3|>' is not marked as EOG\n",
      "load: control token: 128053 '<|reserved_special_token_45|>' is not marked as EOG\n",
      "load: control token: 128160 '<|reserved_special_token_152|>' is not marked as EOG\n",
      "load: control token: 128222 '<|reserved_special_token_214|>' is not marked as EOG\n",
      "load: control token: 128035 '<|reserved_special_token_27|>' is not marked as EOG\n",
      "load: control token: 128162 '<|reserved_special_token_154|>' is not marked as EOG\n",
      "load: control token: 128205 '<|reserved_special_token_197|>' is not marked as EOG\n",
      "load: control token: 128109 '<|reserved_special_token_101|>' is not marked as EOG\n",
      "load: control token: 128185 '<|reserved_special_token_177|>' is not marked as EOG\n",
      "load: control token: 128114 '<|reserved_special_token_106|>' is not marked as EOG\n",
      "load: control token: 128159 '<|reserved_special_token_151|>' is not marked as EOG\n",
      "load: control token: 128179 '<|reserved_special_token_171|>' is not marked as EOG\n",
      "load: control token: 128115 '<|reserved_special_token_107|>' is not marked as EOG\n",
      "load: control token: 128087 '<|reserved_special_token_79|>' is not marked as EOG\n",
      "load: control token: 128113 '<|reserved_special_token_105|>' is not marked as EOG\n",
      "load: control token: 128054 '<|reserved_special_token_46|>' is not marked as EOG\n",
      "load: control token: 128030 '<|reserved_special_token_22|>' is not marked as EOG\n",
      "load: control token: 128170 '<|reserved_special_token_162|>' is not marked as EOG\n",
      "load: control token: 128012 '<|reserved_special_token_4|>' is not marked as EOG\n",
      "load: control token: 128064 '<|reserved_special_token_56|>' is not marked as EOG\n",
      "load: control token: 128118 '<|reserved_special_token_110|>' is not marked as EOG\n",
      "load: control token: 128206 '<|reserved_special_token_198|>' is not marked as EOG\n",
      "load: control token: 128099 '<|reserved_special_token_91|>' is not marked as EOG\n",
      "load: control token: 128133 '<|reserved_special_token_125|>' is not marked as EOG\n",
      "load: control token: 128190 '<|reserved_special_token_182|>' is not marked as EOG\n",
      "load: control token: 128097 '<|reserved_special_token_89|>' is not marked as EOG\n",
      "load: control token: 128086 '<|reserved_special_token_78|>' is not marked as EOG\n",
      "load: control token: 128120 '<|reserved_special_token_112|>' is not marked as EOG\n",
      "load: control token: 128193 '<|reserved_special_token_185|>' is not marked as EOG\n",
      "load: control token: 128049 '<|reserved_special_token_41|>' is not marked as EOG\n",
      "load: control token: 128242 '<|reserved_special_token_234|>' is not marked as EOG\n",
      "load: control token: 128142 '<|reserved_special_token_134|>' is not marked as EOG\n",
      "load: control token: 128188 '<|reserved_special_token_180|>' is not marked as EOG\n",
      "load: control token: 128144 '<|reserved_special_token_136|>' is not marked as EOG\n",
      "load: control token: 128247 '<|reserved_special_token_239|>' is not marked as EOG\n",
      "load: control token: 128065 '<|reserved_special_token_57|>' is not marked as EOG\n",
      "load: control token: 128117 '<|reserved_special_token_109|>' is not marked as EOG\n",
      "load: control token: 128033 '<|reserved_special_token_25|>' is not marked as EOG\n",
      "load: control token: 128184 '<|reserved_special_token_176|>' is not marked as EOG\n",
      "load: control token: 128040 '<|reserved_special_token_32|>' is not marked as EOG\n",
      "load: control token: 128204 '<|reserved_special_token_196|>' is not marked as EOG\n",
      "load: control token: 128210 '<|reserved_special_token_202|>' is not marked as EOG\n",
      "load: control token: 128245 '<|reserved_special_token_237|>' is not marked as EOG\n",
      "load: control token: 128135 '<|reserved_special_token_127|>' is not marked as EOG\n",
      "load: control token: 128071 '<|reserved_special_token_63|>' is not marked as EOG\n",
      "load: control token: 128153 '<|reserved_special_token_145|>' is not marked as EOG\n",
      "load: control token: 128194 '<|reserved_special_token_186|>' is not marked as EOG\n",
      "load: control token: 128177 '<|reserved_special_token_169|>' is not marked as EOG\n",
      "load: control token: 128236 '<|reserved_special_token_228|>' is not marked as EOG\n",
      "load: control token: 128248 '<|reserved_special_token_240|>' is not marked as EOG\n",
      "load: control token: 128241 '<|reserved_special_token_233|>' is not marked as EOG\n",
      "load: control token: 128212 '<|reserved_special_token_204|>' is not marked as EOG\n",
      "load: control token: 128207 '<|reserved_special_token_199|>' is not marked as EOG\n",
      "load: control token: 128001 '<|end_of_text|>' is not marked as EOG\n",
      "load: control token: 128003 '<|reserved_special_token_1|>' is not marked as EOG\n",
      "load: control token: 128005 '<|reserved_special_token_2|>' is not marked as EOG\n",
      "load: control token: 128007 '<|end_header_id|>' is not marked as EOG\n",
      "load: control token: 128010 '<|python_tag|>' is not marked as EOG\n",
      "load: control token: 128014 '<|reserved_special_token_6|>' is not marked as EOG\n",
      "load: control token: 128015 '<|reserved_special_token_7|>' is not marked as EOG\n",
      "load: control token: 128016 '<|reserved_special_token_8|>' is not marked as EOG\n",
      "load: control token: 128018 '<|reserved_special_token_10|>' is not marked as EOG\n",
      "load: control token: 128019 '<|reserved_special_token_11|>' is not marked as EOG\n",
      "load: control token: 128020 '<|reserved_special_token_12|>' is not marked as EOG\n",
      "load: control token: 128021 '<|reserved_special_token_13|>' is not marked as EOG\n",
      "load: control token: 128022 '<|reserved_special_token_14|>' is not marked as EOG\n",
      "load: control token: 128024 '<|reserved_special_token_16|>' is not marked as EOG\n",
      "load: control token: 128025 '<|reserved_special_token_17|>' is not marked as EOG\n",
      "load: control token: 128026 '<|reserved_special_token_18|>' is not marked as EOG\n",
      "load: control token: 128027 '<|reserved_special_token_19|>' is not marked as EOG\n",
      "load: control token: 128028 '<|reserved_special_token_20|>' is not marked as EOG\n",
      "load: control token: 128032 '<|reserved_special_token_24|>' is not marked as EOG\n",
      "load: control token: 128036 '<|reserved_special_token_28|>' is not marked as EOG\n",
      "load: control token: 128038 '<|reserved_special_token_30|>' is not marked as EOG\n",
      "load: control token: 128041 '<|reserved_special_token_33|>' is not marked as EOG\n",
      "load: control token: 128042 '<|reserved_special_token_34|>' is not marked as EOG\n",
      "load: control token: 128043 '<|reserved_special_token_35|>' is not marked as EOG\n",
      "load: control token: 128046 '<|reserved_special_token_38|>' is not marked as EOG\n",
      "load: control token: 128051 '<|reserved_special_token_43|>' is not marked as EOG\n",
      "load: control token: 128055 '<|reserved_special_token_47|>' is not marked as EOG\n",
      "load: control token: 128058 '<|reserved_special_token_50|>' is not marked as EOG\n",
      "load: control token: 128061 '<|reserved_special_token_53|>' is not marked as EOG\n",
      "load: control token: 128062 '<|reserved_special_token_54|>' is not marked as EOG\n",
      "load: control token: 128063 '<|reserved_special_token_55|>' is not marked as EOG\n",
      "load: control token: 128066 '<|reserved_special_token_58|>' is not marked as EOG\n",
      "load: control token: 128069 '<|reserved_special_token_61|>' is not marked as EOG\n",
      "load: control token: 128070 '<|reserved_special_token_62|>' is not marked as EOG\n",
      "load: control token: 128074 '<|reserved_special_token_66|>' is not marked as EOG\n",
      "load: control token: 128075 '<|reserved_special_token_67|>' is not marked as EOG\n",
      "load: control token: 128080 '<|reserved_special_token_72|>' is not marked as EOG\n",
      "load: control token: 128081 '<|reserved_special_token_73|>' is not marked as EOG\n",
      "load: control token: 128083 '<|reserved_special_token_75|>' is not marked as EOG\n",
      "load: control token: 128084 '<|reserved_special_token_76|>' is not marked as EOG\n",
      "load: control token: 128085 '<|reserved_special_token_77|>' is not marked as EOG\n",
      "load: control token: 128088 '<|reserved_special_token_80|>' is not marked as EOG\n",
      "load: control token: 128092 '<|reserved_special_token_84|>' is not marked as EOG\n",
      "load: control token: 128093 '<|reserved_special_token_85|>' is not marked as EOG\n",
      "load: control token: 128100 '<|reserved_special_token_92|>' is not marked as EOG\n",
      "load: control token: 128102 '<|reserved_special_token_94|>' is not marked as EOG\n",
      "load: control token: 128104 '<|reserved_special_token_96|>' is not marked as EOG\n",
      "load: control token: 128105 '<|reserved_special_token_97|>' is not marked as EOG\n",
      "load: control token: 128108 '<|reserved_special_token_100|>' is not marked as EOG\n",
      "load: control token: 128110 '<|reserved_special_token_102|>' is not marked as EOG\n",
      "load: control token: 128111 '<|reserved_special_token_103|>' is not marked as EOG\n",
      "load: control token: 128124 '<|reserved_special_token_116|>' is not marked as EOG\n",
      "load: control token: 128125 '<|reserved_special_token_117|>' is not marked as EOG\n",
      "load: control token: 128128 '<|reserved_special_token_120|>' is not marked as EOG\n",
      "load: control token: 128129 '<|reserved_special_token_121|>' is not marked as EOG\n",
      "load: control token: 128131 '<|reserved_special_token_123|>' is not marked as EOG\n",
      "load: control token: 128132 '<|reserved_special_token_124|>' is not marked as EOG\n",
      "load: control token: 128134 '<|reserved_special_token_126|>' is not marked as EOG\n",
      "load: control token: 128140 '<|reserved_special_token_132|>' is not marked as EOG\n",
      "load: control token: 128141 '<|reserved_special_token_133|>' is not marked as EOG\n",
      "load: control token: 128143 '<|reserved_special_token_135|>' is not marked as EOG\n",
      "load: control token: 128145 '<|reserved_special_token_137|>' is not marked as EOG\n",
      "load: control token: 128146 '<|reserved_special_token_138|>' is not marked as EOG\n",
      "load: control token: 128147 '<|reserved_special_token_139|>' is not marked as EOG\n",
      "load: control token: 128149 '<|reserved_special_token_141|>' is not marked as EOG\n",
      "load: control token: 128150 '<|reserved_special_token_142|>' is not marked as EOG\n",
      "load: control token: 128154 '<|reserved_special_token_146|>' is not marked as EOG\n",
      "load: control token: 128156 '<|reserved_special_token_148|>' is not marked as EOG\n",
      "load: control token: 128157 '<|reserved_special_token_149|>' is not marked as EOG\n",
      "load: control token: 128164 '<|reserved_special_token_156|>' is not marked as EOG\n",
      "load: control token: 128166 '<|reserved_special_token_158|>' is not marked as EOG\n",
      "load: control token: 128167 '<|reserved_special_token_159|>' is not marked as EOG\n",
      "load: control token: 128169 '<|reserved_special_token_161|>' is not marked as EOG\n",
      "load: control token: 128172 '<|reserved_special_token_164|>' is not marked as EOG\n",
      "load: control token: 128174 '<|reserved_special_token_166|>' is not marked as EOG\n",
      "load: control token: 128189 '<|reserved_special_token_181|>' is not marked as EOG\n",
      "load: control token: 128192 '<|reserved_special_token_184|>' is not marked as EOG\n",
      "load: control token: 128199 '<|reserved_special_token_191|>' is not marked as EOG\n",
      "load: control token: 128200 '<|reserved_special_token_192|>' is not marked as EOG\n",
      "load: control token: 128201 '<|reserved_special_token_193|>' is not marked as EOG\n",
      "load: control token: 128202 '<|reserved_special_token_194|>' is not marked as EOG\n",
      "load: control token: 128203 '<|reserved_special_token_195|>' is not marked as EOG\n",
      "load: control token: 128208 '<|reserved_special_token_200|>' is not marked as EOG\n",
      "load: control token: 128213 '<|reserved_special_token_205|>' is not marked as EOG\n",
      "load: control token: 128215 '<|reserved_special_token_207|>' is not marked as EOG\n",
      "load: control token: 128217 '<|reserved_special_token_209|>' is not marked as EOG\n",
      "load: control token: 128219 '<|reserved_special_token_211|>' is not marked as EOG\n",
      "load: control token: 128220 '<|reserved_special_token_212|>' is not marked as EOG\n",
      "load: control token: 128226 '<|reserved_special_token_218|>' is not marked as EOG\n",
      "load: control token: 128227 '<|reserved_special_token_219|>' is not marked as EOG\n",
      "load: control token: 128230 '<|reserved_special_token_222|>' is not marked as EOG\n",
      "load: control token: 128231 '<|reserved_special_token_223|>' is not marked as EOG\n",
      "load: control token: 128232 '<|reserved_special_token_224|>' is not marked as EOG\n",
      "load: control token: 128233 '<|reserved_special_token_225|>' is not marked as EOG\n",
      "load: control token: 128237 '<|reserved_special_token_229|>' is not marked as EOG\n",
      "load: control token: 128239 '<|reserved_special_token_231|>' is not marked as EOG\n",
      "load: control token: 128243 '<|reserved_special_token_235|>' is not marked as EOG\n",
      "load: control token: 128251 '<|reserved_special_token_243|>' is not marked as EOG\n",
      "load: control token: 128253 '<|reserved_special_token_245|>' is not marked as EOG\n",
      "load: control token: 128254 '<|reserved_special_token_246|>' is not marked as EOG\n",
      "load: control token: 128255 '<|reserved_special_token_247|>' is not marked as EOG\n",
      "load: special tokens cache size = 256\n",
      "load: token to piece cache size = 0.7999 MB\n",
      "print_info: arch             = llama\n",
      "print_info: vocab_only       = 0\n",
      "print_info: n_ctx_train      = 131072\n",
      "print_info: n_embd           = 3072\n",
      "print_info: n_layer          = 28\n",
      "print_info: n_head           = 24\n",
      "print_info: n_head_kv        = 8\n",
      "print_info: n_rot            = 128\n",
      "print_info: n_swa            = 0\n",
      "print_info: n_embd_head_k    = 128\n",
      "print_info: n_embd_head_v    = 128\n",
      "print_info: n_gqa            = 3\n",
      "print_info: n_embd_k_gqa     = 1024\n",
      "print_info: n_embd_v_gqa     = 1024\n",
      "print_info: f_norm_eps       = 0.0e+00\n",
      "print_info: f_norm_rms_eps   = 1.0e-05\n",
      "print_info: f_clamp_kqv      = 0.0e+00\n",
      "print_info: f_max_alibi_bias = 0.0e+00\n",
      "print_info: f_logit_scale    = 0.0e+00\n",
      "print_info: f_attn_scale     = 0.0e+00\n",
      "print_info: n_ff             = 8192\n",
      "print_info: n_expert         = 0\n",
      "print_info: n_expert_used    = 0\n",
      "print_info: causal attn      = 1\n",
      "print_info: pooling type     = 0\n",
      "print_info: rope type        = 0\n",
      "print_info: rope scaling     = linear\n",
      "print_info: freq_base_train  = 500000.0\n",
      "print_info: freq_scale_train = 1\n",
      "print_info: n_ctx_orig_yarn  = 131072\n",
      "print_info: rope_finetuned   = unknown\n",
      "print_info: ssm_d_conv       = 0\n",
      "print_info: ssm_d_inner      = 0\n",
      "print_info: ssm_d_state      = 0\n",
      "print_info: ssm_dt_rank      = 0\n",
      "print_info: ssm_dt_b_c_rms   = 0\n",
      "print_info: model type       = 3B\n",
      "print_info: model params     = 3.21 B\n",
      "print_info: general.name     = Llama 3.2 3B Instruct\n",
      "print_info: vocab type       = BPE\n",
      "print_info: n_vocab          = 128256\n",
      "print_info: n_merges         = 280147\n",
      "print_info: BOS token        = 128000 '<|begin_of_text|>'\n",
      "print_info: EOS token        = 128009 '<|eot_id|>'\n",
      "print_info: EOT token        = 128009 '<|eot_id|>'\n",
      "print_info: EOM token        = 128008 '<|eom_id|>'\n",
      "print_info: LF token         = 198 'Ċ'\n",
      "print_info: EOG token        = 128008 '<|eom_id|>'\n",
      "print_info: EOG token        = 128009 '<|eot_id|>'\n",
      "print_info: max token length = 256\n",
      "load_tensors: loading model tensors, this can take a while... (mmap = true)\n",
      "load_tensors: layer   0 assigned to device CUDA0\n",
      "load_tensors: layer   1 assigned to device CUDA0\n",
      "load_tensors: layer   2 assigned to device CUDA0\n",
      "load_tensors: layer   3 assigned to device CUDA0\n",
      "load_tensors: layer   4 assigned to device CUDA0\n",
      "load_tensors: layer   5 assigned to device CUDA0\n",
      "load_tensors: layer   6 assigned to device CUDA0\n",
      "load_tensors: layer   7 assigned to device CUDA0\n",
      "load_tensors: layer   8 assigned to device CUDA0\n",
      "load_tensors: layer   9 assigned to device CUDA0\n",
      "load_tensors: layer  10 assigned to device CUDA0\n",
      "load_tensors: layer  11 assigned to device CUDA0\n",
      "load_tensors: layer  12 assigned to device CUDA0\n",
      "load_tensors: layer  13 assigned to device CUDA0\n",
      "load_tensors: layer  14 assigned to device CUDA0\n",
      "load_tensors: layer  15 assigned to device CUDA0\n",
      "load_tensors: layer  16 assigned to device CUDA0\n",
      "load_tensors: layer  17 assigned to device CUDA0\n",
      "load_tensors: layer  18 assigned to device CUDA0\n",
      "load_tensors: layer  19 assigned to device CUDA0\n",
      "load_tensors: layer  20 assigned to device CUDA0\n",
      "load_tensors: layer  21 assigned to device CUDA0\n",
      "load_tensors: layer  22 assigned to device CUDA0\n",
      "load_tensors: layer  23 assigned to device CUDA0\n",
      "load_tensors: layer  24 assigned to device CUDA0\n",
      "load_tensors: layer  25 assigned to device CUDA0\n",
      "load_tensors: layer  26 assigned to device CUDA0\n",
      "load_tensors: layer  27 assigned to device CUDA0\n",
      "load_tensors: layer  28 assigned to device CUDA0\n",
      "load_tensors: tensor 'token_embd.weight' (q8_0) (and 0 others) cannot be used with preferred buffer type CPU_AARCH64, using CPU instead\n",
      "load_tensors: offloading 28 repeating layers to GPU\n",
      "load_tensors: offloading output layer to GPU\n",
      "load_tensors: offloaded 29/29 layers to GPU\n",
      "load_tensors:        CUDA0 model buffer size =  3255.90 MiB\n",
      "load_tensors:   CPU_Mapped model buffer size =   399.23 MiB\n",
      ".................................................................................\n",
      "llama_init_from_model: n_seq_max     = 1\n",
      "llama_init_from_model: n_ctx         = 131072\n",
      "llama_init_from_model: n_ctx_per_seq = 131072\n",
      "llama_init_from_model: n_batch       = 512\n",
      "llama_init_from_model: n_ubatch      = 512\n",
      "llama_init_from_model: flash_attn    = 0\n",
      "llama_init_from_model: freq_base     = 500000.0\n",
      "llama_init_from_model: freq_scale    = 1\n",
      "llama_kv_cache_init: kv_size = 131072, offload = 1, type_k = 'f16', type_v = 'f16', n_layer = 28, can_shift = 1\n",
      "llama_kv_cache_init: layer 0: n_embd_k_gqa = 1024, n_embd_v_gqa = 1024\n",
      "llama_kv_cache_init: layer 1: n_embd_k_gqa = 1024, n_embd_v_gqa = 1024\n",
      "llama_kv_cache_init: layer 2: n_embd_k_gqa = 1024, n_embd_v_gqa = 1024\n",
      "llama_kv_cache_init: layer 3: n_embd_k_gqa = 1024, n_embd_v_gqa = 1024\n",
      "llama_kv_cache_init: layer 4: n_embd_k_gqa = 1024, n_embd_v_gqa = 1024\n",
      "llama_kv_cache_init: layer 5: n_embd_k_gqa = 1024, n_embd_v_gqa = 1024\n",
      "llama_kv_cache_init: layer 6: n_embd_k_gqa = 1024, n_embd_v_gqa = 1024\n",
      "llama_kv_cache_init: layer 7: n_embd_k_gqa = 1024, n_embd_v_gqa = 1024\n",
      "llama_kv_cache_init: layer 8: n_embd_k_gqa = 1024, n_embd_v_gqa = 1024\n",
      "llama_kv_cache_init: layer 9: n_embd_k_gqa = 1024, n_embd_v_gqa = 1024\n",
      "llama_kv_cache_init: layer 10: n_embd_k_gqa = 1024, n_embd_v_gqa = 1024\n",
      "llama_kv_cache_init: layer 11: n_embd_k_gqa = 1024, n_embd_v_gqa = 1024\n",
      "llama_kv_cache_init: layer 12: n_embd_k_gqa = 1024, n_embd_v_gqa = 1024\n",
      "llama_kv_cache_init: layer 13: n_embd_k_gqa = 1024, n_embd_v_gqa = 1024\n",
      "llama_kv_cache_init: layer 14: n_embd_k_gqa = 1024, n_embd_v_gqa = 1024\n",
      "llama_kv_cache_init: layer 15: n_embd_k_gqa = 1024, n_embd_v_gqa = 1024\n",
      "llama_kv_cache_init: layer 16: n_embd_k_gqa = 1024, n_embd_v_gqa = 1024\n",
      "llama_kv_cache_init: layer 17: n_embd_k_gqa = 1024, n_embd_v_gqa = 1024\n",
      "llama_kv_cache_init: layer 18: n_embd_k_gqa = 1024, n_embd_v_gqa = 1024\n",
      "llama_kv_cache_init: layer 19: n_embd_k_gqa = 1024, n_embd_v_gqa = 1024\n",
      "llama_kv_cache_init: layer 20: n_embd_k_gqa = 1024, n_embd_v_gqa = 1024\n",
      "llama_kv_cache_init: layer 21: n_embd_k_gqa = 1024, n_embd_v_gqa = 1024\n",
      "llama_kv_cache_init: layer 22: n_embd_k_gqa = 1024, n_embd_v_gqa = 1024\n",
      "llama_kv_cache_init: layer 23: n_embd_k_gqa = 1024, n_embd_v_gqa = 1024\n",
      "llama_kv_cache_init: layer 24: n_embd_k_gqa = 1024, n_embd_v_gqa = 1024\n",
      "llama_kv_cache_init: layer 25: n_embd_k_gqa = 1024, n_embd_v_gqa = 1024\n",
      "llama_kv_cache_init: layer 26: n_embd_k_gqa = 1024, n_embd_v_gqa = 1024\n",
      "llama_kv_cache_init: layer 27: n_embd_k_gqa = 1024, n_embd_v_gqa = 1024\n",
      "llama_kv_cache_init:      CUDA0 KV buffer size = 14336.00 MiB\n",
      "llama_init_from_model: KV self size  = 14336.00 MiB, K (f16): 7168.00 MiB, V (f16): 7168.00 MiB\n",
      "llama_init_from_model:  CUDA_Host  output buffer size =     0.49 MiB\n",
      "llama_init_from_model:      CUDA0 compute buffer size =  6424.00 MiB\n",
      "llama_init_from_model:  CUDA_Host compute buffer size =   262.01 MiB\n",
      "llama_init_from_model: graph nodes  = 902\n",
      "llama_init_from_model: graph splits = 2\n",
      "CUDA : ARCHS = 890 | USE_GRAPHS = 1 | PEER_MAX_BATCH_SIZE = 128 | CPU : SSE3 = 1 | SSSE3 = 1 | AVX = 1 | AVX2 = 1 | F16C = 1 | FMA = 1 | LLAMAFILE = 1 | OPENMP = 1 | AARCH64_REPACK = 1 | \n",
      "Model metadata: {'general.name': 'Llama 3.2 3B Instruct', 'general.architecture': 'llama', 'general.type': 'model', 'llama.block_count': '28', 'general.basename': 'Llama-3.2', 'general.finetune': 'Instruct', 'general.size_label': '3B', 'llama.context_length': '131072', 'llama.embedding_length': '3072', 'llama.feed_forward_length': '8192', 'llama.attention.head_count': '24', 'tokenizer.ggml.eos_token_id': '128009', 'general.file_type': '7', 'llama.attention.head_count_kv': '8', 'llama.rope.freq_base': '500000.000000', 'llama.attention.layer_norm_rms_epsilon': '0.000010', 'llama.attention.key_length': '128', 'llama.attention.value_length': '128', 'llama.vocab_size': '128256', 'llama.rope.dimension_count': '128', 'tokenizer.ggml.model': 'gpt2', 'tokenizer.ggml.pre': 'llama-bpe', 'general.quantization_version': '2', 'tokenizer.ggml.bos_token_id': '128000', 'tokenizer.chat_template': \"{% set loop_messages = messages %}{% for message in loop_messages %}{% set content = '<|start_header_id|>' + message['role'] + '<|end_header_id|>\\n\\n'+ message['content'] | trim + '<|eot_id|>' %}{% if loop.index0 == 0 %}{% set content = bos_token + content %}{% endif %}{{ content }}{% endfor %}{{ '<|start_header_id|>assistant<|end_header_id|>\\n\\n' }}\"}\n",
      "Available chat formats from metadata: chat_template.default\n",
      "Using gguf chat template: {% set loop_messages = messages %}{% for message in loop_messages %}{% set content = '<|start_header_id|>' + message['role'] + '<|end_header_id|>\n",
      "\n",
      "'+ message['content'] | trim + '<|eot_id|>' %}{% if loop.index0 == 0 %}{% set content = bos_token + content %}{% endif %}{{ content }}{% endfor %}{{ '<|start_header_id|>assistant<|end_header_id|>\n",
      "\n",
      "' }}\n",
      "Using chat eos_token: <|eot_id|>\n",
      "Using chat bos_token: <|begin_of_text|>\n"
     ]
    }
   ],
   "source": [
    "import llama_cpp\n",
    "model = llama_cpp.Llama(\n",
    "    model_path=\"llama-3.2-3b-instruct-q8_0.gguf\",\n",
    "    n_ctx=0,\n",
    "    n_gpu_layers=-1,  # Use all available GPU layers (if any) or CPU (if no GPU is available\n",
    "    )"
   ]
  },
  {
   "cell_type": "code",
   "execution_count": null,
   "id": "037caa82",
   "metadata": {},
   "outputs": [],
   "source": [
    "# Used to create a smaller dictionary for testing\n",
    "\n",
    "small_session_dict = dict(list(sessions_dict.items())[:1])"
   ]
  },
  {
   "cell_type": "markdown",
   "id": "372aa595",
   "metadata": {},
   "source": [
    "### Full Example Titles and Keywords"
   ]
  },
  {
   "cell_type": "code",
   "execution_count": 31,
   "id": "77f508d0",
   "metadata": {},
   "outputs": [
    {
     "name": "stderr",
     "output_type": "stream",
     "text": [
      "llama_perf_context_print:        load time =  102151.26 ms\n",
      "llama_perf_context_print: prompt eval time =  102150.10 ms /  7550 tokens (   13.53 ms per token,    73.91 tokens per second)\n",
      "llama_perf_context_print:        eval time =   47263.05 ms /    85 runs   (  556.04 ms per token,     1.80 tokens per second)\n",
      "llama_perf_context_print:       total time =  150895.20 ms /  7635 tokens\n",
      "Llama.generate: 198 prefix-match hit, remaining 4505 prompt tokens to eval\n"
     ]
    },
    {
     "name": "stdout",
     "output_type": "stream",
     "text": [
      "{ \"title1\": \"Precision Weed Management: Advances in Robotics, Machine Vision, and Deep Learning\", \"title2\": \"Weed Control 2.0: Integrating Robotics, AI, and Precision Agriculture\", \"title3\": \"Next-Generation Weed Management: A Multidisciplinary Approach to Precision Agriculture\", \"keywords\": \"Robotics, Machine Vision, Precision Agriculture, Weed Control, Artificial Intelligence\" }\n"
     ]
    },
    {
     "name": "stderr",
     "output_type": "stream",
     "text": [
      "llama_perf_context_print:        load time =  102151.26 ms\n",
      "llama_perf_context_print: prompt eval time =   46922.72 ms /  4505 tokens (   10.42 ms per token,    96.01 tokens per second)\n",
      "llama_perf_context_print:        eval time =   41232.47 ms /   110 runs   (  374.84 ms per token,     2.67 tokens per second)\n",
      "llama_perf_context_print:       total time =   89974.36 ms /  4615 tokens\n",
      "Llama.generate: 198 prefix-match hit, remaining 6398 prompt tokens to eval\n"
     ]
    },
    {
     "name": "stdout",
     "output_type": "stream",
     "text": [
      "{ \"title1\": \"Advancing Precision Agriculture: Integration of Robotics, Machine Learning, and Sensing Technologies for Efficient Crop Management\", \"title2\": \"Precision Agriculture 2.0: Leveraging Robotics, AI, and Sensing for Optimal Crop Yield and Resource Allocation\", \"title3\": \"Next-Generation Precision Agriculture: Combining Robotics, Deep Learning, and Advanced Sensing for Intelligent Crop Management\", \"keywords\": \"Robotics, Machine Learning, Precision Agriculture, Sensing Technologies, Crop Management, AI, Deep Learning\" }\n"
     ]
    },
    {
     "name": "stderr",
     "output_type": "stream",
     "text": [
      "llama_perf_context_print:        load time =  102151.26 ms\n",
      "llama_perf_context_print: prompt eval time =   79954.55 ms /  6398 tokens (   12.50 ms per token,    80.02 tokens per second)\n",
      "llama_perf_context_print:        eval time =   47047.59 ms /    95 runs   (  495.24 ms per token,     2.02 tokens per second)\n",
      "llama_perf_context_print:       total time =  128905.08 ms /  6493 tokens\n",
      "Llama.generate: 198 prefix-match hit, remaining 10383 prompt tokens to eval\n"
     ]
    },
    {
     "name": "stdout",
     "output_type": "stream",
     "text": [
      "{ \"title1\": \"Precision Agriculture for Sustainable Crop Management: Integrating Remote Sensing, Machine Learning, and Robotics\", \"title2\": \"Advancing Crop Management through AI-Driven Decision Making: A Multidisciplinary Approach\", \"title3\": \"Next-Generation Crop Management: Leveraging Remote Sensing, Machine Learning, and Robotics for Sustainable Agriculture\", \"keywords\": \"Remote Sensing, Machine Learning, Precision Agriculture, Crop Management, Sustainable Agriculture\" }\n"
     ]
    },
    {
     "name": "stderr",
     "output_type": "stream",
     "text": [
      "llama_perf_context_print:        load time =  102151.26 ms\n",
      "llama_perf_context_print: prompt eval time =  181885.27 ms / 10383 tokens (   17.52 ms per token,    57.09 tokens per second)\n",
      "llama_perf_context_print:        eval time =   86313.55 ms /   113 runs   (  763.84 ms per token,     1.31 tokens per second)\n",
      "llama_perf_context_print:       total time =  270698.12 ms / 10496 tokens\n",
      "Llama.generate: 198 prefix-match hit, remaining 5601 prompt tokens to eval\n"
     ]
    },
    {
     "name": "stdout",
     "output_type": "stream",
     "text": [
      "{ \"title1\": \"Robotic Vision and Actuation: Advancing Precision Agriculture in the Era of Artificial Intelligence and Robotics\", \"title2\": \"Precision Agriculture 2.0: Integrating AI, Robotics, and Hyperspectral Imaging for Optimal Crop Yield and Resource Management\", \"title3\": \"Next-Generation Precision Agriculture: Leveraging Deep Learning, Robotics, and Hyperspectral Imaging for Enhanced Crop Monitoring and Management\", \"keywords\": \"Robotics, Machine Vision, Precision Agriculture, Hyperspectral Imaging, Artificial Intelligence, Deep Learning\" }\n"
     ]
    },
    {
     "name": "stderr",
     "output_type": "stream",
     "text": [
      "llama_perf_context_print:        load time =  102151.26 ms\n",
      "llama_perf_context_print: prompt eval time =   64790.16 ms /  5601 tokens (   11.57 ms per token,    86.45 tokens per second)\n",
      "llama_perf_context_print:        eval time =   42764.18 ms /    96 runs   (  445.46 ms per token,     2.24 tokens per second)\n",
      "llama_perf_context_print:       total time =  109549.78 ms /  5697 tokens\n",
      "Llama.generate: 198 prefix-match hit, remaining 4928 prompt tokens to eval\n"
     ]
    },
    {
     "name": "stdout",
     "output_type": "stream",
     "text": [
      "{ \"title1\": \"Advancing Precision Agriculture: Integration of Robotics, AI, and Multivariable Data\", \"title2\": \"Robotic Vision and Actuation for Autonomous Crop Monitoring and Phenotyping\", \"title3\": \"Next-Generation Precision Agriculture: Integrating Deep Learning, Robotics, and Advanced Sensing\", \"keywords\": \"Robotics, Machine Vision, Precision Agriculture, Multivariable Data, Artificial Intelligence, Autonomous Systems, Sensor Fusion, Deep Learning\" }\n"
     ]
    },
    {
     "name": "stderr",
     "output_type": "stream",
     "text": [
      "llama_perf_context_print:        load time =  102151.26 ms\n",
      "llama_perf_context_print: prompt eval time =   53730.41 ms /  4928 tokens (   10.90 ms per token,    91.72 tokens per second)\n",
      "llama_perf_context_print:        eval time =   40280.14 ms /   100 runs   (  402.80 ms per token,     2.48 tokens per second)\n",
      "llama_perf_context_print:       total time =   96076.40 ms /  5028 tokens\n",
      "Llama.generate: 198 prefix-match hit, remaining 5705 prompt tokens to eval\n"
     ]
    },
    {
     "name": "stdout",
     "output_type": "stream",
     "text": [
      "{ \"title1\": \"Precision Agriculture for Sustainable Strawberry Production: Advances in Robotics, Sensing, and AI\", \"title2\": \"Strawberry Harvesting Automation: Leveraging Robotics, Computer Vision, and Machine Learning\", \"title3\": \"Next-Generation Strawberry Production: Integrating Robotics, Sensing, and Artificial Intelligence for Optimal Yield and Sustainability\", \"keywords\": \"Robotics, Precision Agriculture, Artificial Intelligence, Computer Vision, Machine Learning, Sustainable Agriculture, Strawberry Production\" }\n"
     ]
    },
    {
     "name": "stderr",
     "output_type": "stream",
     "text": [
      "llama_perf_context_print:        load time =  102151.26 ms\n",
      "llama_perf_context_print: prompt eval time =   66786.43 ms /  5705 tokens (   11.71 ms per token,    85.42 tokens per second)\n",
      "llama_perf_context_print:        eval time =   45663.86 ms /   101 runs   (  452.12 ms per token,     2.21 tokens per second)\n",
      "llama_perf_context_print:       total time =  114491.53 ms /  5806 tokens\n",
      "Llama.generate: 198 prefix-match hit, remaining 7947 prompt tokens to eval\n"
     ]
    },
    {
     "name": "stdout",
     "output_type": "stream",
     "text": [
      "{ \"title1\": \"Advancing Precision Agriculture: Integration of Robotics, AI, and Sensing Technologies\", \"title2\": \"Precision Agriculture 2.0: Harnessing AI, Robotics, and Sensing for Enhanced Crop Yield and Sustainability\", \"title3\": \"Next-Generation Precision Agriculture: Leveraging AI, Robotics, and Advanced Sensing for Optimized Crop Management\", \"keywords\": \"Robotics, Artificial Intelligence, Precision Agriculture, Sensing Technologies, Machine Vision, Autonomous Systems\" }\n"
     ]
    },
    {
     "name": "stderr",
     "output_type": "stream",
     "text": [
      "llama_perf_context_print:        load time =  102151.26 ms\n",
      "llama_perf_context_print: prompt eval time =  115706.13 ms /  7947 tokens (   14.56 ms per token,    68.68 tokens per second)\n",
      "llama_perf_context_print:        eval time =   53828.60 ms /    90 runs   (  598.10 ms per token,     1.67 tokens per second)\n",
      "llama_perf_context_print:       total time =  171451.81 ms /  8037 tokens\n",
      "Llama.generate: 198 prefix-match hit, remaining 3456 prompt tokens to eval\n"
     ]
    },
    {
     "name": "stdout",
     "output_type": "stream",
     "text": [
      "{ \"title1\": \"Precision Agriculture through Robotics and AI: Advancing Crop Management and Sustainability\", \"title2\": \"Robotic Vision and Actuation: Advancing Precision Weed Management in Agriculture\", \"title3\": \"Next-Generation Crop Monitoring: Integrating Deep Learning, Robotics, and Advanced Sensing for Sustainable Agriculture\" , \"keywords\": \"Robotics, Machine Vision, Precision Agriculture, Crop Monitoring, Artificial Intelligence, Deep Learning\" }\n"
     ]
    },
    {
     "name": "stderr",
     "output_type": "stream",
     "text": [
      "llama_perf_context_print:        load time =  102151.26 ms\n",
      "llama_perf_context_print: prompt eval time =   31317.46 ms /  3456 tokens (    9.06 ms per token,   110.35 tokens per second)\n",
      "llama_perf_context_print:        eval time =   27209.50 ms /    88 runs   (  309.20 ms per token,     3.23 tokens per second)\n",
      "llama_perf_context_print:       total time =   60292.53 ms /  3544 tokens\n",
      "Llama.generate: 197 prefix-match hit, remaining 8930 prompt tokens to eval\n"
     ]
    },
    {
     "name": "stdout",
     "output_type": "stream",
     "text": [
      "{ \"title1\": \"Precision Agriculture and Autonomous Robotics: Advancing Sustainable Farming Practices\", \"title2\": \"Autonomous Farming Systems: Integrating Robotics, AI, and Sensing Technologies\", \"title3\": \"Next-Generation Precision Agriculture: Leveraging Robotics, AI, and IoT for Sustainable Farming\", \"keywords\": \"Autonomous Robotics, Precision Agriculture, Artificial Intelligence, Internet of Things, Sensing Technologies\" }\n"
     ]
    },
    {
     "name": "stderr",
     "output_type": "stream",
     "text": [
      "llama_perf_context_print:        load time =  102151.26 ms\n",
      "llama_perf_context_print: prompt eval time =  140194.90 ms /  8930 tokens (   15.70 ms per token,    63.70 tokens per second)\n",
      "llama_perf_context_print:        eval time =   60024.17 ms /    91 runs   (  659.61 ms per token,     1.52 tokens per second)\n",
      "llama_perf_context_print:       total time =  202161.35 ms /  9021 tokens\n",
      "Llama.generate: 197 prefix-match hit, remaining 7232 prompt tokens to eval\n"
     ]
    },
    {
     "name": "stdout",
     "output_type": "stream",
     "text": [
      "{ \"title1\": \"Precision Agriculture for Pest Management: Advances in Robotics, AI, and Sensing\", \"title2\": \"Next-Generation Pest Management: Integrating Deep Learning, Robotics, and Advanced Sensing\", \"title3\": \"Automated Pest Detection and Management: A Synergistic Approach to Precision Agriculture\", \"keywords\": \"Precision Agriculture, Robotics, Artificial Intelligence, Sensing, Pest Management, Autonomous Systems, Machine Learning\" }\n"
     ]
    },
    {
     "name": "stderr",
     "output_type": "stream",
     "text": [
      "llama_perf_context_print:        load time =  102151.26 ms\n",
      "llama_perf_context_print: prompt eval time =   98287.88 ms /  7232 tokens (   13.59 ms per token,    73.58 tokens per second)\n",
      "llama_perf_context_print:        eval time =   53766.90 ms /    98 runs   (  548.64 ms per token,     1.82 tokens per second)\n",
      "llama_perf_context_print:       total time =  154188.58 ms /  7330 tokens\n",
      "Llama.generate: 198 prefix-match hit, remaining 5665 prompt tokens to eval\n"
     ]
    },
    {
     "name": "stdout",
     "output_type": "stream",
     "text": [
      "{ \"title1\": \"Precision Agriculture for Sustainable Crop Management: Advances in Robotics, AI, and Sensing Technologies\", \"title2\": \"Next-Generation Precision Agriculture: Integrating Robotics, AI, and Sensing for Enhanced Crop Management\", \"title3\": \"Precision Agriculture 2.0: Leveraging Robotics, AI, and Sensing Technologies for Sustainable Crop Management\", \"keywords\": \"Robotics, Precision Agriculture, Artificial Intelligence, Sensing Technologies, Sustainable Crop Management\" }\n"
     ]
    },
    {
     "name": "stderr",
     "output_type": "stream",
     "text": [
      "llama_perf_context_print:        load time =  102151.26 ms\n",
      "llama_perf_context_print: prompt eval time =   66357.80 ms /  5665 tokens (   11.71 ms per token,    85.37 tokens per second)\n",
      "llama_perf_context_print:        eval time =   35466.99 ms /    79 runs   (  448.95 ms per token,     2.23 tokens per second)\n",
      "llama_perf_context_print:       total time =  103427.96 ms /  5744 tokens\n",
      "Llama.generate: 198 prefix-match hit, remaining 5508 prompt tokens to eval\n"
     ]
    },
    {
     "name": "stdout",
     "output_type": "stream",
     "text": [
      "{ \"title1\": \"Advancing Precision Agriculture through Deep Learning and Robotics\", \"title2\": \"Robotic Vision and Actuation: Advancing Precision Weed Management in Agriculture\", \"title3\": \"Next-Generation Weed Management: Integrating Deep Learning, Robotics, and Advanced Sensing\", \"keywords\": \"Robotics, Machine Vision, Precision Agriculture, Weed Control, Artificial Intelligence\" }\n"
     ]
    },
    {
     "name": "stderr",
     "output_type": "stream",
     "text": [
      "llama_perf_context_print:        load time =  102151.26 ms\n",
      "llama_perf_context_print: prompt eval time =   64121.12 ms /  5508 tokens (   11.64 ms per token,    85.90 tokens per second)\n",
      "llama_perf_context_print:        eval time =   44835.11 ms /   102 runs   (  439.56 ms per token,     2.28 tokens per second)\n",
      "llama_perf_context_print:       total time =  111159.42 ms /  5610 tokens\n",
      "Llama.generate: 198 prefix-match hit, remaining 8242 prompt tokens to eval\n"
     ]
    },
    {
     "name": "stdout",
     "output_type": "stream",
     "text": [
      "{ \"title1\": \"Advancing Precision Agriculture: Integrating Robotics, AI, and Sensing Technologies for Sustainable Cotton Production\", \"title2\": \"Precision Cotton Management: Exploring the Potential of Robotics, Machine Learning, and Sensing Technologies\", \"title3\": \"Cotton Production 4.0: Harnessing the Power of AI, Robotics, and Sensing Technologies for Enhanced Sustainability and Yield\", \"keywords\": \"Robotics, Machine Learning, Precision Agriculture, Cotton Production, Sustainable Agriculture\" }\n"
     ]
    },
    {
     "name": "stderr",
     "output_type": "stream",
     "text": [
      "llama_perf_context_print:        load time =  102151.26 ms\n",
      "llama_perf_context_print: prompt eval time =  122348.21 ms /  8242 tokens (   14.84 ms per token,    67.37 tokens per second)\n",
      "llama_perf_context_print:        eval time =   55401.23 ms /    90 runs   (  615.57 ms per token,     1.62 tokens per second)\n",
      "llama_perf_context_print:       total time =  179708.87 ms /  8332 tokens\n",
      "Llama.generate: 198 prefix-match hit, remaining 3897 prompt tokens to eval\n"
     ]
    },
    {
     "name": "stdout",
     "output_type": "stream",
     "text": [
      "{ \"title1\": \"Precision Livestock Monitoring and Management: Leveraging AI and IoT Technologies\", \"title2\": \"Automating Livestock Monitoring and Management: A Review of Recent Advances\", \"title3\": \"Next-Generation Livestock Monitoring: Integrating AI, IoT, and Precision Agriculture\", \"keywords\": \"Artificial Intelligence, Internet of Things, Precision Agriculture, Livestock Monitoring, Animal Welfare, Sustainability\" }\n"
     ]
    },
    {
     "name": "stderr",
     "output_type": "stream",
     "text": [
      "llama_perf_context_print:        load time =  102151.26 ms\n",
      "llama_perf_context_print: prompt eval time =   37339.62 ms /  3897 tokens (    9.58 ms per token,   104.37 tokens per second)\n",
      "llama_perf_context_print:        eval time =   29713.83 ms /    88 runs   (  337.66 ms per token,     2.96 tokens per second)\n",
      "llama_perf_context_print:       total time =   68795.94 ms /  3985 tokens\n",
      "Llama.generate: 198 prefix-match hit, remaining 6417 prompt tokens to eval\n"
     ]
    },
    {
     "name": "stdout",
     "output_type": "stream",
     "text": [
      "{ \"title1\": \"Precision Agriculture for Sustainable Crop Production: Advances in IoT, Robotics, and AI\", \"title2\": \"Integrating Robotics, AI, and IoT for Precision Agriculture: Opportunities and Challenges\", \"title3\": \"Next-Generation Precision Agriculture: Leveraging Robotics, AI, and IoT for Enhanced Crop Yield and Sustainability\", \"keywords\": \"Precision Agriculture, IoT, Robotics, AI, Sustainable Crop Production\" }\n"
     ]
    },
    {
     "name": "stderr",
     "output_type": "stream",
     "text": [
      "llama_perf_context_print:        load time =  102151.26 ms\n",
      "llama_perf_context_print: prompt eval time =   80851.27 ms /  6417 tokens (   12.60 ms per token,    79.37 tokens per second)\n",
      "llama_perf_context_print:        eval time =   50795.51 ms /   102 runs   (  498.00 ms per token,     2.01 tokens per second)\n",
      "llama_perf_context_print:       total time =  134885.49 ms /  6519 tokens\n",
      "Llama.generate: 198 prefix-match hit, remaining 6196 prompt tokens to eval\n"
     ]
    },
    {
     "name": "stdout",
     "output_type": "stream",
     "text": [
      "{ \"title1\": \"Precision Agriculture: Advancing Robotics, Machine Learning, and Sensing for Sustainable Crop Management\", \"title2\": \"Intelligent Farming: Integrating Robotics, AI, and Sensing for Enhanced Crop Yield and Quality\", \"title3\": \"Next-Generation Agricultural Robotics: Combining Deep Learning, Sensing, and Automation for Precision Farming\" , \"keywords\": \"Robotics, Machine Learning, Precision Agriculture, Sensing, Automation, Artificial Intelligence\" }\n"
     ]
    },
    {
     "name": "stderr",
     "output_type": "stream",
     "text": [
      "llama_perf_context_print:        load time =  102151.26 ms\n",
      "llama_perf_context_print: prompt eval time =   75887.43 ms /  6196 tokens (   12.25 ms per token,    81.65 tokens per second)\n",
      "llama_perf_context_print:        eval time =   52125.84 ms /   108 runs   (  482.65 ms per token,     2.07 tokens per second)\n",
      "llama_perf_context_print:       total time =  130269.99 ms /  6304 tokens\n",
      "Llama.generate: 198 prefix-match hit, remaining 5509 prompt tokens to eval\n"
     ]
    },
    {
     "name": "stdout",
     "output_type": "stream",
     "text": [
      "{ \"title1\": \"Precision Agriculture for Sustainable Crop Management: Integrating Robotics, AI, and Sensing Technologies\", \"title2\": \"Next-Generation Crop Management: Leveraging Robotics, Multispectral Imaging, and Deep Learning\", \"title3\": \"Advancing Precision Agriculture: A Multi-Disciplinary Approach to Crop Management and Sustainability\", \"keywords\": \"Precision Agriculture, Robotics, Multispectral Imaging, Deep Learning, AI, Sensing Technologies, Sustainable Crop Management, Crop Yield, Water Use Efficiency, Soil Health\" }\n"
     ]
    },
    {
     "name": "stderr",
     "output_type": "stream",
     "text": [
      "llama_perf_context_print:        load time =  102151.26 ms\n",
      "llama_perf_context_print: prompt eval time =   64140.18 ms /  5509 tokens (   11.64 ms per token,    85.89 tokens per second)\n",
      "llama_perf_context_print:        eval time =   47022.75 ms /   107 runs   (  439.46 ms per token,     2.28 tokens per second)\n",
      "llama_perf_context_print:       total time =  113450.61 ms /  5616 tokens\n",
      "Llama.generate: 198 prefix-match hit, remaining 4641 prompt tokens to eval\n"
     ]
    },
    {
     "name": "stdout",
     "output_type": "stream",
     "text": [
      "{ \"title1\": \"Advancing Precision Agriculture: Integrating Deep Learning, Robotics, and Advanced Sensing for Sustainable Crop Management\", \"title2\": \"Precision Agriculture 2.0: Leveraging AI, Robotics, and IoT for Enhanced Crop Yield and Resource Efficiency\", \"title3\": \"Smart Farming: Exploring the Intersection of Deep Learning, Robotics, and Advanced Sensing for Optimized Crop Management\", \"keywords\": \"Artificial Intelligence, Robotics, Precision Agriculture, Deep Learning, IoT, Sensing Technologies\" }\n"
     ]
    },
    {
     "name": "stderr",
     "output_type": "stream",
     "text": [
      "llama_perf_context_print:        load time =  102151.26 ms\n",
      "llama_perf_context_print: prompt eval time =   49014.43 ms /  4641 tokens (   10.56 ms per token,    94.69 tokens per second)\n",
      "llama_perf_context_print:        eval time =   34486.65 ms /    90 runs   (  383.19 ms per token,     2.61 tokens per second)\n",
      "llama_perf_context_print:       total time =   85363.21 ms /  4731 tokens\n",
      "Llama.generate: 198 prefix-match hit, remaining 4368 prompt tokens to eval\n"
     ]
    },
    {
     "name": "stdout",
     "output_type": "stream",
     "text": [
      "{ \"title1\": \"Precision Agriculture and Autonomous Systems: Advancing Sustainable Crop Management through Robotics and AI\", \"title2\": \"Integrating Robotics, AI, and Precision Agriculture for Efficient Crop Management\", \"title3\": \"Next-Generation Precision Agriculture: Harnessing Robotics, AI, and Advanced Sensing for Sustainable Crop Management\", \"keywords\": \"Robotics, Precision Agriculture, Artificial Intelligence, Autonomous Systems, Sustainable Crop Management\" }\n"
     ]
    },
    {
     "name": "stderr",
     "output_type": "stream",
     "text": [
      "llama_perf_context_print:        load time =  102151.26 ms\n",
      "llama_perf_context_print: prompt eval time =   44506.52 ms /  4368 tokens (   10.19 ms per token,    98.14 tokens per second)\n",
      "llama_perf_context_print:        eval time =   38147.83 ms /   104 runs   (  366.81 ms per token,     2.73 tokens per second)\n",
      "llama_perf_context_print:       total time =   84753.62 ms /  4472 tokens\n",
      "Llama.generate: 198 prefix-match hit, remaining 5685 prompt tokens to eval\n"
     ]
    },
    {
     "name": "stdout",
     "output_type": "stream",
     "text": [
      "{ \"title1\": \"Integrating AI and Robotics for Precision Agriculture: A Multi-Disciplinary Approach to Enhancing Crop Yields and Sustainability\", \"title2\": \"Next-Generation Precision Agriculture: Leveraging AI, Robotics, and IoT for Increased Efficiency and Sustainability\", \"title3\": \"Precision Agriculture 2.0: AI-Driven Decision Making and Robotics for Enhanced Crop Yields and Environmental Sustainability\", \"keywords\": \"Artificial Intelligence, Robotics, Precision Agriculture, Internet of Things, Sustainability\" }\n"
     ]
    },
    {
     "name": "stderr",
     "output_type": "stream",
     "text": [
      "llama_perf_context_print:        load time =  102151.26 ms\n",
      "llama_perf_context_print: prompt eval time =   66531.67 ms /  5685 tokens (   11.70 ms per token,    85.45 tokens per second)\n",
      "llama_perf_context_print:        eval time =   41503.69 ms /    92 runs   (  451.13 ms per token,     2.22 tokens per second)\n",
      "llama_perf_context_print:       total time =  109862.80 ms /  5777 tokens\n"
     ]
    },
    {
     "name": "stdout",
     "output_type": "stream",
     "text": [
      "{ \"title1\": \"Advancing Precision Agriculture with AI and Robotics: A Multidisciplinary Approach\", \"title2\": \"Integrating AI, Robotics, and Sensing for Next-Generation Precision Agriculture\", \"title3\": \"Precision Agriculture 2.0: Leveraging AI, Robotics, and IoT for Sustainable Farming\", \"keywords\": \"Artificial Intelligence, Robotics, Precision Agriculture, Internet of Things, Sustainable Farming\" }\n",
      "Processing time: 2670.5897 seconds\n"
     ]
    }
   ],
   "source": [
    "import json\n",
    "import time\n",
    "\n",
    "start_time = time.time()\n",
    "# Iterate over the sessions and prompt the LLM for the session title and keywords\n",
    "for session_key, session_value in sessions_dict.items():# sessions_dict.items():\n",
    "    messages=[\n",
    "    {   \"role\": \"user\", \n",
    "        \"content\": (\"I am organizing oral research presentation sessions for the American Society of Biological and Agricultural Engineers\"\n",
    "                \"Annual International Meeting. Please provide 3 options for the name/title of a session. \"\n",
    "                    \"Also provide 5 keywords describing the session. The name and keywords should highlight the commonality among all presentations. \"\n",
    "                    \"The target audience for titles and keywords is engineering designers and researchers.\"\n",
    "                    \"The title should be descriptive of the content and be interesting and engaging. \\n\"\n",
    "                    \"Please respond in this format\\n\\n \"\n",
    "                    \"{\"\n",
    "                    \"     'title_1': 'Robotic Vision and Actuation: Advancing Precision Weed Management in Agriculture',\\n\"\n",
    "                    \"     'title_2': 'AI-Driven Weed Control: From Smart Sprayers to Autonomous Robotics',\\n\"\n",
    "                    \"     'title_3': 'Next-Generation Weed Management: Integrating Deep Learning, Robotics, and Advanced Sensing',\\n\"\n",
    "                    \"     'keywords': 'Robotics, Machine Vision, Precision Agriculture, Weed Control, Artificial Intelligence'    }\\n\\n\"\n",
    "                    \"The titles and abstracts for presentations assigned to this session are:\\n\"\n",
    "                    + str(session_value['Presentations'])\n",
    "                    )\n",
    "    },]\n",
    "    session_titleAbsLlama = (model.create_chat_completion(\n",
    "        messages=messages,\n",
    "        response_format={\n",
    "        \"type\": \"json_object\",\n",
    "        \"schema\": {\n",
    "            \"type\": \"object\",\n",
    "            \"properties\": {\"title1\": {\"type\": \"string\"}, \"title2\": {\"type\": \"string\"}, \"title3\": {\"type\": \"string\"}, \"keywords\": {\"type\": \"string\"}},\n",
    "            \"required\": [\"title1\", \"title2\", \"title3\", \"keywords\"],\n",
    "            },\n",
    "        },\n",
    "    ))\n",
    "    text_answer = session_titleAbsLlama['choices'][0]['message']['content']\n",
    "    print(text_answer)\n",
    "\n",
    "    try:\n",
    "        # Parse the JSON string into a Python dictionary\n",
    "        answer_dict = json.loads(text_answer)\n",
    "\n",
    "        # Access the values using the dictionary keys\n",
    "        title_1 = answer_dict['title1']\n",
    "        title_2 = answer_dict['title2']\n",
    "        title_3 = answer_dict['title3']\n",
    "        keywords = answer_dict['keywords']\n",
    "\n",
    "        # Now you can save the titles and keywords\n",
    "        session_value['Llama Ex Title 1'] = title_1\n",
    "        session_value['Llama Ex Title 2'] = title_2\n",
    "        session_value['Llama Ex Title 3'] = title_3\n",
    "        session_value['Llama Ex Keywords'] = keywords\n",
    "\n",
    "    except json.JSONDecodeError as e:\n",
    "        print(f\"Error decoding JSON: {e}\")\n",
    "        print(f\"Problematic JSON string: {text_answer}\")\n",
    "        # Handle the error appropriately, e.g., set default values or skip the session\n",
    "        session_value['Llama Ex Title 1'] = \"Error: Could not generate title\"\n",
    "        session_value['Llama Ex Title 2'] = \"Error: Could not generate title\"\n",
    "        session_value['Llama Ex Title 3'] = \"Error: Could not generate title\"\n",
    "        session_value['Llama Ex Keywords'] = \"Error: Could not generate keywords\"\n",
    "end_time = time.time()\n",
    "llama_elapsed_time = end_time - start_time\n",
    "print(f\"Processing time: {llama_elapsed_time:.4f} seconds\")"
   ]
  },
  {
   "cell_type": "markdown",
   "id": "8bee4d8f",
   "metadata": {},
   "source": [
    "#### Save Current Titles"
   ]
  },
  {
   "cell_type": "code",
   "execution_count": 32,
   "id": "23c0192f",
   "metadata": {},
   "outputs": [],
   "source": [
    "df_sessions = pd.DataFrame.from_dict(sessions_dict, orient='index')\n",
    "df_sessions.to_csv('Gemini_Llama_sessions.csv', index=True)\n",
    "import pickle\n",
    "df_sessions.to_pickle('AI_sessions.pkl')\n",
    "with open(\"AI_sessions_dict.pkl\", \"wb\") as f:\n",
    "    pickle.dump(sessions_dict, f) "
   ]
  },
  {
   "cell_type": "markdown",
   "id": "abbb4b72",
   "metadata": {},
   "source": [
    "### Minimal Examples\n",
    "Include the response form, but don't provide actual examples."
   ]
  },
  {
   "cell_type": "code",
   "execution_count": 33,
   "id": "f7752b0f",
   "metadata": {},
   "outputs": [
    {
     "name": "stderr",
     "output_type": "stream",
     "text": [
      "Llama.generate: 101 prefix-match hit, remaining 7411 prompt tokens to eval\n",
      "llama_perf_context_print:        load time =  102151.26 ms\n",
      "llama_perf_context_print: prompt eval time =   98481.51 ms /  7411 tokens (   13.29 ms per token,    75.25 tokens per second)\n",
      "llama_perf_context_print:        eval time =   37572.60 ms /    68 runs   (  552.54 ms per token,     1.81 tokens per second)\n",
      "llama_perf_context_print:       total time =  137424.71 ms /  7479 tokens\n",
      "Llama.generate: 160 prefix-match hit, remaining 4505 prompt tokens to eval\n"
     ]
    },
    {
     "name": "stdout",
     "output_type": "stream",
     "text": [
      "{ \"title1\": \"Precision Weed Management through Deep Learning and Robotics\", \"title2\": \"Automated Weed Detection and Control using Machine Vision and AI\", \"title3\": \"Sustainable Agriculture through Robotics and Computer Vision\", \"keywords\": \"weed detection, machine vision, deep learning, robotics, precision agriculture, sustainable farming\" }\n"
     ]
    },
    {
     "name": "stderr",
     "output_type": "stream",
     "text": [
      "llama_perf_context_print:        load time =  102151.26 ms\n",
      "llama_perf_context_print: prompt eval time =   46483.25 ms /  4505 tokens (   10.32 ms per token,    96.92 tokens per second)\n",
      "llama_perf_context_print:        eval time =   32827.19 ms /    88 runs   (  373.04 ms per token,     2.68 tokens per second)\n",
      "llama_perf_context_print:       total time =   81060.30 ms /  4593 tokens\n",
      "Llama.generate: 160 prefix-match hit, remaining 6398 prompt tokens to eval\n"
     ]
    },
    {
     "name": "stdout",
     "output_type": "stream",
     "text": [
      "{ \"title1\": \"Advances in Agricultural 3D Reconstruction and Phenotyping\", \"title2\": \"3D Reconstruction and Phenotyping in Agriculture and Food Processing\", \"title3\": \"Digital Twins for Agricultural Engineering and Food Processing\", \"keywords\": \"3D reconstruction, phenotyping, agriculture, digital twins, agricultural engineering, food processing, precision agriculture, crop monitoring, plant architecture, soil dynamics, particulate flow\" }\n"
     ]
    },
    {
     "name": "stderr",
     "output_type": "stream",
     "text": [
      "llama_perf_context_print:        load time =  102151.26 ms\n",
      "llama_perf_context_print: prompt eval time =   79150.96 ms /  6398 tokens (   12.37 ms per token,    80.83 tokens per second)\n",
      "llama_perf_context_print:        eval time =   36411.88 ms /    74 runs   (  492.05 ms per token,     2.03 tokens per second)\n",
      "llama_perf_context_print:       total time =  117141.39 ms /  6472 tokens\n",
      "Llama.generate: 160 prefix-match hit, remaining 10383 prompt tokens to eval\n"
     ]
    },
    {
     "name": "stdout",
     "output_type": "stream",
     "text": [
      "{ \"title1\": \"Precision Agriculture through Satellite Remote Sensing and AI Integration\", \"title2\": \"Soil Health Monitoring and Management using Satellite and Machine Learning\", \"title3\": \"Crop Yield Prediction and Management using Satellite Imagery and AI\", \"keywords\": \"satellite remote sensing, machine learning, precision agriculture, soil health, crop yield prediction\" }\n"
     ]
    },
    {
     "name": "stderr",
     "output_type": "stream",
     "text": [
      "llama_perf_context_print:        load time =  102151.26 ms\n",
      "llama_perf_context_print: prompt eval time =  180154.33 ms / 10383 tokens (   17.35 ms per token,    57.63 tokens per second)\n",
      "llama_perf_context_print:        eval time =   67099.20 ms /    88 runs   (  762.49 ms per token,     1.31 tokens per second)\n",
      "llama_perf_context_print:       total time =  249152.46 ms / 10471 tokens\n",
      "Llama.generate: 160 prefix-match hit, remaining 5601 prompt tokens to eval\n"
     ]
    },
    {
     "name": "stdout",
     "output_type": "stream",
     "text": [
      "{ \"title1\": \"Hyperspectral Imaging for Precision Agriculture: A Multidisciplinary Approach\", \"title2\": \"Non-Destructive Crop Monitoring using Hyperspectral Imaging\", \"title3\": \"Precision Agriculture with Hyperspectral Imaging: A Review of Current Methods and Future Directions\", \"keywords\": \"hyperspectral imaging, precision agriculture, crop monitoring, non-destructive testing, machine learning, spectral analysis\" }\n"
     ]
    },
    {
     "name": "stderr",
     "output_type": "stream",
     "text": [
      "llama_perf_context_print:        load time =  102151.26 ms\n",
      "llama_perf_context_print: prompt eval time =   64330.66 ms /  5601 tokens (   11.49 ms per token,    87.07 tokens per second)\n",
      "llama_perf_context_print:        eval time =   40769.83 ms /    92 runs   (  443.15 ms per token,     2.26 tokens per second)\n",
      "llama_perf_context_print:       total time =  106990.06 ms /  5693 tokens\n",
      "Llama.generate: 160 prefix-match hit, remaining 4928 prompt tokens to eval\n"
     ]
    },
    {
     "name": "stdout",
     "output_type": "stream",
     "text": [
      "{ \"title1\": \"Precision Agriculture: Advances in Multi-Sensor Fusion and Autonomous Navigation\", \"title2\": \"Enhancing Crop Monitoring and Yield Prediction through Inertial Measurement Unit-based Systems\", \"title3\": \"Autonomous Robotic Navigation for Sustainable Agriculture: A Multi-Disciplinary Approach\", \"keywords\": \"Autonomous Navigation, Multi-Sensor Fusion, Precision Agriculture, Inertial Measurement Unit, Robotics, Computer Vision, Machine Learning\" }\n"
     ]
    },
    {
     "name": "stderr",
     "output_type": "stream",
     "text": [
      "llama_perf_context_print:        load time =  102151.26 ms\n",
      "llama_perf_context_print: prompt eval time =   53215.00 ms /  4928 tokens (   10.80 ms per token,    92.61 tokens per second)\n",
      "llama_perf_context_print:        eval time =   33979.00 ms /    85 runs   (  399.75 ms per token,     2.50 tokens per second)\n",
      "llama_perf_context_print:       total time =   88868.02 ms /  5013 tokens\n",
      "Llama.generate: 160 prefix-match hit, remaining 5705 prompt tokens to eval\n"
     ]
    },
    {
     "name": "stdout",
     "output_type": "stream",
     "text": [
      "{ \"title1\": \"AI-Driven Insights for Sustainable Strawberry Production: Exploring Multimodal Data and Predictive Models\", \"title2\": \"Optimizing Strawberry Greenhouse Environments with AI-Driven Control Systems\", \"title3\": \"Predicting Strawberry Yield and Quality with Transfer Learning-Based Models\", \"keywords\": \"Artificial Intelligence, Machine Learning, Sustainable Agriculture, Strawberry Production, Greenhouse Optimization\" }\n"
     ]
    },
    {
     "name": "stderr",
     "output_type": "stream",
     "text": [
      "llama_perf_context_print:        load time =  102151.26 ms\n",
      "llama_perf_context_print: prompt eval time =   66181.75 ms /  5705 tokens (   11.60 ms per token,    86.20 tokens per second)\n",
      "llama_perf_context_print:        eval time =   34082.07 ms /    76 runs   (  448.45 ms per token,     2.23 tokens per second)\n",
      "llama_perf_context_print:       total time =  101877.27 ms /  5781 tokens\n",
      "Llama.generate: 160 prefix-match hit, remaining 7947 prompt tokens to eval\n"
     ]
    },
    {
     "name": "stdout",
     "output_type": "stream",
     "text": [
      "{ \"title1\": \"Autonomous Harvesting: Advances in Robotics and Computer Vision\", \"title2\": \"Precision Agriculture: Robotics and Computer Vision Applications\", \"title3\": \"Harvesting and Pruning: Robotics and Computer Vision Innovations\", \"keywords\": \"robotic harvesting, computer vision, precision agriculture, autonomous farming, machine learning, robotics, agriculture\" }\n"
     ]
    },
    {
     "name": "stderr",
     "output_type": "stream",
     "text": [
      "llama_perf_context_print:        load time =  102151.26 ms\n",
      "llama_perf_context_print: prompt eval time =  114631.08 ms /  7947 tokens (   14.42 ms per token,    69.33 tokens per second)\n",
      "llama_perf_context_print:        eval time =   58530.57 ms /    98 runs   (  597.25 ms per token,     1.67 tokens per second)\n",
      "llama_perf_context_print:       total time =  175129.14 ms /  8045 tokens\n",
      "Llama.generate: 160 prefix-match hit, remaining 3456 prompt tokens to eval\n"
     ]
    },
    {
     "name": "stdout",
     "output_type": "stream",
     "text": [
      "{ \"title1\": \"Precision Agriculture through Computer Vision: A Comparative Analysis of Leaf Area Index Estimation Methods\", \"title2\": \"Automated Crop Monitoring and Decision Support Systems using Unmanned Aerial Vehicles (UAVs) and Deep Learning\", \"title3\": \"Optimizing Crop Yield and Resource Allocation through Advanced Image Processing and Machine Learning Techniques\", \"keywords\": \"leaf area index, UAV, deep learning, precision agriculture, crop monitoring, decision support systems\" }\n"
     ]
    },
    {
     "name": "stderr",
     "output_type": "stream",
     "text": [
      "llama_perf_context_print:        load time =  102151.26 ms\n",
      "llama_perf_context_print: prompt eval time =   30697.59 ms /  3456 tokens (    8.88 ms per token,   112.58 tokens per second)\n",
      "llama_perf_context_print:        eval time =   24845.38 ms /    81 runs   (  306.73 ms per token,     3.26 tokens per second)\n",
      "llama_perf_context_print:       total time =   57100.16 ms /  3537 tokens\n",
      "Llama.generate: 159 prefix-match hit, remaining 8930 prompt tokens to eval\n"
     ]
    },
    {
     "name": "stdout",
     "output_type": "stream",
     "text": [
      "{ \"title1\": \"Autonomous Robotics for Sustainable Agriculture: Innovations in Precision Farming and Land Management\", \"title2\": \"Advancements in Precision Agriculture and Autonomous Farming Systems\", \"title3\": \"Exploring the Frontiers of Autonomous Robotics in Agriculture and Land Management\", \"keywords\": \"autonomous robotics, precision agriculture, land management, agrivoltaics, sustainable agriculture\" }\n"
     ]
    },
    {
     "name": "stderr",
     "output_type": "stream",
     "text": [
      "llama_perf_context_print:        load time =  102151.26 ms\n",
      "llama_perf_context_print: prompt eval time =  139226.28 ms /  8930 tokens (   15.59 ms per token,    64.14 tokens per second)\n",
      "llama_perf_context_print:        eval time =   63918.13 ms /    97 runs   (  658.95 ms per token,     1.52 tokens per second)\n",
      "llama_perf_context_print:       total time =  205127.68 ms /  9027 tokens\n",
      "Llama.generate: 159 prefix-match hit, remaining 7232 prompt tokens to eval\n"
     ]
    },
    {
     "name": "stdout",
     "output_type": "stream",
     "text": [
      "{ \"title1\": \"Automated Detection and Separation of Pest-Infested Crops using Hyperspectral Imaging and Machine Learning\", \"title2\": \"Real-Time Pest Detection and Classification using Deep Learning and Multispectral Imaging\", \"title3\": \"Precision Agriculture for Pest Management: A Deep Learning-Based Approach\" , \"keywords\": \"Automated Detection, Hyperspectral Imaging, Machine Learning, Deep Learning, Multispectral Imaging, Precision Agriculture, Pest Management\" }\n"
     ]
    },
    {
     "name": "stderr",
     "output_type": "stream",
     "text": [
      "llama_perf_context_print:        load time =  102151.26 ms\n",
      "llama_perf_context_print: prompt eval time =   97505.83 ms /  7232 tokens (   13.48 ms per token,    74.17 tokens per second)\n",
      "llama_perf_context_print:        eval time =   37619.30 ms /    69 runs   (  545.21 ms per token,     1.83 tokens per second)\n",
      "llama_perf_context_print:       total time =  136587.25 ms /  7301 tokens\n",
      "Llama.generate: 160 prefix-match hit, remaining 5665 prompt tokens to eval\n"
     ]
    },
    {
     "name": "stdout",
     "output_type": "stream",
     "text": [
      "{ \"title1\": \"Automated Plant Phenotyping: Advancing Crop Breeding and Agricultural Analytics\", \"title2\": \"Deep Learning for Plant Imaging and Analysis\", \"title3\": \"Phenotyping and Monitoring in Plant Science\", \"keywords\": \"plant phenotyping, deep learning, image analysis, crop breeding, agricultural analytics\" }\n"
     ]
    },
    {
     "name": "stderr",
     "output_type": "stream",
     "text": [
      "llama_perf_context_print:        load time =  102151.26 ms\n",
      "llama_perf_context_print: prompt eval time =   65762.08 ms /  5665 tokens (   11.61 ms per token,    86.14 tokens per second)\n",
      "llama_perf_context_print:        eval time =   48323.18 ms /   108 runs   (  447.44 ms per token,     2.23 tokens per second)\n",
      "llama_perf_context_print:       total time =  116827.67 ms /  5773 tokens\n",
      "Llama.generate: 160 prefix-match hit, remaining 5508 prompt tokens to eval\n"
     ]
    },
    {
     "name": "stdout",
     "output_type": "stream",
     "text": [
      "{ \"title1\": \"Advancing Agricultural AI: Exploring the Frontiers of Semantic Segmentation, Vision-Language Models, and Instance Segmentation\", \"title2\": \"Agricultural AI: Leveraging Deep Learning for Precision Farming and Sustainable Agriculture\", \"title3\": \"From Seeds to Sensors: Exploring the Potential of AI in Agricultural Data Collection, Analysis, and Decision-Making\", \"keywords\": \"semantic segmentation, vision-language models, instance segmentation, precision farming, sustainable agriculture, deep learning, AI in agriculture\" }\n"
     ]
    },
    {
     "name": "stderr",
     "output_type": "stream",
     "text": [
      "llama_perf_context_print:        load time =  102151.26 ms\n",
      "llama_perf_context_print: prompt eval time =   63520.00 ms /  5508 tokens (   11.53 ms per token,    86.71 tokens per second)\n",
      "llama_perf_context_print:        eval time =   45020.10 ms /   103 runs   (  437.09 ms per token,     2.29 tokens per second)\n",
      "llama_perf_context_print:       total time =  110703.87 ms /  5611 tokens\n",
      "Llama.generate: 160 prefix-match hit, remaining 8242 prompt tokens to eval\n"
     ]
    },
    {
     "name": "stdout",
     "output_type": "stream",
     "text": [
      "{ \"title1\": \"Advancements in Cotton Fiber Characterization and Quality Control using Spectroscopic and Machine Learning Techniques\", \"title2\": \"Optical and Spectroscopic Methods for Non-Destructive Testing and Quality Evaluation of Cotton Fibers\", \"title3\": \"Deep Learning and Machine Learning Approaches for Cotton Fiber Classification, Detection, and Quality Assessment\", \"keywords\": \"cotton fiber, spectroscopy, machine learning, deep learning, optical properties, quality control, non-destructive testing\" }\n"
     ]
    },
    {
     "name": "stderr",
     "output_type": "stream",
     "text": [
      "llama_perf_context_print:        load time =  102151.26 ms\n",
      "llama_perf_context_print: prompt eval time =  121399.30 ms /  8242 tokens (   14.73 ms per token,    67.89 tokens per second)\n",
      "llama_perf_context_print:        eval time =   58937.07 ms /    96 runs   (  613.93 ms per token,     1.63 tokens per second)\n",
      "llama_perf_context_print:       total time =  182413.83 ms /  8338 tokens\n",
      "Llama.generate: 160 prefix-match hit, remaining 3897 prompt tokens to eval\n"
     ]
    },
    {
     "name": "stdout",
     "output_type": "stream",
     "text": [
      "{ \"title1\": \"Enhancing Precision Livestock Monitoring with Multi-Camera Systems and Deep Learning Techniques\", \"title2\": \"Automating Livestock Monitoring and Behavior Analysis using Computer Vision and Machine Learning\", \"title3\": \"Precision Animal Health Management through Multi-Modal Data Fusion and Deep Learning\", \"keywords\": \"multicamera systems, deep learning, computer vision, animal health management, precision livestock monitoring, behavior analysis, machine learning, data fusion\" }\n"
     ]
    },
    {
     "name": "stderr",
     "output_type": "stream",
     "text": [
      "llama_perf_context_print:        load time =  102151.26 ms\n",
      "llama_perf_context_print: prompt eval time =   37099.42 ms /  3897 tokens (    9.52 ms per token,   105.04 tokens per second)\n",
      "llama_perf_context_print:        eval time =   28080.98 ms /    84 runs   (  334.30 ms per token,     2.99 tokens per second)\n",
      "llama_perf_context_print:       total time =   66998.94 ms /  3981 tokens\n",
      "Llama.generate: 160 prefix-match hit, remaining 6417 prompt tokens to eval\n"
     ]
    },
    {
     "name": "stdout",
     "output_type": "stream",
     "text": [
      "{ \"title1\": \"Advancing Precision Agriculture through IoT, Machine Learning, and Physics-Informed Models\", \"title2\": \"Optimizing Crop Growth and Yield through Advanced Modeling and Control Strategies\", \"title3\": \"Developing Sustainable and Efficient Agricultural Systems through IoT, Sensors, and Data Analytics\", \"keywords\": \"precision agriculture, IoT, machine learning, physics-informed models, crop growth optimization\" }\n"
     ]
    },
    {
     "name": "stderr",
     "output_type": "stream",
     "text": [
      "llama_perf_context_print:        load time =  102151.26 ms\n",
      "llama_perf_context_print: prompt eval time =   80038.62 ms /  6417 tokens (   12.47 ms per token,    80.17 tokens per second)\n",
      "llama_perf_context_print:        eval time =   34990.78 ms /    71 runs   (  492.83 ms per token,     2.03 tokens per second)\n",
      "llama_perf_context_print:       total time =  116503.47 ms /  6488 tokens\n",
      "Llama.generate: 160 prefix-match hit, remaining 6196 prompt tokens to eval\n"
     ]
    },
    {
     "name": "stdout",
     "output_type": "stream",
     "text": [
      "{ \"title1\": \"Soft Robotics for In-Depth Fruit Inspection and Grading\", \"title2\": \"Advanced Sensing and Sorting Technologies for Fresh Produce\", \"title3\": \"Precision Agriculture and Quality Control in Fresh Produce Processing\", \"keywords\": \"fruit inspection, soft robotics, machine learning, computer vision, quality control, precision agriculture\" }\n"
     ]
    },
    {
     "name": "stderr",
     "output_type": "stream",
     "text": [
      "llama_perf_context_print:        load time =  102151.26 ms\n",
      "llama_perf_context_print: prompt eval time =   75287.33 ms /  6196 tokens (   12.15 ms per token,    82.30 tokens per second)\n",
      "llama_perf_context_print:        eval time =   36879.01 ms /    77 runs   (  478.95 ms per token,     2.09 tokens per second)\n",
      "llama_perf_context_print:       total time =  113766.53 ms /  6273 tokens\n",
      "Llama.generate: 160 prefix-match hit, remaining 5509 prompt tokens to eval\n"
     ]
    },
    {
     "name": "stdout",
     "output_type": "stream",
     "text": [
      "{ \"title1\": \"Precision Agriculture and Remote Sensing for Sustainable Crop Management\", \"title2\": \"Soil and Crop Monitoring for Enhanced Yield and Resource Efficiency\", \"title3\": \"Multispectral and Hyperspectral Imaging for Crop Health and Stress Detection\", \"keywords\": \"remote sensing, precision agriculture, crop monitoring, soil health, yield optimization, sustainable agriculture\" }\n"
     ]
    },
    {
     "name": "stderr",
     "output_type": "stream",
     "text": [
      "llama_perf_context_print:        load time =  102151.26 ms\n",
      "llama_perf_context_print: prompt eval time =   63549.94 ms /  5509 tokens (   11.54 ms per token,    86.69 tokens per second)\n",
      "llama_perf_context_print:        eval time =   35779.26 ms /    82 runs   (  436.33 ms per token,     2.29 tokens per second)\n",
      "llama_perf_context_print:       total time =  101041.74 ms /  5591 tokens\n",
      "Llama.generate: 160 prefix-match hit, remaining 4641 prompt tokens to eval\n"
     ]
    },
    {
     "name": "stdout",
     "output_type": "stream",
     "text": [
      "{ \"title1\": \"Rapid Detection of Antimicrobial Resistance Using Advanced Biosensors\", \"title2\": \"Real-time Monitoring of Foodborne Pathogens using Integrated Microfluidic Chips\", \"title3\": \"Enhancing Diagnostic Capabilities through Magnetic Nanoparticle-Based Sample Preparation\", \"keywords\": \"antimicrobial resistance, biosensors, food safety, microfluidic chips, magnetic nanoparticles\" }\n"
     ]
    },
    {
     "name": "stderr",
     "output_type": "stream",
     "text": [
      "llama_perf_context_print:        load time =  102151.26 ms\n",
      "llama_perf_context_print: prompt eval time =   48640.37 ms /  4641 tokens (   10.48 ms per token,    95.41 tokens per second)\n",
      "llama_perf_context_print:        eval time =   31630.47 ms /    83 runs   (  381.09 ms per token,     2.62 tokens per second)\n",
      "llama_perf_context_print:       total time =   82000.32 ms /  4724 tokens\n",
      "Llama.generate: 160 prefix-match hit, remaining 4368 prompt tokens to eval\n"
     ]
    },
    {
     "name": "stdout",
     "output_type": "stream",
     "text": [
      "{ \"title1\": \"Precision Agriculture: Harnessing Machine Learning for Sustainable Crop Management\", \"title2\": \"Soil Moisture Estimation and Prediction: A Comparative Analysis of Machine Learning Approaches\", \"title3\": \"Optimizing Irrigation Systems through Data-Driven Decision Making\" , \"keywords\": \"machine learning, precision agriculture, soil moisture estimation, irrigation optimization, data-driven decision making\" }\n"
     ]
    },
    {
     "name": "stderr",
     "output_type": "stream",
     "text": [
      "llama_perf_context_print:        load time =  102151.26 ms\n",
      "llama_perf_context_print: prompt eval time =   44156.11 ms /  4368 tokens (   10.11 ms per token,    98.92 tokens per second)\n",
      "llama_perf_context_print:        eval time =   30538.12 ms /    84 runs   (  363.55 ms per token,     2.75 tokens per second)\n",
      "llama_perf_context_print:       total time =   76467.07 ms /  4452 tokens\n",
      "Llama.generate: 160 prefix-match hit, remaining 5685 prompt tokens to eval\n"
     ]
    },
    {
     "name": "stdout",
     "output_type": "stream",
     "text": [
      "{ \"title1\": \"Wireless Communications for the Connected Farm: Exploring Last-Mile Connectivity Requirements\", \"title2\": \"Wireless Sensor Networks for Precision Agriculture: Challenges and Opportunities\", \"title3\": \"Artificial Intelligence in Agriculture: Opportunities and Challenges for Data-Driven Decision Making\", \"keywords\": \"wireless communications, connected farm, precision agriculture, AI in agriculture, data-driven decision making\" }\n"
     ]
    },
    {
     "name": "stderr",
     "output_type": "stream",
     "text": [
      "llama_perf_context_print:        load time =  102151.26 ms\n",
      "llama_perf_context_print: prompt eval time =   65895.26 ms /  5685 tokens (   11.59 ms per token,    86.27 tokens per second)\n",
      "llama_perf_context_print:        eval time =   33123.07 ms /    74 runs   (  447.61 ms per token,     2.23 tokens per second)\n",
      "llama_perf_context_print:       total time =  100575.29 ms /  5759 tokens\n"
     ]
    },
    {
     "name": "stdout",
     "output_type": "stream",
     "text": [
      "{ \"title1\": \"Automating Agricultural Harvesting Operations with Robotics and AI\", \"title2\": \"Precision Agriculture through Computer Vision and Machine Learning\", \"title3\": \"Enhancing Agricultural Efficiency with Real-Time Object Detection\", \"keywords\": \"agricultural robotics, computer vision, machine learning, precision agriculture, object detection, automation, efficiency, sustainability\" }\n",
      "Processing time: 2524.0188 seconds\n"
     ]
    }
   ],
   "source": [
    "import json\n",
    "import time\n",
    "\n",
    "start_time = time.time()\n",
    "# Iterate over the sessions and prompt the LLM for the session title and keywords\n",
    "for session_key, session_value in sessions_dict.items():\n",
    "    messages=[\n",
    "    {   \"role\": \"user\", \n",
    "        \"content\": (\"I am organizing oral research presentation sessions for the American Society of Biological and Agricultural Engineers\"\n",
    "                \"Annual International Meeting. Please provide 3 options for the name/title of a session. \"\n",
    "                    \"Also provide 5 keywords describing the session. The name and keywords should highlight the commonality among all presentations. \"\n",
    "                    \"The target audience for titles and keywords is engineering designers and researchers.\"\n",
    "                    \"The title should be descriptive of the content and be interesting and engaging. \\n\"\n",
    "                    \"Please respond in this format\\n\\n \"\n",
    "                    \"{\"\n",
    "                    \"     'title_1': 'Session Title',\\n\"\n",
    "                    \"     'title_2': 'Session Title',\\n\"\n",
    "                    \"     'title_3': 'Session Title',\\n\"\n",
    "                    \"     'keywords': 'keyword1, keyword2, keyword3, keyword4, keyword5'    }\\n\\n\"\n",
    "                    \"The titles and abstracts for presentations assigned to this session are:\\n\"\n",
    "                    + str(session_value['Presentations'])\n",
    "                    )\n",
    "    },]\n",
    "    session_titleAbsLlama = (model.create_chat_completion(\n",
    "        messages=messages,\n",
    "        response_format={\n",
    "        \"type\": \"json_object\",\n",
    "        \"schema\": {\n",
    "            \"type\": \"object\",\n",
    "            \"properties\": {\"title1\": {\"type\": \"string\"}, \"title2\": {\"type\": \"string\"}, \"title3\": {\"type\": \"string\"}, \"keywords\": {\"type\": \"string\"}},\n",
    "            \"required\": [\"title1\", \"title2\", \"title3\", \"keywords\"],\n",
    "            },\n",
    "        },\n",
    "    ))\n",
    "    text_answer = session_titleAbsLlama['choices'][0]['message']['content']\n",
    "    print(text_answer)\n",
    "\n",
    "    try:\n",
    "        # Parse the JSON string into a Python dictionary\n",
    "        answer_dict = json.loads(text_answer)\n",
    "\n",
    "        # Access the values using the dictionary keys\n",
    "        title_1 = answer_dict['title1']\n",
    "        title_2 = answer_dict['title2']\n",
    "        title_3 = answer_dict['title3']\n",
    "        keywords = answer_dict['keywords']\n",
    "\n",
    "        # Now you can save the titles and keywords\n",
    "        session_value['Llama MinEx Title 1'] = title_1\n",
    "        session_value['Llama MinEx Title 2'] = title_2\n",
    "        session_value['Llama MinEx Title 3'] = title_3\n",
    "        session_value['Llama MinEx Keywords'] = keywords\n",
    "\n",
    "    except json.JSONDecodeError as e:\n",
    "        print(f\"Error decoding JSON: {e}\")\n",
    "        print(f\"Problematic JSON string: {text_answer}\")\n",
    "        # Handle the error appropriately, e.g., set default values or skip the session\n",
    "        session_value['Llama MinEx Title 1'] = \"Error: Could not generate title\"\n",
    "        session_value['Llama MinEx Title 2'] = \"Error: Could not generate title\"\n",
    "        session_value['Llama MinEx Title 3'] = \"Error: Could not generate title\"\n",
    "        session_value['Llama MinEx Keywords'] = \"Error: Could not generate keywords\"\n",
    "end_time = time.time()\n",
    "llama_elapsed_time = end_time - start_time\n",
    "print(f\"Processing time: {llama_elapsed_time:.4f} seconds\")"
   ]
  },
  {
   "cell_type": "markdown",
   "id": "474d4007",
   "metadata": {},
   "source": [
    "#### Save Current Titles"
   ]
  },
  {
   "cell_type": "code",
   "execution_count": 34,
   "id": "50e73bc6",
   "metadata": {},
   "outputs": [],
   "source": [
    "df_sessions = pd.DataFrame.from_dict(sessions_dict, orient='index')\n",
    "df_sessions.to_csv('Gemini_Llama_sessions.csv', index=True)\n",
    "import pickle\n",
    "df_sessions.to_pickle('AI_sessions.pkl')\n",
    "with open(\"AI_sessions_dict.pkl\", \"wb\") as f:\n",
    "    pickle.dump(sessions_dict, f) "
   ]
  },
  {
   "cell_type": "markdown",
   "id": "fec07118",
   "metadata": {},
   "source": [
    "### No Example\n",
    "Do not provide a response form example at all. Just rely on the prompt controls."
   ]
  },
  {
   "cell_type": "code",
   "execution_count": 36,
   "id": "428e744f",
   "metadata": {},
   "outputs": [
    {
     "name": "stderr",
     "output_type": "stream",
     "text": [
      "Llama.generate: 101 prefix-match hit, remaining 7352 prompt tokens to eval\n",
      "llama_perf_context_print:        load time =  102151.26 ms\n",
      "llama_perf_context_print: prompt eval time =   97742.71 ms /  7352 tokens (   13.29 ms per token,    75.22 tokens per second)\n",
      "llama_perf_context_print:        eval time =   27365.87 ms /    50 runs   (  547.32 ms per token,     1.83 tokens per second)\n",
      "llama_perf_context_print:       total time =  126063.72 ms /  7402 tokens\n",
      "Llama.generate: 101 prefix-match hit, remaining 4505 prompt tokens to eval\n"
     ]
    },
    {
     "name": "stdout",
     "output_type": "stream",
     "text": [
      "{ \"title1\": \"Precision Weed Detection and Management\", \"title2\": \"Advanced Machine Vision and Deep Learning for Sustainable Agriculture\", \"title3\": \"Optimizing Weed Control through Robotics and AI\" ,\"keywords\": \"[\" }\n"
     ]
    },
    {
     "name": "stderr",
     "output_type": "stream",
     "text": [
      "llama_perf_context_print:        load time =  102151.26 ms\n",
      "llama_perf_context_print: prompt eval time =   45964.93 ms /  4505 tokens (   10.20 ms per token,    98.01 tokens per second)\n",
      "llama_perf_context_print:        eval time =   26538.56 ms /    72 runs   (  368.59 ms per token,     2.71 tokens per second)\n",
      "llama_perf_context_print:       total time =   74049.46 ms /  4577 tokens\n",
      "Llama.generate: 101 prefix-match hit, remaining 6398 prompt tokens to eval\n"
     ]
    },
    {
     "name": "stdout",
     "output_type": "stream",
     "text": [
      "{ \"title1\": \"Advancements in Agricultural 3D Reconstruction and Phenotyping\", \"title2\": \"3D Modeling and Analysis in Precision Agriculture\", \"title3\": \"Digital Twins for Agricultural Systems\" ,\"keywords\": \"3D Reconstruction, Agricultural Engineering, Precision Agriculture, Digital Twins, Phenotyping, Crop Monitoring, Agricultural Systems\" }\n"
     ]
    },
    {
     "name": "stderr",
     "output_type": "stream",
     "text": [
      "llama_perf_context_print:        load time =  102151.26 ms\n",
      "llama_perf_context_print: prompt eval time =   77248.51 ms /  6398 tokens (   12.07 ms per token,    82.82 tokens per second)\n",
      "llama_perf_context_print:        eval time =   22437.00 ms /    46 runs   (  487.76 ms per token,     2.05 tokens per second)\n",
      "llama_perf_context_print:       total time =  100618.09 ms /  6444 tokens\n",
      "Llama.generate: 101 prefix-match hit, remaining 10383 prompt tokens to eval\n"
     ]
    },
    {
     "name": "stdout",
     "output_type": "stream",
     "text": [
      "{ \"title1\": \"Precision Agriculture and Crop Yield Prediction\", \"title2\": \"Soil Health Monitoring and Management\", \"title3\": \"Agricultural Machinery and Equipment Optimization\" ,\"keywords\": \"[\" }\n"
     ]
    },
    {
     "name": "stderr",
     "output_type": "stream",
     "text": [
      "llama_perf_context_print:        load time =  102151.26 ms\n",
      "llama_perf_context_print: prompt eval time =  173774.32 ms / 10383 tokens (   16.74 ms per token,    59.75 tokens per second)\n",
      "llama_perf_context_print:        eval time =   76792.16 ms /   101 runs   (  760.32 ms per token,     1.32 tokens per second)\n",
      "llama_perf_context_print:       total time =  252748.72 ms / 10484 tokens\n",
      "Llama.generate: 101 prefix-match hit, remaining 5601 prompt tokens to eval\n"
     ]
    },
    {
     "name": "stdout",
     "output_type": "stream",
     "text": [
      "{ \"title1\": \"Hyperspectral Imaging for Crop Monitoring and Quality Assessment\", \"title2\": \"Non-Destructive Detection of Nutrients and Deficiencies in Crops\", \"title3\": \"Deep Learning for Precision Agriculture and Food Quality Control\" ,\"keywords\": \"hyperspectral imaging, crop monitoring, nutrient detection, precision agriculture, deep learning, food quality control, machine learning, spectral analysis, remote sensing, agricultural engineering, plant physiology, soil science, agricultural economics\" }\n"
     ]
    },
    {
     "name": "stderr",
     "output_type": "stream",
     "text": [
      "llama_perf_context_print:        load time =  102151.26 ms\n",
      "llama_perf_context_print: prompt eval time =   63075.27 ms /  5601 tokens (   11.26 ms per token,    88.80 tokens per second)\n",
      "llama_perf_context_print:        eval time =   22792.85 ms /    52 runs   (  438.32 ms per token,     2.28 tokens per second)\n",
      "llama_perf_context_print:       total time =   86961.93 ms /  5653 tokens\n",
      "Llama.generate: 101 prefix-match hit, remaining 4928 prompt tokens to eval\n"
     ]
    },
    {
     "name": "stdout",
     "output_type": "stream",
     "text": [
      "{ \"title1\": \"Precision Agriculture: Advances in Object Tracking and Segmentation\", \"title2\": \"Autonomous Crop Monitoring and Phenotyping\", \"title3\": \"Robust Navigation and Control for Agricultural Robotics\" ,\"keywords\": \"[\" }\n"
     ]
    },
    {
     "name": "stderr",
     "output_type": "stream",
     "text": [
      "llama_perf_context_print:        load time =  102151.26 ms\n",
      "llama_perf_context_print: prompt eval time =   52586.58 ms /  4928 tokens (   10.67 ms per token,    93.71 tokens per second)\n",
      "llama_perf_context_print:        eval time =   24109.59 ms /    61 runs   (  395.24 ms per token,     2.53 tokens per second)\n",
      "llama_perf_context_print:       total time =   77970.60 ms /  4989 tokens\n",
      "Llama.generate: 101 prefix-match hit, remaining 5705 prompt tokens to eval\n"
     ]
    },
    {
     "name": "stdout",
     "output_type": "stream",
     "text": [
      "{ \"title1\": \"AI-Driven Precision Agriculture for Sustainable Strawberry Production\", \"title2\": \"Optimizing Strawberry Yield and Resource Management through Advanced Technologies\", \"title3\": \"Integrating AI, IoT, and Precision Agriculture for Efficient Strawberry Production\" ,\"keywords\": \"[\" }\n"
     ]
    },
    {
     "name": "stderr",
     "output_type": "stream",
     "text": [
      "llama_perf_context_print:        load time =  102151.26 ms\n",
      "llama_perf_context_print: prompt eval time =   64944.19 ms /  5705 tokens (   11.38 ms per token,    87.84 tokens per second)\n",
      "llama_perf_context_print:        eval time =   21805.93 ms /    49 runs   (  445.02 ms per token,     2.25 tokens per second)\n",
      "llama_perf_context_print:       total time =   87842.22 ms /  5754 tokens\n",
      "Llama.generate: 101 prefix-match hit, remaining 7947 prompt tokens to eval\n"
     ]
    },
    {
     "name": "stdout",
     "output_type": "stream",
     "text": [
      "{ \"title1\": \"Robotic Harvesting: Enhancing Efficiency and Productivity\", \"title2\": \"Advanced Robotics for Sustainable Agriculture\", \"title3\": \"Precision Agriculture: Robotics and Automation\" ,\"keywords\": \"[\" }\n"
     ]
    },
    {
     "name": "stderr",
     "output_type": "stream",
     "text": [
      "llama_perf_context_print:        load time =  102151.26 ms\n",
      "llama_perf_context_print: prompt eval time =  111422.26 ms /  7947 tokens (   14.02 ms per token,    71.32 tokens per second)\n",
      "llama_perf_context_print:        eval time =   50380.87 ms /    85 runs   (  592.72 ms per token,     1.69 tokens per second)\n",
      "llama_perf_context_print:       total time =  163741.02 ms /  8032 tokens\n",
      "Llama.generate: 101 prefix-match hit, remaining 3456 prompt tokens to eval\n"
     ]
    },
    {
     "name": "stdout",
     "output_type": "stream",
     "text": [
      "{ \"title1\": \"Precision Agriculture through Computer Vision: A New Frontier in Engineering Design and Research\", \"title2\": \"Automating Crop Health Monitoring and Yield Prediction using Computer Vision\", \"title3\": \"Deep Learning for Crop Phenotyping and Decision Support Systems\" ,\"keywords\": \"Computer Vision, Precision Agriculture, Crop Health Monitoring, Yield Prediction, Deep Learning, Crop Phenotyping, Decision Support Systems\" }\n"
     ]
    },
    {
     "name": "stderr",
     "output_type": "stream",
     "text": [
      "llama_perf_context_print:        load time =  102151.26 ms\n",
      "llama_perf_context_print: prompt eval time =   30284.07 ms /  3456 tokens (    8.76 ms per token,   114.12 tokens per second)\n",
      "llama_perf_context_print:        eval time =   16871.30 ms /    56 runs   (  301.27 ms per token,     3.32 tokens per second)\n",
      "llama_perf_context_print:       total time =   48396.30 ms /  3512 tokens\n",
      "Llama.generate: 100 prefix-match hit, remaining 8930 prompt tokens to eval\n"
     ]
    },
    {
     "name": "stdout",
     "output_type": "stream",
     "text": [
      "{ \"title1\": \"Advancements in Precision Agriculture: Autonomous Systems for Sustainable Farming\", \"title2\": \"Optimizing Efficiency in Autonomous Farming Systems\", \"title3\": \"Autonomous Navigation and Control for Agricultural Robotics\" ,\"keywords\": \"[\" }\n"
     ]
    },
    {
     "name": "stderr",
     "output_type": "stream",
     "text": [
      "llama_perf_context_print:        load time =  102151.26 ms\n",
      "llama_perf_context_print: prompt eval time =  134551.69 ms /  8930 tokens (   15.07 ms per token,    66.37 tokens per second)\n",
      "llama_perf_context_print:        eval time =   53694.70 ms /    82 runs   (  654.81 ms per token,     1.53 tokens per second)\n",
      "llama_perf_context_print:       total time =  190006.77 ms /  9012 tokens\n",
      "Llama.generate: 100 prefix-match hit, remaining 7232 prompt tokens to eval\n"
     ]
    },
    {
     "name": "stdout",
     "output_type": "stream",
     "text": [
      "{ \"title1\": \"Automated Detection and Management of Plant Pests and Diseases\", \"title2\": \"Precision Agriculture and Crop Protection\", \"title3\": \"Advanced Imaging and Machine Learning for Pest and Disease Detection\" ,\"keywords\": \"Automated Detection, Precision Agriculture, Machine Learning, Hyperspectral Imaging, Computer Vision, Deep Learning, Crop Protection, Pest Management, Disease Diagnosis\" }\n"
     ]
    },
    {
     "name": "stderr",
     "output_type": "stream",
     "text": [
      "llama_perf_context_print:        load time =  102151.26 ms\n",
      "llama_perf_context_print: prompt eval time =   94768.22 ms /  7232 tokens (   13.10 ms per token,    76.31 tokens per second)\n",
      "llama_perf_context_print:        eval time =   27067.59 ms /    50 runs   (  541.35 ms per token,     1.85 tokens per second)\n",
      "llama_perf_context_print:       total time =  122872.31 ms /  7282 tokens\n",
      "Llama.generate: 101 prefix-match hit, remaining 5665 prompt tokens to eval\n"
     ]
    },
    {
     "name": "stdout",
     "output_type": "stream",
     "text": [
      "{ \"title1\": \"Automated Plant Phenotyping using Deep Learning and Computer Vision\", \"title2\": \"Plant Stress Detection and Analysis\", \"title3\": \"Digital Twin Pipeline for Advanced Agricultural Analytics\" ,\"keywords\": \"[\" }\n"
     ]
    },
    {
     "name": "stderr",
     "output_type": "stream",
     "text": [
      "llama_perf_context_print:        load time =  102151.26 ms\n",
      "llama_perf_context_print: prompt eval time =   64405.78 ms /  5665 tokens (   11.37 ms per token,    87.96 tokens per second)\n",
      "llama_perf_context_print:        eval time =   46669.43 ms /   105 runs   (  444.47 ms per token,     2.25 tokens per second)\n",
      "llama_perf_context_print:       total time =  114362.01 ms /  5770 tokens\n",
      "Llama.generate: 101 prefix-match hit, remaining 5508 prompt tokens to eval\n"
     ]
    },
    {
     "name": "stdout",
     "output_type": "stream",
     "text": [
      "{ \"title1\": \"Advancements in Agricultural AI: Exploring the Potential of Deep Learning Models for Precision Agriculture\", \"title2\": \"Agricultural AI: Leveraging Deep Learning for Improved Crop Yield and Resource Efficiency\", \"title3\": \"Precision Agriculture through Deep Learning: A Review of the State-of-the-Art Models and Applications\" , \"keywords\": \"Agricultural AI, Deep Learning, Precision Agriculture, Crop Yield, Resource Efficiency, Machine Learning, Computer Vision, Natural Language Processing\" }\n"
     ]
    },
    {
     "name": "stderr",
     "output_type": "stream",
     "text": [
      "llama_perf_context_print:        load time =  102151.26 ms\n",
      "llama_perf_context_print: prompt eval time =   62765.33 ms /  5508 tokens (   11.40 ms per token,    87.76 tokens per second)\n",
      "llama_perf_context_print:        eval time =   50383.78 ms /   116 runs   (  434.34 ms per token,     2.30 tokens per second)\n",
      "llama_perf_context_print:       total time =  117047.65 ms /  5624 tokens\n",
      "Llama.generate: 101 prefix-match hit, remaining 8242 prompt tokens to eval\n"
     ]
    },
    {
     "name": "stdout",
     "output_type": "stream",
     "text": [
      "{ \"title1\": \"Advances in Cotton Fiber Characterization and Quality Assessment\", \"title2\": \"Optimization of Non-Destructive Testing Methods for Cotton Fibers\", \"title3\": \"Machine Learning and Deep Learning Applications in Cotton Industry\" , \"keywords\": \"Cotton fibers, Non-destructive testing, Machine learning, Deep learning, Spectral classification, Optical properties, Cotton quality assessment, Robotic cotton harvesting, Autonomous systems, Agricultural robotics, Cotton boll detection, Image processing, Microwave sensing technology, Acoustic wave propagation, Maize stalk lodging\" }\n"
     ]
    },
    {
     "name": "stderr",
     "output_type": "stream",
     "text": [
      "llama_perf_context_print:        load time =  102151.26 ms\n",
      "llama_perf_context_print: prompt eval time =  117707.54 ms /  8242 tokens (   14.28 ms per token,    70.02 tokens per second)\n",
      "llama_perf_context_print:        eval time =   56197.56 ms /    92 runs   (  610.84 ms per token,     1.64 tokens per second)\n",
      "llama_perf_context_print:       total time =  175823.05 ms /  8334 tokens\n",
      "Llama.generate: 101 prefix-match hit, remaining 3897 prompt tokens to eval\n"
     ]
    },
    {
     "name": "stdout",
     "output_type": "stream",
     "text": [
      "{ \"title1\": \"Enhancing Precision Livestock Monitoring with AI-Driven Camera Systems\", \"title2\": \"Automated Detection of Livestock Health and Welfare Conditions\", \"title3\": \"Precision Livestock Monitoring using Multi-Camera Systems and Deep Learning Techniques\", \"keywords\": \"Livestock monitoring, AI-driven camera systems, automated detection, health and welfare conditions, precision livestock monitoring, multi-camera systems, deep learning techniques\" }\n"
     ]
    },
    {
     "name": "stderr",
     "output_type": "stream",
     "text": [
      "llama_perf_context_print:        load time =  102151.26 ms\n",
      "llama_perf_context_print: prompt eval time =   36854.18 ms /  3897 tokens (    9.46 ms per token,   105.74 tokens per second)\n",
      "llama_perf_context_print:        eval time =   25168.19 ms /    76 runs   (  331.16 ms per token,     3.02 tokens per second)\n",
      "llama_perf_context_print:       total time =   63587.22 ms /  3973 tokens\n",
      "Llama.generate: 101 prefix-match hit, remaining 6417 prompt tokens to eval\n"
     ]
    },
    {
     "name": "stdout",
     "output_type": "stream",
     "text": [
      "{ \"title1\": \"Advanced Precision Agriculture Technologies for Sustainable Crop Production\", \"title2\": \"Optimizing Crop Growth and Yield through IoT and Machine Learning\", \"title3\": \"Precision Agriculture for Climate Change Mitigation and Adaptation\" ,\"keywords\": \"Precision Agriculture, IoT, Machine Learning, Sustainable Crop Production, Climate Change Mitigation, Adaptation\" }\n"
     ]
    },
    {
     "name": "stderr",
     "output_type": "stream",
     "text": [
      "llama_perf_context_print:        load time =  102151.26 ms\n",
      "llama_perf_context_print: prompt eval time =   78321.44 ms /  6417 tokens (   12.21 ms per token,    81.93 tokens per second)\n",
      "llama_perf_context_print:        eval time =   41220.19 ms /    84 runs   (  490.72 ms per token,     2.04 tokens per second)\n",
      "llama_perf_context_print:       total time =  121329.71 ms /  6501 tokens\n",
      "Llama.generate: 101 prefix-match hit, remaining 6196 prompt tokens to eval\n"
     ]
    },
    {
     "name": "stdout",
     "output_type": "stream",
     "text": [
      "{ \"title1\": \"Sensing the Future of Harvesting: Advanced Technologies for Fruit Quality Assessment\", \"title2\": \"Non-Destructive Evaluation of Fruit Firmness and Quality\", \"title3\": \"Automated Sorting and Grading of Fruits and Vegetables\" , \"keywords\": \"Fruit quality assessment, non-destructive testing, machine learning, computer vision, automation, precision agriculture\" }\n"
     ]
    },
    {
     "name": "stderr",
     "output_type": "stream",
     "text": [
      "llama_perf_context_print:        load time =  102151.26 ms\n",
      "llama_perf_context_print: prompt eval time =   73572.09 ms /  6196 tokens (   11.87 ms per token,    84.22 tokens per second)\n",
      "llama_perf_context_print:        eval time =   20900.76 ms /    44 runs   (  475.02 ms per token,     2.11 tokens per second)\n",
      "llama_perf_context_print:       total time =   95338.63 ms /  6240 tokens\n",
      "Llama.generate: 101 prefix-match hit, remaining 5509 prompt tokens to eval\n"
     ]
    },
    {
     "name": "stdout",
     "output_type": "stream",
     "text": [
      "{ \"title1\": \"Precision Agriculture for Sustainable Crop Management\", \"title2\": \"Soil Health Monitoring and Management\", \"title3\": \"Crop Stress Detection and Management\" ,\"keywords\": \" [\" }\n"
     ]
    },
    {
     "name": "stderr",
     "output_type": "stream",
     "text": [
      "llama_perf_context_print:        load time =  102151.26 ms\n",
      "llama_perf_context_print: prompt eval time =   62710.22 ms /  5509 tokens (   11.38 ms per token,    87.85 tokens per second)\n",
      "llama_perf_context_print:        eval time =   41189.67 ms /    95 runs   (  433.58 ms per token,     2.31 tokens per second)\n",
      "llama_perf_context_print:       total time =  106052.92 ms /  5604 tokens\n",
      "Llama.generate: 101 prefix-match hit, remaining 4641 prompt tokens to eval\n"
     ]
    },
    {
     "name": "stdout",
     "output_type": "stream",
     "text": [
      "{ \"title1\": \"Rapid Detection of Antimicrobial Resistance in Bacteria\", \"title2\": \"Sensing Foodborne Pathogens with Advanced Technologies\", \"title3\": \"Non-Destructive Detection of Myopathies in Chicken Breast\" , \"keywords\": \"Antimicrobial Resistance, Food Safety, Myopathies, Near-Infrared Spectroscopy, CRISPR/Cas Systems, Magnetic Nanoparticles, Microwave Dielectric Properties\" }\n"
     ]
    },
    {
     "name": "stderr",
     "output_type": "stream",
     "text": [
      "llama_perf_context_print:        load time =  102151.26 ms\n",
      "llama_perf_context_print: prompt eval time =   48165.22 ms /  4641 tokens (   10.38 ms per token,    96.36 tokens per second)\n",
      "llama_perf_context_print:        eval time =   20363.07 ms /    54 runs   (  377.09 ms per token,     2.65 tokens per second)\n",
      "llama_perf_context_print:       total time =   69720.04 ms /  4695 tokens\n",
      "Llama.generate: 101 prefix-match hit, remaining 4368 prompt tokens to eval\n"
     ]
    },
    {
     "name": "stdout",
     "output_type": "stream",
     "text": [
      "{ \"title1\": \"Advancing Precision Agriculture through Machine Learning and Data Analytics\", \"title2\": \"Exploring the Frontiers of Agricultural Engineering\", \"title3\": \"Sustainable Agriculture and Water Management through Innovative Technologies\" ,\"keywords\": \"[\" }\n"
     ]
    },
    {
     "name": "stderr",
     "output_type": "stream",
     "text": [
      "llama_perf_context_print:        load time =  102151.26 ms\n",
      "llama_perf_context_print: prompt eval time =   43893.29 ms /  4368 tokens (   10.05 ms per token,    99.51 tokens per second)\n",
      "llama_perf_context_print:        eval time =   33532.57 ms /    93 runs   (  360.57 ms per token,     2.77 tokens per second)\n",
      "llama_perf_context_print:       total time =   80063.28 ms /  4461 tokens\n",
      "Llama.generate: 101 prefix-match hit, remaining 5685 prompt tokens to eval\n"
     ]
    },
    {
     "name": "stdout",
     "output_type": "stream",
     "text": [
      "{ \"title1\": \"Wireless Communications for the Connected Farm\", \"title2\": \"Smart Beehive Health Monitoring and Forecasting\", \"title3\": \"Sensors-Driven Sustainable Agriculture\" ,\"keywords\": \"Wireless Communications, Connected Farm, Smart Beehive, Sustainable Agriculture, IoT, Precision Agriculture, Data Analytics, Agriculture Technology, Farm Management, Climate Resilience, Soil NPK Monitoring, Sensor Adoption Barriers, Adaptive Governance Framework\" }\n"
     ]
    },
    {
     "name": "stderr",
     "output_type": "stream",
     "text": [
      "llama_perf_context_print:        load time =  102151.26 ms\n",
      "llama_perf_context_print: prompt eval time =   64818.06 ms /  5685 tokens (   11.40 ms per token,    87.71 tokens per second)\n",
      "llama_perf_context_print:        eval time =   36038.40 ms /    81 runs   (  444.92 ms per token,     2.25 tokens per second)\n",
      "llama_perf_context_print:       total time =  102702.57 ms /  5766 tokens\n"
     ]
    },
    {
     "name": "stdout",
     "output_type": "stream",
     "text": [
      "{ \"title1\": \"Automated Harvesting Systems for Sustainable Agriculture\", \"title2\": \"Precision Farming and Robotics\", \"title3\": \"Intelligent Farming Systems for Efficient Crop Management\" ,\"keywords\": \"agricultural robotics, precision farming, autonomous harvesting, machine vision, computer vision, deep learning, artificial intelligence, automation, sustainability, crop management, farming systems\" }\n",
      "Processing time: 2377.5734 seconds\n"
     ]
    }
   ],
   "source": [
    "import json\n",
    "import time\n",
    "\n",
    "start_time = time.time()\n",
    "# Iterate over the sessions and prompt the LLM for the session title and keywords\n",
    "for session_key, session_value in sessions_dict.items():\n",
    "    messages=[\n",
    "    {   \"role\": \"user\", \n",
    "        \"content\": (\"I am organizing oral research presentation sessions for the American Society of Biological and Agricultural Engineers\"\n",
    "                \"Annual International Meeting. Please provide 3 options for the name/title of a session. \"\n",
    "                    \"Also provide 5 keywords describing the session. The name and keywords should highlight the commonality among all presentations. \"\n",
    "                    \"The target audience for titles and keywords is engineering designers and researchers.\"\n",
    "                    \"The title should be descriptive of the content and be interesting and engaging. \\n\"\n",
    "                    \"The titles and abstracts for presentations assigned to this session are:\\n\"\n",
    "                    + str(session_value['Presentations'])\n",
    "                    )\n",
    "    },]\n",
    "    session_titleAbsLlama = (model.create_chat_completion(\n",
    "        messages=messages,\n",
    "        response_format={\n",
    "        \"type\": \"json_object\",\n",
    "        \"schema\": {\n",
    "            \"type\": \"object\",\n",
    "            \"properties\": {\"title1\": {\"type\": \"string\"}, \"title2\": {\"type\": \"string\"}, \"title3\": {\"type\": \"string\"}, \"keywords\": {\"type\": \"string\"}},\n",
    "            \"required\": [\"title1\", \"title2\", \"title3\", \"keywords\"],\n",
    "            },\n",
    "        },\n",
    "    ))\n",
    "    text_answer = session_titleAbsLlama['choices'][0]['message']['content']\n",
    "    print(text_answer)\n",
    "\n",
    "    try:\n",
    "        # Parse the JSON string into a Python dictionary\n",
    "        answer_dict = json.loads(text_answer)\n",
    "\n",
    "        # Access the values using the dictionary keys\n",
    "        title_1 = answer_dict['title1']\n",
    "        title_2 = answer_dict['title2']\n",
    "        title_3 = answer_dict['title3']\n",
    "        keywords = answer_dict['keywords']\n",
    "\n",
    "        # Now you can save the titles and keywords\n",
    "        session_value['Llama NoEx Title 1'] = title_1\n",
    "        session_value['Llama NoEx Title 2'] = title_2\n",
    "        session_value['Llama NoEx Title 3'] = title_3\n",
    "        session_value['Llama NoEx Keywords'] = keywords\n",
    "\n",
    "    except json.JSONDecodeError as e:\n",
    "        print(f\"Error decoding JSON: {e}\")\n",
    "        print(f\"Problematic JSON string: {text_answer}\")\n",
    "        # Handle the error appropriately, e.g., set default values or skip the session\n",
    "        session_value['Llama NoEx Title 1'] = \"Error: Could not generate title\"\n",
    "        session_value['Llama NoEx Title 2'] = \"Error: Could not generate title\"\n",
    "        session_value['Llama NoEx Title 3'] = \"Error: Could not generate title\"\n",
    "        session_value['Llama NoEx Keywords'] = \"Error: Could not generate keywords\"\n",
    "end_time = time.time()\n",
    "llama_elapsed_time = end_time - start_time\n",
    "print(f\"Processing time: {llama_elapsed_time:.4f} seconds\")"
   ]
  },
  {
   "cell_type": "markdown",
   "id": "70ff809e",
   "metadata": {},
   "source": [
    "#### Save Current Titles"
   ]
  },
  {
   "cell_type": "code",
   "execution_count": 54,
   "id": "05a43098",
   "metadata": {},
   "outputs": [],
   "source": [
    "df_sessions = pd.DataFrame.from_dict(sessions_dict, orient='index')\n",
    "df_sessions.to_csv('Gemini_Llama_sessions.csv', index=True)\n",
    "import pickle\n",
    "df_sessions.to_pickle('AI_sessions.pkl')\n",
    "with open(\"AI_sessions_dict.pkl\", \"wb\") as f:\n",
    "    pickle.dump(sessions_dict, f) "
   ]
  },
  {
   "cell_type": "markdown",
   "id": "138ba3c8",
   "metadata": {},
   "source": [
    "# Moving Calculations from the Web App\n",
    "The web app was running slowly. Since the sessions do not change. There is no need to recalculate session statistics. This code performs the calculations of those statistics. It is largely similar to the analysis code used elsewhere in this Jupyter Notebook. However, it ensures the dataframes are stuctured for display so there are some slight differences."
   ]
  },
  {
   "cell_type": "code",
   "execution_count": 1,
   "id": "543a68a5",
   "metadata": {},
   "outputs": [],
   "source": [
    "import pandas as pd\n",
    "import pickle\n",
    "import cryptpandas as crp\n",
    "# Load DataFrames\n",
    "# Load presentations first.\n",
    "# df_presentations = pd.read_pickle(\"aim2025_clustered_presentations_no_abstracts.pkl\")\n",
    "# Load the presentations with abstracts\n",
    "df_presentations = pd.read_pickle('itsc_clustered_presentations.pkl')\n",
    "# Load sessions next\n",
    "df_AI_sessions = pd.read_pickle(\"AI_sessions.pkl\")\n",
    "# Load the similarity matrix\n",
    "df_similarity = pd.read_pickle(\"itsc_oral_app_similarities.pkl\")"
   ]
  },
  {
   "cell_type": "code",
   "execution_count": 2,
   "id": "9ad8fdde",
   "metadata": {},
   "outputs": [],
   "source": [
    "def calculate_session_similarity(presentations, similarity_matrix, session_column='Original Session'):\n",
    "    \"\"\"\n",
    "    Calculates the average similarity between presentations in different sessions.\n",
    "\n",
    "    Args:\n",
    "      presentations: A pandas DataFrame with presentation information.\n",
    "      similarity_matrix: A NumPy array representing the pairwise similarity between presentations.\n",
    "      session_column: The column name in the DataFrame that specifies the session.\n",
    "\n",
    "    Returns:\n",
    "      A tuple containing:\n",
    "        - A NumPy array representing the session-level similarity matrix.\n",
    "        - A NumPy array of unique session names in the order they appear in the similarity matrix.\n",
    "    \"\"\"\n",
    "    # Create a new presentation dataframe that has constant indexing.\n",
    "    presentations = presentations.reset_index()\n",
    "    sessions = presentations[session_column].unique()\n",
    "    num_sessions = len(sessions)\n",
    "    session_similarity = np.zeros((num_sessions, num_sessions))\n",
    "\n",
    "    for i, session1 in enumerate(sessions):\n",
    "        for j, session2 in enumerate(sessions):\n",
    "            pres_idx1 = presentations[presentations[session_column] == session1].index\n",
    "            pres_idx2 = presentations[presentations[session_column] == session2].index\n",
    "            session_similarity[i, j] = np.mean(similarity_matrix[np.ix_(pres_idx1, pres_idx2)])\n",
    "\n",
    "    return session_similarity, sessions"
   ]
  },
  {
   "cell_type": "code",
   "execution_count": 5,
   "id": "4dc2bb07",
   "metadata": {},
   "outputs": [],
   "source": [
    "# Drop the unnecessary \"index\" column if it exists\n",
    "if 'index' in df_presentations.columns:\n",
    "    df_presentations = df_presentations.drop(columns=['index'])"
   ]
  },
  {
   "cell_type": "code",
   "execution_count": 6,
   "id": "bb7e5529",
   "metadata": {},
   "outputs": [],
   "source": [
    "# Calculate statistics for the original session placements\n",
    "# Create a session similarity matrix that contains the similarities from the original sessions.\n",
    "orig_session_similarity_matrix, sessions = calculate_session_similarity(df_presentations, df_similarity.to_numpy(), session_column='Original Session')\n",
    "df_orig_session_similarity = pd.DataFrame(orig_session_similarity_matrix, index=sessions, columns=sessions)\n",
    "\n",
    "pres_orig_session_similarity, orig_session_similarity = calculate_cluster_similarities(df_similarity.to_numpy(), np.array(df_presentations['Original Session']))\n",
    "original_session_list, original_session_dict = create_session_index_lists(df_presentations, session_column='Original Session')\n",
    "original_analysis_results = analyze_sessions(original_session_dict, df_similarity.to_numpy())\n",
    "df_presentations['Original Presentation-Session Similarity'] = pres_orig_session_similarity\n",
    "df_presentations['Original Session Similarity'] = df_presentations['Original Session'].map(orig_session_similarity)\n",
    "\n",
    "# Calculate standard deviation for each 'Original Session'\n",
    "df_presentations['Original Session Std Dev'] = df_presentations.groupby('Original Session')['Original Presentation-Session Similarity'].transform('std')\n",
    "# Calculate deviation from the mean\n",
    "df_presentations['Original Raw Deviation'] = df_presentations['Original Presentation-Session Similarity'] - df_presentations['Original Session Similarity']\n",
    "# Calculate standardized deviation\n",
    "df_presentations['Original Standardized Deviation'] = df_presentations['Original Raw Deviation'] / df_presentations['Original Session Std Dev']\n",
    "\n",
    "# Create the Original Sessions DataFrame\n",
    "df_sessions = df_presentations[['Original Session', 'Original Session Similarity', 'Original Session Std Dev']].copy()\n",
    "# Drop duplicate rows, keeping only the first instance, then reindex.\n",
    "df_sessions.drop_duplicates(subset=['Original Session'], keep='first', inplace=True)\n",
    "df_sessions = df_sessions.reset_index(drop=True)\n",
    "\n",
    "# Calculate statistics for the clustering session placements\n",
    "# Create a session similarity matrix that contains the similarities from the clustering sessions.\n",
    "clustering_session_similarity_matrix, clustering_sessions = calculate_session_similarity(df_presentations, df_similarity.to_numpy(), session_column='Clustering Session')\n",
    "df_clustering_session_similarity = pd.DataFrame(clustering_session_similarity_matrix, index=clustering_sessions, columns=clustering_sessions)\n",
    "\n",
    "pres_clustering_session_similarity, clustering_session_similarity = calculate_cluster_similarities(df_similarity.to_numpy(), np.array(df_presentations['Clustering Session']))\n",
    "cluster_session_list, cluster_session_dict = create_session_index_lists(df_presentations, session_column='Clustering Session')\n",
    "cluster_analysis_results = analyze_sessions(cluster_session_dict, df_similarity.to_numpy())\n",
    "df_presentations['Presentation-Session Similarity - Clustering'] = pres_clustering_session_similarity\n",
    "df_presentations['Session Similarity - Clustering'] = df_presentations['Clustering Session'].map(clustering_session_similarity)\n",
    "\n",
    "# Calculate standard deviation for each 'Clustering Session'\n",
    "df_presentations['Session Std Dev - Clustering'] = df_presentations.groupby('Clustering Session')['Presentation-Session Similarity - Clustering'].transform('std')\n",
    "# Calculate deviation from the mean\n",
    "df_presentations['Raw Deviation - Clustering'] = df_presentations['Presentation-Session Similarity - Clustering'] - df_presentations['Session Similarity - Clustering']\n",
    "# Calculate standardized deviation\n",
    "df_presentations['Standardized Deviation - Clustering'] = df_presentations['Raw Deviation - Clustering'] / df_presentations['Session Std Dev - Clustering']\n",
    "\n",
    "# Create the Clustering Sessions DataFrame\n",
    "df_clustering_sessions = df_presentations[['Clustering Session', 'Session Similarity - Clustering', 'Session Std Dev - Clustering']].copy()\n",
    "# Drop duplicate rows, keeping only the first instance, then reindex.\n",
    "df_clustering_sessions.drop_duplicates(subset=['Clustering Session'], keep='first', inplace=True)\n",
    "df_clustering_sessions = df_clustering_sessions.reset_index(drop=True)\n",
    "# Exclude 'Indices' and 'Presentations' columns from df_AI_sessions\n",
    "columns_to_merge = [col for col in df_AI_sessions.columns if col not in ['Indices', 'Presentations']]\n",
    "\n",
    "# Merge the data from df_AI_sessions into df_clustering_sessions\n",
    "df_clustering_sessions = df_clustering_sessions.merge(\n",
    "    df_AI_sessions[columns_to_merge], \n",
    "    left_on='Clustering Session', \n",
    "    right_index=True, \n",
    "    how='left'\n",
    ")\n",
    "\n",
    "# Update column names for display\n",
    "df_clustering_sessions = df_clustering_sessions.rename(\n",
    "    columns=lambda col: col.replace(\" MinEx \", \" Minimal Example \")\n",
    "                           .replace(\" NoEx \", \" No Example \")\n",
    "                           .replace(\" Ex \", \" Complete Example \")  # Add a space before and after \"Ex\" to avoid partial matches\n",
    ")\n"
   ]
  },
  {
   "cell_type": "markdown",
   "id": "b1d12dc7",
   "metadata": {},
   "source": [
    "### Export data for the web app"
   ]
  },
  {
   "cell_type": "code",
   "execution_count": 7,
   "id": "d4ee87d8",
   "metadata": {},
   "outputs": [],
   "source": [
    "df_presentations_no_abstracts = df_presentations.drop(columns=['Title and Abstract','Abstract'])\n",
    "df_presentations_no_abstracts.to_pickle('itsc_clustered_presentations_no_abstracts.pkl')\n",
    "df_clustering_sessions.to_pickle('AI_sessionsITSC.pkl')\n",
    "df_sessions.to_pickle('Original_sessionsITSC.pkl')\n",
    "df_clustering_session_similarity.to_pickle('Clustering_session_similarityITSC.pkl')\n",
    "df_orig_session_similarity.to_pickle('Original_session_similarityITSC.pkl')\n",
    "with open('Cluster_analysis_resultsITSC.pkl', 'wb') as f:\n",
    "    pickle.dump(cluster_analysis_results, f)   \n",
    "with open('Original_analysis_resultsITSC.pkl', 'wb') as f:\n",
    "    pickle.dump(original_analysis_results, f)"
   ]
  },
  {
   "cell_type": "code",
   "execution_count": 8,
   "id": "cec10fca",
   "metadata": {},
   "outputs": [],
   "source": [
    "import pickle\n",
    "\n",
    "with open('cluster_session_listITSC.pkl', 'wb') as f:\n",
    "    pickle.dump(cluster_session_list, f)\n",
    "\n",
    "with open('original_session_listITSC.pkl', 'wb') as f:\n",
    "    pickle.dump(original_session_list, f)"
   ]
  }
 ],
 "metadata": {
  "kernelspec": {
   "display_name": "text_sort",
   "language": "python",
   "name": "python3"
  },
  "language_info": {
   "codemirror_mode": {
    "name": "ipython",
    "version": 3
   },
   "file_extension": ".py",
   "mimetype": "text/x-python",
   "name": "python",
   "nbconvert_exporter": "python",
   "pygments_lexer": "ipython3",
   "version": "3.12.10"
  }
 },
 "nbformat": 4,
 "nbformat_minor": 5
}
